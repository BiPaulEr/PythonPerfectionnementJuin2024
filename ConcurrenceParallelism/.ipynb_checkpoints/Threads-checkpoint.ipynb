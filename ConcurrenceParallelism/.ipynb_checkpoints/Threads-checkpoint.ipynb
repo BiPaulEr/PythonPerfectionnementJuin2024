{
 "cells": [
  {
   "cell_type": "markdown",
   "id": "fe4d1dd8-ddbe-4772-98f4-ebacbf0d0f3f",
   "metadata": {},
   "source": [
    "Démonstration"
   ]
  },
  {
   "cell_type": "code",
   "execution_count": 13,
   "id": "f1c60ebc-7399-4f7e-a649-b8e95196005e",
   "metadata": {},
   "outputs": [
    {
     "name": "stdout",
     "output_type": "stream",
     "text": [
      "hello world\n"
     ]
    }
   ],
   "source": [
    "from threading import Thread \n",
    "import time\n",
    "def simple_hello_world():\n",
    "    time.sleep(5)\n",
    "    print(\"hello world\")\n",
    "    \n",
    "t1 = Thread(target=simple_hello_world)\n",
    "t1.start()"
   ]
  },
  {
   "cell_type": "code",
   "execution_count": 11,
   "id": "2518a401-abba-4cd9-ac01-f363b19747d4",
   "metadata": {},
   "outputs": [
    {
     "name": "stdout",
     "output_type": "stream",
     "text": [
      "hello world\n",
      "threads can only be started once\n",
      "\n"
     ]
    }
   ],
   "source": [
    "from threading import Thread \n",
    "\n",
    "def simple_hello_world():\n",
    "    print(\"hello world\")\n",
    "    \n",
    "t1 = Thread(target=simple_hello_world)\n",
    "t1.start()\n",
    "try:\n",
    "    t1.start()\n",
    "except RuntimeError as e:\n",
    "    print(f\"\\n{e}\")"
   ]
  },
  {
   "cell_type": "code",
   "execution_count": 15,
   "id": "29146b14-3fde-4d78-8c4d-c466f06c2c08",
   "metadata": {},
   "outputs": [
    {
     "name": "stdout",
     "output_type": "stream",
     "text": [
      "Thread-18 (simple_hello_world)\n",
      "38628\n",
      "True\n",
      "Thread-19 (simple_hello_world)\n",
      "10044\n",
      "True\n",
      "hello world\n",
      "hello world\n"
     ]
    }
   ],
   "source": [
    "def info(thread):\n",
    "    print(thread.name)\n",
    "    print(thread.ident)\n",
    "    print(thread.is_alive())\n",
    "\n",
    "t1 = Thread(target=simple_hello_world)\n",
    "t1.start()\n",
    "info(t1)\n",
    "\n",
    "t2 = Thread(target=simple_hello_world)\n",
    "t2.start()\n",
    "info(t2)"
   ]
  },
  {
   "cell_type": "code",
   "execution_count": 17,
   "id": "a7241bed-3482-48a3-afc9-fe438e21a882",
   "metadata": {},
   "outputs": [
    {
     "name": "stdout",
     "output_type": "stream",
     "text": [
      "*****.*.*.*.*.*....."
     ]
    }
   ],
   "source": [
    "def print_to_console(caractere):\n",
    "    for i in range(0, 10):\n",
    "        print(caractere, end=\"\", flush=True)\n",
    "        time.sleep(2)\n",
    "thread_asterix = Thread(target=print_to_console, args=\"*\")\n",
    "thread_point = Thread(target=print_to_console, args=\".\")\n",
    "thread_asterix.start()\n",
    "time.sleep(10)\n",
    "thread_point.start()"
   ]
  },
  {
   "cell_type": "code",
   "execution_count": 19,
   "id": "6347c650-6f5b-4a18-83d0-60664250e02d",
   "metadata": {},
   "outputs": [
    {
     "name": "stdout",
     "output_type": "stream",
     "text": [
      "*"
     ]
    },
    {
     "ename": "RuntimeError",
     "evalue": "cannot join thread before it is started",
     "output_type": "error",
     "traceback": [
      "\u001b[1;31m---------------------------------------------------------------------------\u001b[0m",
      "\u001b[1;31mRuntimeError\u001b[0m                              Traceback (most recent call last)",
      "Cell \u001b[1;32mIn[19], line 8\u001b[0m\n\u001b[0;32m      6\u001b[0m thread_point \u001b[38;5;241m=\u001b[39m Thread(target\u001b[38;5;241m=\u001b[39mprint_to_console, args\u001b[38;5;241m=\u001b[39m\u001b[38;5;124m\"\u001b[39m\u001b[38;5;124m.\u001b[39m\u001b[38;5;124m\"\u001b[39m)\n\u001b[0;32m      7\u001b[0m thread_asterix\u001b[38;5;241m.\u001b[39mstart()\n\u001b[1;32m----> 8\u001b[0m \u001b[43mthread_point\u001b[49m\u001b[38;5;241;43m.\u001b[39;49m\u001b[43mjoin\u001b[49m\u001b[43m(\u001b[49m\u001b[43m)\u001b[49m\n\u001b[0;32m     10\u001b[0m thread_asterix\u001b[38;5;241m.\u001b[39mjoin()\n\u001b[0;32m     11\u001b[0m thread_point\u001b[38;5;241m.\u001b[39mstart()\n",
      "File \u001b[1;32m~\\AppData\\Local\\Programs\\Python\\Python312\\Lib\\threading.py:1121\u001b[0m, in \u001b[0;36mThread.join\u001b[1;34m(self, timeout)\u001b[0m\n\u001b[0;32m   1119\u001b[0m     \u001b[38;5;28;01mraise\u001b[39;00m \u001b[38;5;167;01mRuntimeError\u001b[39;00m(\u001b[38;5;124m\"\u001b[39m\u001b[38;5;124mThread.__init__() not called\u001b[39m\u001b[38;5;124m\"\u001b[39m)\n\u001b[0;32m   1120\u001b[0m \u001b[38;5;28;01mif\u001b[39;00m \u001b[38;5;129;01mnot\u001b[39;00m \u001b[38;5;28mself\u001b[39m\u001b[38;5;241m.\u001b[39m_started\u001b[38;5;241m.\u001b[39mis_set():\n\u001b[1;32m-> 1121\u001b[0m     \u001b[38;5;28;01mraise\u001b[39;00m \u001b[38;5;167;01mRuntimeError\u001b[39;00m(\u001b[38;5;124m\"\u001b[39m\u001b[38;5;124mcannot join thread before it is started\u001b[39m\u001b[38;5;124m\"\u001b[39m)\n\u001b[0;32m   1122\u001b[0m \u001b[38;5;28;01mif\u001b[39;00m \u001b[38;5;28mself\u001b[39m \u001b[38;5;129;01mis\u001b[39;00m current_thread():\n\u001b[0;32m   1123\u001b[0m     \u001b[38;5;28;01mraise\u001b[39;00m \u001b[38;5;167;01mRuntimeError\u001b[39;00m(\u001b[38;5;124m\"\u001b[39m\u001b[38;5;124mcannot join current thread\u001b[39m\u001b[38;5;124m\"\u001b[39m)\n",
      "\u001b[1;31mRuntimeError\u001b[0m: cannot join thread before it is started"
     ]
    },
    {
     "name": "stdout",
     "output_type": "stream",
     "text": [
      "*********"
     ]
    }
   ],
   "source": [
    "def print_to_console(caractere):\n",
    "    for i in range(0, 10):\n",
    "        print(caractere, end=\"\", flush=True)\n",
    "        time.sleep(1)\n",
    "thread_asterix = Thread(target=print_to_console, args=\"*\")\n",
    "thread_point = Thread(target=print_to_console, args=\".\")\n",
    "thread_asterix.start()\n",
    "\n",
    "thread_asterix.join()\n",
    "thread_point.start()"
   ]
  },
  {
   "cell_type": "code",
   "execution_count": null,
   "id": "25fb3c27-71f1-4004-9ef7-24ca034d10dc",
   "metadata": {},
   "outputs": [],
   "source": []
  }
 ],
 "metadata": {
  "kernelspec": {
   "display_name": "Python 3 (ipykernel)",
   "language": "python",
   "name": "python3"
  },
  "language_info": {
   "codemirror_mode": {
    "name": "ipython",
    "version": 3
   },
   "file_extension": ".py",
   "mimetype": "text/x-python",
   "name": "python",
   "nbconvert_exporter": "python",
   "pygments_lexer": "ipython3",
   "version": "3.12.0"
  }
 },
 "nbformat": 4,
 "nbformat_minor": 5
}
