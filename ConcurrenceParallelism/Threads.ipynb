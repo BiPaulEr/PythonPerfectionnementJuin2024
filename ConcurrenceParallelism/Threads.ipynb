{
 "cells": [
  {
   "cell_type": "markdown",
   "id": "fe4d1dd8-ddbe-4772-98f4-ebacbf0d0f3f",
   "metadata": {},
   "source": [
    "Démonstration"
   ]
  },
  {
   "cell_type": "code",
   "execution_count": 13,
   "id": "f1c60ebc-7399-4f7e-a649-b8e95196005e",
   "metadata": {},
   "outputs": [
    {
     "name": "stdout",
     "output_type": "stream",
     "text": [
      "hello world\n"
     ]
    }
   ],
   "source": [
    "from threading import Thread \n",
    "import time\n",
    "def simple_hello_world():\n",
    "    time.sleep(5)\n",
    "    print(\"hello world\")\n",
    "    \n",
    "t1 = Thread(target=simple_hello_world)\n",
    "t1.start()"
   ]
  },
  {
   "cell_type": "code",
   "execution_count": 11,
   "id": "2518a401-abba-4cd9-ac01-f363b19747d4",
   "metadata": {},
   "outputs": [
    {
     "name": "stdout",
     "output_type": "stream",
     "text": [
      "hello world\n",
      "threads can only be started once\n",
      "\n"
     ]
    }
   ],
   "source": [
    "from threading import Thread \n",
    "\n",
    "def simple_hello_world():\n",
    "    print(\"hello world\")\n",
    "    \n",
    "t1 = Thread(target=simple_hello_world)\n",
    "t1.start()\n",
    "try:\n",
    "    t1.start()\n",
    "except RuntimeError as e:\n",
    "    print(f\"\\n{e}\")"
   ]
  },
  {
   "cell_type": "code",
   "execution_count": 15,
   "id": "29146b14-3fde-4d78-8c4d-c466f06c2c08",
   "metadata": {},
   "outputs": [
    {
     "name": "stdout",
     "output_type": "stream",
     "text": [
      "Thread-18 (simple_hello_world)\n",
      "38628\n",
      "True\n",
      "Thread-19 (simple_hello_world)\n",
      "10044\n",
      "True\n",
      "hello world\n",
      "hello world\n"
     ]
    }
   ],
   "source": [
    "def info(thread):\n",
    "    print(thread.name)\n",
    "    print(thread.ident)\n",
    "    print(thread.is_alive())\n",
    "\n",
    "t1 = Thread(target=simple_hello_world)\n",
    "t1.start()\n",
    "info(t1)\n",
    "\n",
    "t2 = Thread(target=simple_hello_world)\n",
    "t2.start()\n",
    "info(t2)"
   ]
  },
  {
   "cell_type": "code",
   "execution_count": 17,
   "id": "a7241bed-3482-48a3-afc9-fe438e21a882",
   "metadata": {},
   "outputs": [
    {
     "name": "stdout",
     "output_type": "stream",
     "text": [
      "*****.*.*.*.*.*....."
     ]
    }
   ],
   "source": [
    "def print_to_console(caractere):\n",
    "    for i in range(0, 10):\n",
    "        print(caractere, end=\"\", flush=True)\n",
    "        time.sleep(2)\n",
    "thread_asterix = Thread(target=print_to_console, args=\"*\")\n",
    "thread_point = Thread(target=print_to_console, args=\".\")\n",
    "thread_asterix.start()\n",
    "time.sleep(10)\n",
    "thread_point.start()"
   ]
  },
  {
   "cell_type": "code",
   "execution_count": 20,
   "id": "6347c650-6f5b-4a18-83d0-60664250e02d",
   "metadata": {},
   "outputs": [
    {
     "name": "stdout",
     "output_type": "stream",
     "text": [
      "**********.........."
     ]
    }
   ],
   "source": [
    "def print_to_console(caractere):\n",
    "    for i in range(0, 10):\n",
    "        print(caractere, end=\"\", flush=True)\n",
    "        time.sleep(1)\n",
    "thread_asterix = Thread(target=print_to_console, args=\"*\")\n",
    "thread_point = Thread(target=print_to_console, args=\".\")\n",
    "thread_asterix.start()\n",
    "\n",
    "thread_asterix.join()\n",
    "thread_point.start()"
   ]
  },
  {
   "cell_type": "code",
   "execution_count": 24,
   "id": "25fb3c27-71f1-4004-9ef7-24ca034d10dc",
   "metadata": {},
   "outputs": [
    {
     "name": "stdout",
     "output_type": "stream",
     "text": [
      "AsterixPoint\n",
      ".\n",
      "*.**..**..**.*..**."
     ]
    }
   ],
   "source": [
    "class CustomThread(Thread):\n",
    "    def __init__(self, caractere = \"\", name = None, daemon = None, target = None):\n",
    "        super().__init__(name = name, daemon = daemon, target = target)\n",
    "        self.name = name\n",
    "        self.caractere = caractere\n",
    "        \n",
    "    def run(self):\n",
    "        print(self.name)\n",
    "        for i in range(0, 10):\n",
    "            print(self.caractere, end=\"\", flush=True)\n",
    "            time.sleep(1)\n",
    "thread_asterix = CustomThread(\"*\", name = \"Asterix\")\n",
    "thread_point = CustomThread(\".\", name = \"Point\")\n",
    "thread_asterix.start()\n",
    "thread_point.start()\n",
    "    "
   ]
  },
  {
   "cell_type": "markdown",
   "id": "a1e78c22-2776-4f7b-8078-8ab8dde73d91",
   "metadata": {},
   "source": [
    "Démonstration du besoin de mémoire local par thread"
   ]
  },
  {
   "cell_type": "code",
   "execution_count": 35,
   "id": "59dacc5a-d3f7-4d1f-aacc-138b8f8daa07",
   "metadata": {},
   "outputs": [
    {
     "name": "stdout",
     "output_type": "stream",
     "text": [
      "<_MainThread(MainThread, started 10056)> - Starting \n",
      "T1  Value vaut  None\n",
      "T1  Value vaut  8\n",
      "T2  Value vaut  8\n",
      "T2  Value vaut  0\n",
      "<_MainThread(MainThread, started 10056)>  -  Se Termine\n",
      "T1  Value vaut  0\n",
      "T2  Value vaut  0\n"
     ]
    }
   ],
   "source": [
    "import threading\n",
    "import time\n",
    "import random\n",
    "from threading import Thread\n",
    "\n",
    "class DataPartagee:\n",
    "    value = None\n",
    "    \n",
    "def show_value(data):\n",
    "    try:\n",
    "        val = data.value\n",
    "    except AttributeError:\n",
    "        print(threading.current_thread().name, \" Value n'est pas assignée\")\n",
    "    else:\n",
    "        print(threading.current_thread().name, \" Value vaut \", val)\n",
    "\n",
    "def worker(data):\n",
    "    #print(f\"{threading.current_thread().name} globals : {list(globals().keys())}\")\n",
    "    show_value(data)\n",
    "    data.value = random.randint(0, 10)\n",
    "    show_value(data)\n",
    "    time.sleep(2)\n",
    "    show_value(data)\n",
    "\n",
    "print(threading.current_thread(), \"- Starting \")\n",
    "\n",
    "data = DataPartagee()\n",
    "\n",
    "for i in range(2):\n",
    "    t = Thread(name = \"T\" +str(i+1), target=worker, args=(data,))\n",
    "    t.start()    \n",
    "\n",
    "print(threading.current_thread(), \" -  Se Termine\")"
   ]
  },
  {
   "cell_type": "markdown",
   "id": "ea94af68-efc7-4cbe-bfda-3614fbe80359",
   "metadata": {},
   "source": [
    "Démonstration de la mémoire local par thread\n"
   ]
  },
  {
   "cell_type": "code",
   "execution_count": 39,
   "id": "476d8060-97d8-40dd-9282-f90b0d230b7b",
   "metadata": {},
   "outputs": [
    {
     "name": "stdout",
     "output_type": "stream",
     "text": [
      "<_MainThread(MainThread, started 10056)> - Starting \n",
      "T1  Value n'est pas assignée\n",
      "T1  Value vaut  9\n",
      "T2  Value n'est pas assignée\n",
      "T2  Value vaut  6\n",
      "MainThread  Value n'est pas assignée\n",
      "MainThread  Value vaut  3\n",
      "T1  Value vaut  9\n",
      "MainThread  Value vaut  3\n",
      "<_MainThread(MainThread, started 10056)>  -  Se Termine\n",
      "T2  Value vaut  6\n"
     ]
    }
   ],
   "source": [
    "import threading\n",
    "import time\n",
    "import random\n",
    "from threading import Thread\n",
    "\n",
    "class DataPartagee:\n",
    "    value = None\n",
    "    \n",
    "def show_value(data):\n",
    "    try:\n",
    "        val = data.value\n",
    "    except AttributeError:\n",
    "        print(threading.current_thread().name, \" Value n'est pas assignée\")\n",
    "    else:\n",
    "        print(threading.current_thread().name, \" Value vaut \", val)\n",
    "\n",
    "def worker(data):\n",
    "    #print(f\"{threading.current_thread().name} globals : {list(globals().keys())}\")\n",
    "    show_value(data)\n",
    "    data.value = random.randint(0, 10)\n",
    "    show_value(data)\n",
    "    time.sleep(2)\n",
    "    show_value(data)\n",
    "\n",
    "print(threading.current_thread(), \"- Starting \")\n",
    "\n",
    "local_data = threading.local()\n",
    "\n",
    "for i in range(2):\n",
    "    t = Thread(name = \"T\" +str(i+1), target=worker, args=(local_data,))\n",
    "    t.start()\n",
    "\n",
    "worker(local_data)\n",
    "\n",
    "print(threading.current_thread(), \" -  Se Termine\")"
   ]
  },
  {
   "cell_type": "markdown",
   "id": "e87f3e6a-3ac4-4232-b938-787a4dc03760",
   "metadata": {},
   "source": [
    "Démonstration que la mémoire local est vraiment par thread ! Du coup, il est \"difficile\" de partager de la donnée"
   ]
  },
  {
   "cell_type": "code",
   "execution_count": 2,
   "id": "297c1b80-eabe-4be0-9529-6cdbee906ba0",
   "metadata": {},
   "outputs": [
    {
     "name": "stdout",
     "output_type": "stream",
     "text": [
      "Thread-5 Le résultat est :  Je suis le message  Je suis le message  .\n",
      "Thread-5  lcoal_data.value n'est pas assignée\n",
      "Thread-6 Le résultat est :  Je suis le message  Je suis le message  Je suis le message  Je suis le message  .\n",
      "Thread-6  lcoal_data.value n'est pas assignée\n"
     ]
    }
   ],
   "source": [
    "import threading\n",
    "from threading import Thread\n",
    "class CustomString:\n",
    "    value = \" Je suis le message \"\n",
    "    \n",
    "class StringProcessor(Thread): \n",
    "    def __init__(self, message, target = None, name = None, daemon = False):\n",
    "        super().__init__(target = target, name = name, daemon = daemon)\n",
    "        #attention msg est une reference\n",
    "        self.message = message\n",
    "        #est setter que dans le MainThread attention ne fonctionne pas\n",
    "        local_data.value = message\n",
    "        \n",
    "    def run(self):\n",
    "        try :\n",
    "            self.message.value = self.message.value * 2\n",
    "            print(threading.current_thread().name, \"Le résultat est : \" + self.message.value, \".\")\n",
    "        except AttributeError:\n",
    "            print(threading.current_thread().name, \"self.message.value n'est pas assignée\")\n",
    "        try :\n",
    "            print(local_data.value)\n",
    "        except AttributeError:\n",
    "            print(threading.current_thread().name, \" lcoal_data.value n'est pas assignée\")\n",
    "        \n",
    "local_data = threading.local()\n",
    "customstring = CustomString\n",
    "for i in range(2):\n",
    "    t = StringProcessor(customstring)\n",
    "    t.start()\n"
   ]
  },
  {
   "cell_type": "markdown",
   "id": "1abf3c31-e9dd-4e52-ac82-c8f3a8af46e5",
   "metadata": {},
   "source": [
    "Démonstration qu'il faut passer par les argumetns pour puvoir copier de la mémoire global\n",
    "auc local par thread pour rendre des obkjcts accesible mais unique par thread \n"
   ]
  },
  {
   "cell_type": "code",
   "execution_count": 1,
   "id": "198fd5d8-3725-4d61-9151-b1df17ce627c",
   "metadata": {},
   "outputs": [
    {
     "name": "stdout",
     "output_type": "stream",
     "text": [
      "Thread-5 Le résultat est : Je suis le messageJe suis le message .\n",
      "Thread-6 Le résultat est : Je suis le messageJe suis le messageJe suis le messageJe suis le message .\n"
     ]
    }
   ],
   "source": [
    "import threading\n",
    "from threading import Thread\n",
    "import copy\n",
    "class CustomString:\n",
    "    def __init__(self):\n",
    "        self.value = \"Je suis le message\"\n",
    "    \n",
    "class StringProcessor(Thread): \n",
    "    def __init__(self, message, target = None, name = None, daemon = False):\n",
    "        super().__init__(target = target, name = name, daemon = daemon)\n",
    "        self.message = message\n",
    "        \n",
    "    def run(self):\n",
    "        try :\n",
    "            local_data.message = copy.deepcopy(self.message)\n",
    "            local_data.message.value = local_data.message.value * 2\n",
    "            print(threading.current_thread().name, \"Le résultat est : \" + local_data.message.value, \".\")\n",
    "        except AttributeError:\n",
    "            print(threading.current_thread().name, \"local_data.message.value pas assingee\")\n",
    "        \n",
    "local_data = threading.local()\n",
    "customstring = CustomString()\n",
    "for i in range(2):\n",
    "    t = StringProcessor(customstring)\n",
    "    t.start()"
   ]
  },
  {
   "cell_type": "markdown",
   "id": "1916bc8e-6bf8-42dc-bd1b-ef235322e4f4",
   "metadata": {},
   "source": [
    "Démonstration local accessible par le globals"
   ]
  },
  {
   "cell_type": "code",
   "execution_count": 6,
   "id": "b903ee9d-7058-4d7f-a216-129b02d1200e",
   "metadata": {},
   "outputs": [
    {
     "name": "stdout",
     "output_type": "stream",
     "text": [
      "MainThread  - Starting\n",
      "W0  - No value yet\n",
      "W0  - value = 86\n",
      "W1  - No value yet\n",
      "W1  - value = 54\n",
      "MainThread  - Done\n"
     ]
    }
   ],
   "source": [
    "from threading import Thread, local, current_thread\n",
    "from random import randint\n",
    "\n",
    "def show_value_without_args():\n",
    "    try:\n",
    "        val = local_data.value \n",
    "    except AttributeError:\n",
    "        print(current_thread().name, ' - No value yet')\n",
    "    else:\n",
    "        print(current_thread().name, ' - value =', val)\n",
    "        \n",
    "def worker(): \n",
    "    #print(f\"{current_thread().name} globals: {list(globals().keys())}\")\n",
    "    show_value_without_args()\n",
    "    local_data.value = randint(1, 100)\n",
    "    show_value_without_args()\n",
    "    \n",
    "print(current_thread().name, ' - Starting')\n",
    "local_data = local()\n",
    "\n",
    "for i in range(2):\n",
    "    t = Thread(name='W' + str(i), target=worker)\n",
    "    t.start()\n",
    "    \n",
    "print(current_thread().name, ' - Done')"
   ]
  },
  {
   "cell_type": "markdown",
   "id": "ea291e6a-97a3-41ae-b840-b190d3113795",
   "metadata": {},
   "source": [
    "Exercice sur les Threads Bank Account : Première étape"
   ]
  },
  {
   "cell_type": "code",
   "execution_count": 8,
   "id": "c65803ff-58dc-46e4-bb51-05e1f12faa16",
   "metadata": {},
   "outputs": [
    {
     "name": "stdout",
     "output_type": "stream",
     "text": [
      "MainThread im alive\n",
      "Thread-8 (worker) im alive\n",
      "Thread-9 (worker) im alive\n",
      "Thread-10 (worker) im alive\n",
      "Thread-11 (worker) im alive\n",
      "Thread-12 (worker) im alive\n"
     ]
    }
   ],
   "source": [
    "import threading \n",
    "from threading import Thread\n",
    "\n",
    "def worker():\n",
    "    print(threading.current_thread().name, \"im alive\")\n",
    "\n",
    "worker()\n",
    "for i in range(0, 5):\n",
    "    t = Thread(target=worker)\n",
    "    t.start()"
   ]
  },
  {
   "cell_type": "markdown",
   "id": "b6578772-e649-4146-9b62-52587cc94357",
   "metadata": {},
   "source": [
    "Exercice sur les Threads Bank Account : Deuxieme étape : Thread -> classe"
   ]
  },
  {
   "cell_type": "code",
   "execution_count": 10,
   "id": "b4d8649e-a58e-49af-820e-e3a3ca4ddabc",
   "metadata": {},
   "outputs": [
    {
     "name": "stdout",
     "output_type": "stream",
     "text": [
      "MainThread im alive\n",
      "Thread-18 im alive\n",
      "Thread-19 im alive\n",
      "Thread-20 im alive\n",
      "Thread-21 im alive\n",
      "Thread-22 im alive\n"
     ]
    }
   ],
   "source": [
    "import threading \n",
    "from threading import Thread\n",
    "\n",
    "class TellerThread(Thread):\n",
    "    def __init__(self, name = None, target = None, daemon = False):\n",
    "        super().__init__(name = name, target = target, daemon = daemon)\n",
    "        \n",
    "    def run(self):\n",
    "        print(threading.current_thread().name, \"im alive\")\n",
    "\n",
    "print(threading.current_thread().name, \"im alive\")\n",
    "\n",
    "for i in range(0, 5):\n",
    "    t = TellerThread()\n",
    "    t.start()"
   ]
  },
  {
   "cell_type": "markdown",
   "id": "5c6afe07-d727-4f19-9505-6f1c8af7041a",
   "metadata": {},
   "source": [
    "Exercice sur les Threads Bank Account : Troiseme étape : Classe BankAccount + afficher la balance dans chaque thread\n"
   ]
  },
  {
   "cell_type": "code",
   "execution_count": 11,
   "id": "819e0b65-544b-49c8-8a8d-c9b98d89199a",
   "metadata": {},
   "outputs": [
    {
     "name": "stdout",
     "output_type": "stream",
     "text": [
      "MainThread im alive\n",
      "Thread-23 im alive\n",
      "Thread-23  - Balance :  500\n",
      "Thread-24 im alive\n",
      "Thread-24  - Balance :  500\n",
      "Thread-25 im alive\n",
      "Thread-25  - Balance :  500\n",
      "Thread-26 im alive\n",
      "Thread-26  - Balance :  500\n",
      "Thread-27 im alive\n",
      "Thread-27  - Balance :  500\n"
     ]
    }
   ],
   "source": [
    "import threading \n",
    "from threading import Thread\n",
    "\n",
    "class BankAccount:\n",
    "    def __init__(self, amount):\n",
    "        self.balance = amount\n",
    "        \n",
    "    def deposit(self, amount):\n",
    "        self.balance += amount\n",
    "        \n",
    "    def withdraw(self, amount):\n",
    "        self.balance -= amount\n",
    "        \n",
    "class TellerThread(Thread):\n",
    "    def __init__(self, band_account, name = None, target = None, daemon = False):\n",
    "        super().__init__(name = name, target = target, daemon = daemon)\n",
    "        self.band_account = band_account\n",
    "        \n",
    "    def run(self):\n",
    "        print(threading.current_thread().name, \"im alive\")\n",
    "        print(threading.current_thread().name, \" - Balance : \", self.band_account.balance) \n",
    "\n",
    "print(threading.current_thread().name, \"im alive\")\n",
    "bank_account_partage = BankAccount(500)\n",
    "for i in range(0, 5):\n",
    "    t = TellerThread(bank_account_partage)\n",
    "    t.start()"
   ]
  },
  {
   "cell_type": "markdown",
   "id": "20d18876-b24f-4b03-b70f-19544740f9c1",
   "metadata": {},
   "source": [
    "Exercice sur les Threads Bank Account : 4e étape : faire plusieurs operation apr thread"
   ]
  },
  {
   "cell_type": "code",
   "execution_count": 14,
   "id": "558519fd-4153-4e7b-883a-a7c2cc0595b4",
   "metadata": {},
   "outputs": [
    {
     "name": "stdout",
     "output_type": "stream",
     "text": [
      "MainThread im alive\n",
      "Thread-32 im alive\n",
      "Thread-32  - Balance before transaction :  500\n",
      "Thread-32  Withdraw  18  :  500  ->  482\n",
      "Thread-33 im alive\n",
      "Thread-33  - Balance before transaction :  482\n",
      "Thread-33  Withdraw  32  :  482  ->  450\n",
      "Thread-30  Deposit  10  :  896  ->  906\n",
      "Thread-31  Deposit  2  :  906  ->  908\n",
      "Thread-32  Deposit  72  :  450  ->  522\n",
      "Thread-33  Deposit  60  :  522  ->  582\n",
      "Thread-33  Deposit  54  :  582  ->  636\n",
      "Thread-30  Deposit  74  :  908  ->  982\n",
      "Thread-32  Withdraw  31  :  636  ->  605\n",
      "Thread-33  Deposit  62  :  605  ->  667\n",
      "Thread-32  Deposit  78  :  667  ->  745\n",
      "Thread-30  Deposit  29  :  982  ->  1011\n",
      "Thread-33  Deposit  51  :  745  ->  796\n",
      "Thread-32  Deposit  9  :  796  ->  805\n"
     ]
    }
   ],
   "source": [
    "import threading \n",
    "from threading import Thread\n",
    "import random\n",
    "import time\n",
    "\n",
    "class BankAccount:\n",
    "    def __init__(self, amount):\n",
    "        self.balance = amount\n",
    "        \n",
    "    def deposit(self, amount):\n",
    "        self.balance += amount\n",
    "        \n",
    "    def withdraw(self, amount):\n",
    "        self.balance -= amount\n",
    "        \n",
    "class TellerThread(Thread):\n",
    "    def __init__(self, band_account, name = None, target = None, daemon = False):\n",
    "        super().__init__(name = name, target = target, daemon = daemon)\n",
    "        self.band_account = band_account\n",
    "        \n",
    "    def run(self):\n",
    "        print(threading.current_thread().name, \"im alive\")\n",
    "        print(threading.current_thread().name, \" - Balance before transaction : \", self.band_account.balance)\n",
    "        for i in range(5):\n",
    "            if random.choice([True, False]):\n",
    "                amount = randint(1, 100)\n",
    "                balance_current = self.band_account.balance\n",
    "                self.band_account.deposit(amount)\n",
    "                print(threading.current_thread().name,\" Deposit \", amount , \" : \", balance_current, \" -> \", self.band_account.balance)\n",
    "            else:\n",
    "                amount = randint(1, 100)\n",
    "                balance_current = self.band_account.balance\n",
    "                self.band_account.withdraw(amount)\n",
    "                print(threading.current_thread().name,\" Withdraw \", amount , \" : \",balance_current, \" -> \", self.band_account.balance)\n",
    "            time.sleep(randint(1, 5))\n",
    "\n",
    "print(threading.current_thread().name, \"im alive\")\n",
    "bank_account_partage = BankAccount(500)\n",
    "for i in range(0, 2):\n",
    "    t = TellerThread(bank_account_partage)\n",
    "    t.start()"
   ]
  },
  {
   "cell_type": "markdown",
   "id": "3df067b2-7c6f-478b-9da2-354d0543c526",
   "metadata": {},
   "source": [
    "Exercice sur les Threads Bank Account : 5e étape : journal de log"
   ]
  },
  {
   "cell_type": "code",
   "execution_count": 16,
   "id": "b39b2cd1-7d74-4ca5-b81e-c9b85db4a6da",
   "metadata": {},
   "outputs": [
    {
     "name": "stdout",
     "output_type": "stream",
     "text": [
      "MainThread im alive\n",
      "[('Thread-37', ' Deposit ', 22, ' : ', 597, ' -> ', 619), ('Thread-37', ' Withdraw ', 42, ' : ', 699, ' -> ', 657), ('Thread-37', ' Deposit ', 1, ' : ', 691, ' -> ', 692), ('Thread-37', ' Withdraw ', 63, ' : ', 692, ' -> ', 629), ('Thread-37', ' Withdraw ', 23, ' : ', 703, ' -> ', 680)]\n",
      "[('Thread-36', ' Deposit ', 97, ' : ', 500, ' -> ', 597), ('Thread-36', ' Deposit ', 80, ' : ', 619, ' -> ', 699), ('Thread-36', ' Deposit ', 34, ' : ', 657, ' -> ', 691), ('Thread-36', ' Deposit ', 74, ' : ', 629, ' -> ', 703), ('Thread-36', ' Deposit ', 86, ' : ', 680, ' -> ', 766)]\n"
     ]
    }
   ],
   "source": [
    "import threading \n",
    "from threading import Thread\n",
    "import random\n",
    "import time\n",
    "\n",
    "class BankAccount:\n",
    "    def __init__(self, amount):\n",
    "        self.balance = amount\n",
    "        \n",
    "    def deposit(self, amount):\n",
    "        self.balance += amount\n",
    "        \n",
    "    def withdraw(self, amount):\n",
    "        self.balance -= amount\n",
    "        \n",
    "class TellerThread(Thread):\n",
    "    def __init__(self, band_account, name = None, target = None, daemon = False):\n",
    "        super().__init__(name = name, target = target, daemon = daemon)\n",
    "        self.band_account = band_account\n",
    "        \n",
    "    def run(self):\n",
    "        local_data.log = []\n",
    "        for i in range(5):\n",
    "            if random.choice([True, False]):\n",
    "                amount = randint(1, 100)\n",
    "                balance_current = self.band_account.balance\n",
    "                self.band_account.deposit(amount)\n",
    "                msg = threading.current_thread().name,\" Deposit \", amount , \" : \", balance_current, \" -> \", self.band_account.balance\n",
    "            else:\n",
    "                amount = randint(1, 100)\n",
    "                balance_current = self.band_account.balance\n",
    "                self.band_account.withdraw(amount)\n",
    "                msg = threading.current_thread().name,\" Withdraw \", amount , \" : \",balance_current, \" -> \", self.band_account.balance\n",
    "            local_data.log.append(msg)\n",
    "            time.sleep(randint(1, 5))\n",
    "        print(local_data.log)\n",
    "\n",
    "print(threading.current_thread().name, \"im alive\")\n",
    "bank_account_partage = BankAccount(500)\n",
    "local_data = threading.local()\n",
    "for i in range(0, 2):\n",
    "    t = TellerThread(bank_account_partage)\n",
    "    t.start()"
   ]
  },
  {
   "cell_type": "code",
   "execution_count": null,
   "id": "6dd6eaf2-98e7-4fe4-9ea7-e0e336921554",
   "metadata": {},
   "outputs": [],
   "source": []
  }
 ],
 "metadata": {
  "kernelspec": {
   "display_name": "Python 3 (ipykernel)",
   "language": "python",
   "name": "python3"
  },
  "language_info": {
   "codemirror_mode": {
    "name": "ipython",
    "version": 3
   },
   "file_extension": ".py",
   "mimetype": "text/x-python",
   "name": "python",
   "nbconvert_exporter": "python",
   "pygments_lexer": "ipython3",
   "version": "3.12.0"
  }
 },
 "nbformat": 4,
 "nbformat_minor": 5
}
