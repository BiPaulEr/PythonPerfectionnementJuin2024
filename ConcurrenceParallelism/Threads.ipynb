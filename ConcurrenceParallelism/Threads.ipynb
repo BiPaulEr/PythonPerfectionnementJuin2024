{
 "cells": [
  {
   "cell_type": "markdown",
   "id": "fe4d1dd8-ddbe-4772-98f4-ebacbf0d0f3f",
   "metadata": {},
   "source": [
    "Démonstration"
   ]
  },
  {
   "cell_type": "code",
   "execution_count": 13,
   "id": "f1c60ebc-7399-4f7e-a649-b8e95196005e",
   "metadata": {},
   "outputs": [
    {
     "name": "stdout",
     "output_type": "stream",
     "text": [
      "hello world\n"
     ]
    }
   ],
   "source": [
    "from threading import Thread \n",
    "import time\n",
    "def simple_hello_world():\n",
    "    time.sleep(5)\n",
    "    print(\"hello world\")\n",
    "    \n",
    "t1 = Thread(target=simple_hello_world)\n",
    "t1.start()"
   ]
  },
  {
   "cell_type": "code",
   "execution_count": 11,
   "id": "2518a401-abba-4cd9-ac01-f363b19747d4",
   "metadata": {},
   "outputs": [
    {
     "name": "stdout",
     "output_type": "stream",
     "text": [
      "hello world\n",
      "threads can only be started once\n",
      "\n"
     ]
    }
   ],
   "source": [
    "from threading import Thread \n",
    "\n",
    "def simple_hello_world():\n",
    "    print(\"hello world\")\n",
    "    \n",
    "t1 = Thread(target=simple_hello_world)\n",
    "t1.start()\n",
    "try:\n",
    "    t1.start()\n",
    "except RuntimeError as e:\n",
    "    print(f\"\\n{e}\")"
   ]
  },
  {
   "cell_type": "code",
   "execution_count": 15,
   "id": "29146b14-3fde-4d78-8c4d-c466f06c2c08",
   "metadata": {},
   "outputs": [
    {
     "name": "stdout",
     "output_type": "stream",
     "text": [
      "Thread-18 (simple_hello_world)\n",
      "38628\n",
      "True\n",
      "Thread-19 (simple_hello_world)\n",
      "10044\n",
      "True\n",
      "hello world\n",
      "hello world\n"
     ]
    }
   ],
   "source": [
    "def info(thread):\n",
    "    print(thread.name)\n",
    "    print(thread.ident)\n",
    "    print(thread.is_alive())\n",
    "\n",
    "t1 = Thread(target=simple_hello_world)\n",
    "t1.start()\n",
    "info(t1)\n",
    "\n",
    "t2 = Thread(target=simple_hello_world)\n",
    "t2.start()\n",
    "info(t2)"
   ]
  },
  {
   "cell_type": "code",
   "execution_count": 17,
   "id": "a7241bed-3482-48a3-afc9-fe438e21a882",
   "metadata": {},
   "outputs": [
    {
     "name": "stdout",
     "output_type": "stream",
     "text": [
      "*****.*.*.*.*.*....."
     ]
    }
   ],
   "source": [
    "def print_to_console(caractere):\n",
    "    for i in range(0, 10):\n",
    "        print(caractere, end=\"\", flush=True)\n",
    "        time.sleep(2)\n",
    "thread_asterix = Thread(target=print_to_console, args=\"*\")\n",
    "thread_point = Thread(target=print_to_console, args=\".\")\n",
    "thread_asterix.start()\n",
    "time.sleep(10)\n",
    "thread_point.start()"
   ]
  },
  {
   "cell_type": "code",
   "execution_count": 20,
   "id": "6347c650-6f5b-4a18-83d0-60664250e02d",
   "metadata": {},
   "outputs": [
    {
     "name": "stdout",
     "output_type": "stream",
     "text": [
      "**********.........."
     ]
    }
   ],
   "source": [
    "def print_to_console(caractere):\n",
    "    for i in range(0, 10):\n",
    "        print(caractere, end=\"\", flush=True)\n",
    "        time.sleep(1)\n",
    "thread_asterix = Thread(target=print_to_console, args=\"*\")\n",
    "thread_point = Thread(target=print_to_console, args=\".\")\n",
    "thread_asterix.start()\n",
    "\n",
    "thread_asterix.join()\n",
    "thread_point.start()"
   ]
  },
  {
   "cell_type": "code",
   "execution_count": 24,
   "id": "25fb3c27-71f1-4004-9ef7-24ca034d10dc",
   "metadata": {},
   "outputs": [
    {
     "name": "stdout",
     "output_type": "stream",
     "text": [
      "AsterixPoint\n",
      ".\n",
      "*.**..**..**.*..**."
     ]
    }
   ],
   "source": [
    "class CustomThread(Thread):\n",
    "    def __init__(self, caractere = \"\", name = None, daemon = None, target = None):\n",
    "        super().__init__(name = name, daemon = daemon, target = target)\n",
    "        self.name = name\n",
    "        self.caractere = caractere\n",
    "        \n",
    "    def run(self):\n",
    "        print(self.name)\n",
    "        for i in range(0, 10):\n",
    "            print(self.caractere, end=\"\", flush=True)\n",
    "            time.sleep(1)\n",
    "thread_asterix = CustomThread(\"*\", name = \"Asterix\")\n",
    "thread_point = CustomThread(\".\", name = \"Point\")\n",
    "thread_asterix.start()\n",
    "thread_point.start()\n",
    "    "
   ]
  },
  {
   "cell_type": "markdown",
   "id": "a1e78c22-2776-4f7b-8078-8ab8dde73d91",
   "metadata": {},
   "source": [
    "Démonstration du besoin de mémoire local par thread"
   ]
  },
  {
   "cell_type": "code",
   "execution_count": 35,
   "id": "59dacc5a-d3f7-4d1f-aacc-138b8f8daa07",
   "metadata": {},
   "outputs": [
    {
     "name": "stdout",
     "output_type": "stream",
     "text": [
      "<_MainThread(MainThread, started 10056)> - Starting \n",
      "T1  Value vaut  None\n",
      "T1  Value vaut  8\n",
      "T2  Value vaut  8\n",
      "T2  Value vaut  0\n",
      "<_MainThread(MainThread, started 10056)>  -  Se Termine\n",
      "T1  Value vaut  0\n",
      "T2  Value vaut  0\n"
     ]
    }
   ],
   "source": [
    "import threading\n",
    "import time\n",
    "import random\n",
    "from threading import Thread\n",
    "\n",
    "class DataPartagee:\n",
    "    value = None\n",
    "    \n",
    "def show_value(data):\n",
    "    try:\n",
    "        val = data.value\n",
    "    except AttributeError:\n",
    "        print(threading.current_thread().name, \" Value n'est pas assignée\")\n",
    "    else:\n",
    "        print(threading.current_thread().name, \" Value vaut \", val)\n",
    "\n",
    "def worker(data):\n",
    "    #print(f\"{threading.current_thread().name} globals : {list(globals().keys())}\")\n",
    "    show_value(data)\n",
    "    data.value = random.randint(0, 10)\n",
    "    show_value(data)\n",
    "    time.sleep(2)\n",
    "    show_value(data)\n",
    "\n",
    "print(threading.current_thread(), \"- Starting \")\n",
    "\n",
    "data = DataPartagee()\n",
    "\n",
    "for i in range(2):\n",
    "    t = Thread(name = \"T\" +str(i+1), target=worker, args=(data,))\n",
    "    t.start()    \n",
    "\n",
    "print(threading.current_thread(), \" -  Se Termine\")"
   ]
  },
  {
   "cell_type": "markdown",
   "id": "ea94af68-efc7-4cbe-bfda-3614fbe80359",
   "metadata": {},
   "source": [
    "Démonstration de la mémoire local par thread\n"
   ]
  },
  {
   "cell_type": "code",
   "execution_count": 39,
   "id": "476d8060-97d8-40dd-9282-f90b0d230b7b",
   "metadata": {},
   "outputs": [
    {
     "name": "stdout",
     "output_type": "stream",
     "text": [
      "<_MainThread(MainThread, started 10056)> - Starting \n",
      "T1  Value n'est pas assignée\n",
      "T1  Value vaut  9\n",
      "T2  Value n'est pas assignée\n",
      "T2  Value vaut  6\n",
      "MainThread  Value n'est pas assignée\n",
      "MainThread  Value vaut  3\n",
      "T1  Value vaut  9\n",
      "MainThread  Value vaut  3\n",
      "<_MainThread(MainThread, started 10056)>  -  Se Termine\n",
      "T2  Value vaut  6\n"
     ]
    }
   ],
   "source": [
    "import threading\n",
    "import time\n",
    "import random\n",
    "from threading import Thread\n",
    "\n",
    "class DataPartagee:\n",
    "    value = None\n",
    "    \n",
    "def show_value(data):\n",
    "    try:\n",
    "        val = data.value\n",
    "    except AttributeError:\n",
    "        print(threading.current_thread().name, \" Value n'est pas assignée\")\n",
    "    else:\n",
    "        print(threading.current_thread().name, \" Value vaut \", val)\n",
    "\n",
    "def worker(data):\n",
    "    #print(f\"{threading.current_thread().name} globals : {list(globals().keys())}\")\n",
    "    show_value(data)\n",
    "    data.value = random.randint(0, 10)\n",
    "    show_value(data)\n",
    "    time.sleep(2)\n",
    "    show_value(data)\n",
    "\n",
    "print(threading.current_thread(), \"- Starting \")\n",
    "\n",
    "local_data = threading.local()\n",
    "\n",
    "for i in range(2):\n",
    "    t = Thread(name = \"T\" +str(i+1), target=worker, args=(local_data,))\n",
    "    t.start()\n",
    "\n",
    "worker(local_data)\n",
    "\n",
    "print(threading.current_thread(), \" -  Se Termine\")"
   ]
  },
  {
   "cell_type": "markdown",
   "id": "e87f3e6a-3ac4-4232-b938-787a4dc03760",
   "metadata": {},
   "source": [
    "Démonstration que la mémoire local est vraiment par thread ! Du coup, il est \"difficile\" de partager de la donnée"
   ]
  },
  {
   "cell_type": "code",
   "execution_count": 2,
   "id": "297c1b80-eabe-4be0-9529-6cdbee906ba0",
   "metadata": {},
   "outputs": [
    {
     "name": "stdout",
     "output_type": "stream",
     "text": [
      "Thread-5 Le résultat est :  Je suis le message  Je suis le message  .\n",
      "Thread-5  lcoal_data.value n'est pas assignée\n",
      "Thread-6 Le résultat est :  Je suis le message  Je suis le message  Je suis le message  Je suis le message  .\n",
      "Thread-6  lcoal_data.value n'est pas assignée\n"
     ]
    }
   ],
   "source": [
    "import threading\n",
    "from threading import Thread\n",
    "class CustomString:\n",
    "    value = \" Je suis le message \"\n",
    "    \n",
    "class StringProcessor(Thread): \n",
    "    def __init__(self, message, target = None, name = None, daemon = False):\n",
    "        super().__init__(target = target, name = name, daemon = daemon)\n",
    "        #attention msg est une reference\n",
    "        self.message = message\n",
    "        #est setter que dans le MainThread attention ne fonctionne pas\n",
    "        local_data.value = message\n",
    "        \n",
    "    def run(self):\n",
    "        try :\n",
    "            self.message.value = self.message.value * 2\n",
    "            print(threading.current_thread().name, \"Le résultat est : \" + self.message.value, \".\")\n",
    "        except AttributeError:\n",
    "            print(threading.current_thread().name, \"self.message.value n'est pas assignée\")\n",
    "        try :\n",
    "            print(local_data.value)\n",
    "        except AttributeError:\n",
    "            print(threading.current_thread().name, \" lcoal_data.value n'est pas assignée\")\n",
    "        \n",
    "local_data = threading.local()\n",
    "customstring = CustomString\n",
    "for i in range(2):\n",
    "    t = StringProcessor(customstring)\n",
    "    t.start()\n"
   ]
  },
  {
   "cell_type": "markdown",
   "id": "1abf3c31-e9dd-4e52-ac82-c8f3a8af46e5",
   "metadata": {},
   "source": [
    "Démonstration qu'il faut passer par les argumetns pour puvoir copier de la mémoire global\n",
    "auc local par thread pour rendre des obkjcts accesible mais unique par thread \n"
   ]
  },
  {
   "cell_type": "code",
   "execution_count": 12,
   "id": "198fd5d8-3725-4d61-9151-b1df17ce627c",
   "metadata": {},
   "outputs": [
    {
     "name": "stdout",
     "output_type": "stream",
     "text": [
      "Thread-22 (worker) Le résultat est :  Je suis le message  Je suis le message  .\n",
      "Thread-23 (worker) Le résultat est :  Je suis le message  Je suis le message  Je suis le message  Je suis le message  .\n"
     ]
    }
   ],
   "source": [
    "import threading\n",
    "from threading import Thread\n",
    "class CustomString:\n",
    "    value = \" Je suis le message \"\n",
    "        \n",
    "def worker(customstring):\n",
    "    try :\n",
    "        local_data.customstring = customstring\n",
    "        local_data.customstring.value = local_data.customstring.value * 2\n",
    "        print(threading.current_thread().name, \"Le résultat est : \" + local_data.customstring.value, \".\")\n",
    "    except AttributeError:\n",
    "        print(threading.current_thread().name, \"self.message.value n'est pas assignée\")\n",
    "        \n",
    "local_data = threading.local()\n",
    "customstring = CustomString\n",
    "for i in range(2):\n",
    "    t = Thread(args=(customstring,), target=worker)\n",
    "    t.start()\n"
   ]
  },
  {
   "cell_type": "code",
   "execution_count": null,
   "id": "b903ee9d-7058-4d7f-a216-129b02d1200e",
   "metadata": {},
   "outputs": [],
   "source": []
  }
 ],
 "metadata": {
  "kernelspec": {
   "display_name": "Python 3 (ipykernel)",
   "language": "python",
   "name": "python3"
  },
  "language_info": {
   "codemirror_mode": {
    "name": "ipython",
    "version": 3
   },
   "file_extension": ".py",
   "mimetype": "text/x-python",
   "name": "python",
   "nbconvert_exporter": "python",
   "pygments_lexer": "ipython3",
   "version": "3.12.0"
  }
 },
 "nbformat": 4,
 "nbformat_minor": 5
}
