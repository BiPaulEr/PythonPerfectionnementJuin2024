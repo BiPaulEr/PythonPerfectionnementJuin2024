{
 "cells": [
  {
   "cell_type": "markdown",
   "id": "38f82581-58e6-4509-ba14-2534d734a578",
   "metadata": {},
   "source": [
    "Creation d'un classe ? ce fait avec class \"type\""
   ]
  },
  {
   "cell_type": "code",
   "execution_count": 9,
   "id": "f5d89d99-62ef-4738-afe1-30daa98456a8",
   "metadata": {},
   "outputs": [
    {
     "name": "stdout",
     "output_type": "stream",
     "text": [
      "1\n",
      "<class '__main__.MyClass'>\n",
      "<class 'type'>\n",
      "<method '__dir__' of 'object' objects>\n"
     ]
    }
   ],
   "source": [
    "class MyClass:\n",
    "    def method(self):\n",
    "        return 1\n",
    "        \n",
    "m = MyClass()\n",
    "print(m.method())\n",
    "print(MyClass)\n",
    "print(type(MyClass))\n",
    "print(MyClass.__dir__)"
   ]
  },
  {
   "cell_type": "markdown",
   "id": "d87472de-bbf4-45ed-8a20-f205a2e71d58",
   "metadata": {},
   "source": [
    "On utilise le constructeur de type pour créer MyClass2 sans la syntaxe \"class\""
   ]
  },
  {
   "cell_type": "code",
   "execution_count": 49,
   "id": "9d3eed80-abff-499b-962e-f96a4b8d40f7",
   "metadata": {},
   "outputs": [
    {
     "name": "stdout",
     "output_type": "stream",
     "text": [
      "1\n",
      "<class '__main__.MyClass2'>\n",
      "<class 'type'>\n",
      "<method '__dir__' of 'object' objects>\n"
     ]
    }
   ],
   "source": [
    "def method(self):\n",
    "        return 1\n",
    "    \n",
    "MyClass2 = type(\"MyClass2\", (object,), {\"method\":method})\n",
    "m2 = MyClass2()\n",
    "print(m2.method())\n",
    "print(MyClass2)\n",
    "print(type(MyClass2))\n",
    "print(MyClass2.__dir__)"
   ]
  },
  {
   "cell_type": "code",
   "execution_count": 11,
   "id": "edbf6d1b-b030-4564-bdcc-14f4f486432c",
   "metadata": {},
   "outputs": [
    {
     "name": "stdout",
     "output_type": "stream",
     "text": [
      "<class '__main__.LOLEALFSKTGEOTEOTLKGKEGZKDGKGK'>\n"
     ]
    }
   ],
   "source": [
    "class LOLEALFSKTGEOTEOTLKGKEGZKDGKGK:\n",
    "    pass\n",
    "print(LOLEALFSKTGEOTEOTLKGKEGZKDGKGK)"
   ]
  },
  {
   "cell_type": "markdown",
   "id": "4718d73a-bf0b-4886-87b0-2753c3b53ba3",
   "metadata": {},
   "source": [
    "Override type pour faire une classe qui crée des classes avec des proprietes spécifiques"
   ]
  },
  {
   "cell_type": "code",
   "execution_count": 51,
   "id": "9561a7ac-e156-43f6-b9ff-935ef29fdba2",
   "metadata": {},
   "outputs": [],
   "source": [
    "class RevealingMeta(type):\n",
    "    @classmethod\n",
    "    def __prepare__(mcs, name, bases, **kwargs):\n",
    "        print(f\"{mcs}, __prepare__ is called\")\n",
    "        return super().__prepare__(name, bases, **kwargs)\n",
    "    def __new__(mcs, name, bases, namespace, **kwargs):\n",
    "        print(f\"{mcs}, __new__ is called\")\n",
    "        return super().__new__(mcs, name, bases, namespace)\n",
    "    def __init__(cls, name, bases, namespace, **kwargs):\n",
    "        print(f\"{cls}, __init__ is called\")\n",
    "        return super().__init__(name, bases, namespace)\n",
    "\n",
    "    \n",
    "    def __call__(cls, *args, **kwargs):\n",
    "        print(f\"{cls}, __call__ is called\")\n",
    "        return super().__call__(*args, **kwargs)\n"
   ]
  },
  {
   "cell_type": "code",
   "execution_count": 41,
   "id": "3244e2d1-5664-4ac1-8219-8acd5e1daaf9",
   "metadata": {},
   "outputs": [
    {
     "name": "stdout",
     "output_type": "stream",
     "text": [
      "<class '__main__.RevealingMeta'>, __prepare__ is called\n",
      "<class '__main__.RevealingMeta'>, __new__ is called\n",
      "<class '__main__.MyClassMeta'>, __init__ is called\n"
     ]
    }
   ],
   "source": [
    "class MyClassMeta(metaclass = RevealingMeta):\n",
    "    def __init__(self):\n",
    "        print(f\"{self} __init__ is called\")\n",
    "        super().__init__()\n",
    "        \n",
    "    def __new__(cls):\n",
    "        print(f\"{cls} __new__ is called\")\n",
    "        return super().__new__(cls)"
   ]
  },
  {
   "cell_type": "code",
   "execution_count": 42,
   "id": "5aa06965-bacc-497c-8d43-419fbf9b630a",
   "metadata": {},
   "outputs": [
    {
     "name": "stdout",
     "output_type": "stream",
     "text": [
      "<class '__main__.MyClassMeta'>, __call__ is called\n",
      "<class '__main__.MyClassMeta'> __new__ is called\n",
      "<__main__.MyClassMeta object at 0x0000018179EC9520> __init__ is called\n"
     ]
    }
   ],
   "source": [
    "m = MyClassMeta()"
   ]
  },
  {
   "cell_type": "markdown",
   "id": "0544b146-4746-4c0d-b6ca-ffae4f314a44",
   "metadata": {},
   "source": [
    "La métaclasse qui va permettre de compter l'ensemble des instances de la accessible via compteur"
   ]
  },
  {
   "cell_type": "code",
   "execution_count": 56,
   "id": "ed2ce0e2-60e3-4bd0-9d27-8e82cd7d92a9",
   "metadata": {},
   "outputs": [],
   "source": [
    "class CoutingMeta(type):\n",
    "    compteur = 0\n",
    "    @classmethod\n",
    "    def __prepare__(mcs, name, bases, **kwargs):\n",
    "        print(f\"{mcs}, __prepare__ is called\")\n",
    "        return super().__prepare__(name, bases, **kwargs)\n",
    "    def __new__(mcs, name, bases, namespace, **kwargs):\n",
    "        print(f\"{mcs}, __new__ is called\")\n",
    "        return super().__new__(mcs, name, bases, namespace)\n",
    "    def __init__(cls, name, bases, namespace, **kwargs):\n",
    "        print(f\"{cls}, __init__ is called\")\n",
    "        return super().__init__(name, bases, namespace)\n",
    "\n",
    "    \n",
    "    def __call__(cls, *args, **kwargs):\n",
    "        cls.compteur +=  1\n",
    "        print(f\"{cls}, __call__ is called, {cls.compteur} instance created\")\n",
    "        return super().__call__(*args, **kwargs)\n"
   ]
  },
  {
   "cell_type": "code",
   "execution_count": 57,
   "id": "fd1941a0-d85f-48da-afe9-1069982ccdff",
   "metadata": {},
   "outputs": [
    {
     "name": "stdout",
     "output_type": "stream",
     "text": [
      "<class '__main__.CoutingMeta'>, __prepare__ is called\n",
      "<class '__main__.CoutingMeta'>, __new__ is called\n",
      "<class '__main__.CoutingClass'>, __init__ is called\n"
     ]
    }
   ],
   "source": [
    "class CoutingClass(metaclass = CoutingMeta):\n",
    "    pass"
   ]
  },
  {
   "cell_type": "code",
   "execution_count": 58,
   "id": "56a3d0fc-4ada-4310-86ac-a67428ece028",
   "metadata": {},
   "outputs": [
    {
     "name": "stdout",
     "output_type": "stream",
     "text": [
      "<class '__main__.CoutingClass'>, __call__ is called, 1 instance created\n"
     ]
    }
   ],
   "source": [
    "cc = CoutingClass()"
   ]
  },
  {
   "cell_type": "code",
   "execution_count": 59,
   "id": "52fd01a2-6c80-47db-a3fc-25ee391201e4",
   "metadata": {},
   "outputs": [
    {
     "name": "stdout",
     "output_type": "stream",
     "text": [
      "<class '__main__.CoutingClass'>, __call__ is called, 2 instance created\n"
     ]
    }
   ],
   "source": [
    "cc1 = CoutingClass()"
   ]
  },
  {
   "cell_type": "markdown",
   "id": "3fdd5ced-3cbc-49ff-b5f3-8251cc432c0f",
   "metadata": {},
   "source": [
    "MetaClass pour garder une sauvegarde à PluginMeta.plugins pour les classes qui implémentent PluginBase"
   ]
  },
  {
   "cell_type": "code",
   "execution_count": 60,
   "id": "76642966-bd28-43e6-864a-1559d9d12130",
   "metadata": {},
   "outputs": [
    {
     "name": "stdout",
     "output_type": "stream",
     "text": [
      "{'HealthPlugin': <class '__main__.HealthPlugin'>, 'InventoryPlugin': <class '__main__.InventoryPlugin'>}\n"
     ]
    }
   ],
   "source": [
    "class PluginMeta(type):\n",
    "    plugins = {}\n",
    "    def __new__(mcs, name, bases, namespace):\n",
    "            cls = super().__new__(mcs, name, bases, namespace)\n",
    "            if name != 'PluginBase':\n",
    "                    # Enregistrement automatique du plugin\n",
    "                    PluginMeta.plugins[name] = cls\n",
    "            return cls\n",
    "\n",
    "class PluginBase(metaclass=PluginMeta):\n",
    "    pass\n",
    "    \n",
    "class HealthPlugin(PluginBase):\n",
    "    pass\n",
    "class InventoryPlugin(PluginBase):\n",
    "    pass\n",
    "# Les plugins sont automatiquement enregistrés et peuvent être accédés\n",
    "print(PluginMeta.plugins)  # Affiche les plugins enregistrés"
   ]
  },
  {
   "cell_type": "markdown",
   "id": "3fb619df-8bff-41ac-9d1f-ce9049dd686f",
   "metadata": {},
   "source": [
    "MetaClass qui permet de rendre un membre abstrait"
   ]
  },
  {
   "cell_type": "code",
   "execution_count": 63,
   "id": "26f48f54-5210-4d23-8d0c-1b99f38bc54b",
   "metadata": {},
   "outputs": [],
   "source": [
    "from abc import ABC, abstractmethod\n",
    "\n",
    "class MyBaseClass(ABC):\n",
    "    @abstractmethod\n",
    "    def do_something(self):\n",
    "        pass\n",
    "        \n",
    "class ConcreteClass(MyBaseClass):\n",
    "    def do_something(self):\n",
    "        print(\"Do smothing\")\n",
    "\n",
    "class TESTClass(MyBaseClass):\n",
    "    pass"
   ]
  },
  {
   "cell_type": "code",
   "execution_count": 64,
   "id": "a3e2275f-1617-4739-923d-895cb7a34258",
   "metadata": {},
   "outputs": [
    {
     "ename": "TypeError",
     "evalue": "Can't instantiate abstract class TESTClass without an implementation for abstract method 'do_something'",
     "output_type": "error",
     "traceback": [
      "\u001b[1;31m---------------------------------------------------------------------------\u001b[0m",
      "\u001b[1;31mTypeError\u001b[0m                                 Traceback (most recent call last)",
      "Cell \u001b[1;32mIn[64], line 1\u001b[0m\n\u001b[1;32m----> 1\u001b[0m m \u001b[38;5;241m=\u001b[39m \u001b[43mTESTClass\u001b[49m\u001b[43m(\u001b[49m\u001b[43m)\u001b[49m\n",
      "\u001b[1;31mTypeError\u001b[0m: Can't instantiate abstract class TESTClass without an implementation for abstract method 'do_something'"
     ]
    }
   ],
   "source": [
    "m = TESTClass()"
   ]
  },
  {
   "cell_type": "code",
   "execution_count": 78,
   "id": "348d5c81-d840-4889-ae34-10defb4a42d3",
   "metadata": {},
   "outputs": [
    {
     "name": "stdout",
     "output_type": "stream",
     "text": [
      "{'__module__': '__main__', '__qualname__': 'BaseClass', 'abstract_methods': ['do_something'], 'do_something': <function BaseClass.do_something at 0x000001817A42E160>}\n",
      "do_something  is tested\n",
      "<function BaseClass.do_something at 0x000001817A42E160>\n"
     ]
    }
   ],
   "source": [
    "class AbstractMetaClass(type):\n",
    "    def __new__(mcs, name, bases, namespace):\n",
    "            print(namespace)\n",
    "            if \"abstract_methods\" in namespace:\n",
    "                for method in namespace[\"abstract_methods\"]:\n",
    "                    print(method, \" is tested\")\n",
    "                    function = namespace.get(method)\n",
    "                    print(function)\n",
    "                    if not callable(function):\n",
    "                        raise VauleError(f\"{method} not implemented\")\n",
    "            return super().__new__(mcs, name, bases, namespace)\n",
    "        \n",
    "class BaseClass(metaclass = AbstractMetaClass):\n",
    "    abstract_methods = [\"do_something\"]\n",
    "    def do_something(self):\n",
    "        pass\n",
    "        \n",
    "class ConcreteClass(MyBaseClass):\n",
    "    def do_something(self):\n",
    "        print(\"Do smothing\")\n",
    "        \n",
    "class TESTClass(MyBaseClass):\n",
    "    pass"
   ]
  },
  {
   "cell_type": "code",
   "execution_count": null,
   "id": "8b67d46b-3c45-4aa6-95a1-950db0205130",
   "metadata": {},
   "outputs": [],
   "source": []
  }
 ],
 "metadata": {
  "kernelspec": {
   "display_name": "Python 3 (ipykernel)",
   "language": "python",
   "name": "python3"
  },
  "language_info": {
   "codemirror_mode": {
    "name": "ipython",
    "version": 3
   },
   "file_extension": ".py",
   "mimetype": "text/x-python",
   "name": "python",
   "nbconvert_exporter": "python",
   "pygments_lexer": "ipython3",
   "version": "3.12.0"
  }
 },
 "nbformat": 4,
 "nbformat_minor": 5
}
