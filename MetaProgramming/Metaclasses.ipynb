{
 "cells": [
  {
   "cell_type": "code",
   "execution_count": 9,
   "id": "f5d89d99-62ef-4738-afe1-30daa98456a8",
   "metadata": {},
   "outputs": [
    {
     "name": "stdout",
     "output_type": "stream",
     "text": [
      "1\n",
      "<class '__main__.MyClass'>\n",
      "<class 'type'>\n",
      "<method '__dir__' of 'object' objects>\n"
     ]
    }
   ],
   "source": [
    "class MyClass:\n",
    "    def method(self):\n",
    "        return 1\n",
    "        \n",
    "m = MyClass()\n",
    "print(m.method())\n",
    "print(MyClass)\n",
    "print(type(MyClass))\n",
    "print(MyClass.__dir__)"
   ]
  },
  {
   "cell_type": "code",
   "execution_count": 10,
   "id": "9d3eed80-abff-499b-962e-f96a4b8d40f7",
   "metadata": {},
   "outputs": [
    {
     "name": "stdout",
     "output_type": "stream",
     "text": [
      "1\n",
      "<class '__main__.MyClass2'>\n",
      "<class 'type'>\n",
      "<method '__dir__' of 'object' objects>\n"
     ]
    }
   ],
   "source": [
    "def method(self):\n",
    "        return 1\n",
    "    \n",
    "MyClass2 = type(\"MyClass2\", (object,), {\"method\":method})\n",
    "m2 = MyClass2()\n",
    "print(m2.method())\n",
    "print(MyClass2)\n",
    "print(type(MyClass2))\n",
    "print(MyClass2.__dir__)"
   ]
  },
  {
   "cell_type": "code",
   "execution_count": 11,
   "id": "edbf6d1b-b030-4564-bdcc-14f4f486432c",
   "metadata": {},
   "outputs": [
    {
     "name": "stdout",
     "output_type": "stream",
     "text": [
      "<class '__main__.LOLEALFSKTGEOTEOTLKGKEGZKDGKGK'>\n"
     ]
    }
   ],
   "source": [
    "class LOLEALFSKTGEOTEOTLKGKEGZKDGKGK:\n",
    "    pass\n",
    "print(LOLEALFSKTGEOTEOTLKGKEGZKDGKGK)"
   ]
  },
  {
   "cell_type": "code",
   "execution_count": 26,
   "id": "9561a7ac-e156-43f6-b9ff-935ef29fdba2",
   "metadata": {},
   "outputs": [],
   "source": [
    "class RevealingMeta(type):\n",
    "    @classmethod\n",
    "    def __prepare__(mcs, name, bases, **kwargs):\n",
    "        print(f\"{mcs}, __prepare__ is called\")\n",
    "        return super().__prepare__(name, bases, **kwargs)\n",
    "    def __new__(mcs, name, bases, namespace, **kwargs):\n",
    "        print(f\"{mcs}, __new__ is called\")\n",
    "        return super().__new__(mcs, name, bases, namespace)\n",
    "    def __init__(cls, name, bases, namespace, **kwargs):\n",
    "        print(f\"{cls}, __init__ is called\")\n",
    "        return super().__init__(name, bases, namespace)\n",
    "\n",
    "    \n",
    "    def __call__(cls, *args, **kwargs):\n",
    "        print(f\"{cls}, __call__ is called\")\n",
    "        return super().__call__(*args, **kwargs)\n"
   ]
  },
  {
   "cell_type": "code",
   "execution_count": 41,
   "id": "3244e2d1-5664-4ac1-8219-8acd5e1daaf9",
   "metadata": {},
   "outputs": [
    {
     "name": "stdout",
     "output_type": "stream",
     "text": [
      "<class '__main__.RevealingMeta'>, __prepare__ is called\n",
      "<class '__main__.RevealingMeta'>, __new__ is called\n",
      "<class '__main__.MyClassMeta'>, __init__ is called\n"
     ]
    }
   ],
   "source": [
    "class MyClassMeta(metaclass = RevealingMeta):\n",
    "    def __init__(self):\n",
    "        print(f\"{self} __init__ is called\")\n",
    "        super().__init__()\n",
    "        \n",
    "    def __new__(cls):\n",
    "        print(f\"{cls} __new__ is called\")\n",
    "        return super().__new__(cls)"
   ]
  },
  {
   "cell_type": "code",
   "execution_count": 42,
   "id": "5aa06965-bacc-497c-8d43-419fbf9b630a",
   "metadata": {},
   "outputs": [
    {
     "name": "stdout",
     "output_type": "stream",
     "text": [
      "<class '__main__.MyClassMeta'>, __call__ is called\n",
      "<class '__main__.MyClassMeta'> __new__ is called\n",
      "<__main__.MyClassMeta object at 0x0000018179EC9520> __init__ is called\n"
     ]
    }
   ],
   "source": [
    "m = MyClassMeta()"
   ]
  },
  {
   "cell_type": "code",
   "execution_count": null,
   "id": "0d20e514-2308-4d78-8a55-52cc8c61a7fe",
   "metadata": {},
   "outputs": [],
   "source": [
    "class "
   ]
  },
  {
   "cell_type": "code",
   "execution_count": 43,
   "id": "ed2ce0e2-60e3-4bd0-9d27-8e82cd7d92a9",
   "metadata": {},
   "outputs": [],
   "source": [
    "class CoutingMeta(type):\n",
    "    comteur = 0\n",
    "    @classmethod\n",
    "    def __prepare__(mcs, name, bases, **kwargs):\n",
    "        print(f\"{mcs}, __prepare__ is called\")\n",
    "        return super().__prepare__(name, bases, **kwargs)\n",
    "    def __new__(mcs, name, bases, namespace, **kwargs):\n",
    "        print(f\"{mcs}, __new__ is called\")\n",
    "        return super().__new__(mcs, name, bases, namespace)\n",
    "    def __init__(cls, name, bases, namespace, **kwargs):\n",
    "        print(f\"{cls}, __init__ is called\")\n",
    "        return super().__init__(name, bases, namespace)\n",
    "\n",
    "    \n",
    "    def __call__(cls, *args, **kwargs):\n",
    "        cls.comteur +=  1\n",
    "        print(f\"{cls}, __call__ is called, {cls.comteur} instance created\")\n",
    "        return super().__call__(*args, **kwargs)\n"
   ]
  },
  {
   "cell_type": "code",
   "execution_count": 45,
   "id": "fd1941a0-d85f-48da-afe9-1069982ccdff",
   "metadata": {},
   "outputs": [
    {
     "name": "stdout",
     "output_type": "stream",
     "text": [
      "<class '__main__.CoutingMeta'>, __prepare__ is called\n",
      "<class '__main__.CoutingMeta'>, __new__ is called\n",
      "<class '__main__.CoutingClass'>, __init__ is called\n"
     ]
    }
   ],
   "source": [
    "class CoutingClass(metaclass = CoutingMeta):\n",
    "    pass"
   ]
  },
  {
   "cell_type": "code",
   "execution_count": 46,
   "id": "56a3d0fc-4ada-4310-86ac-a67428ece028",
   "metadata": {},
   "outputs": [
    {
     "name": "stdout",
     "output_type": "stream",
     "text": [
      "<class '__main__.CoutingClass'>, __call__ is called, 1 instance created\n"
     ]
    }
   ],
   "source": [
    "cc = CoutingClass()"
   ]
  },
  {
   "cell_type": "code",
   "execution_count": 47,
   "id": "52fd01a2-6c80-47db-a3fc-25ee391201e4",
   "metadata": {},
   "outputs": [
    {
     "name": "stdout",
     "output_type": "stream",
     "text": [
      "<class '__main__.CoutingClass'>, __call__ is called, 2 instance created\n"
     ]
    }
   ],
   "source": [
    "cc1 = CoutingClass()"
   ]
  },
  {
   "cell_type": "code",
   "execution_count": 48,
   "id": "76642966-bd28-43e6-864a-1559d9d12130",
   "metadata": {},
   "outputs": [
    {
     "name": "stdout",
     "output_type": "stream",
     "text": [
      "{'HealthPlugin': <class '__main__.HealthPlugin'>, 'InventoryPlugin': <class '__main__.InventoryPlugin'>}\n"
     ]
    }
   ],
   "source": [
    "class PluginMeta(type):\n",
    "    plugins = {}\n",
    "    def __new__(mcs, name, bases, namespace):\n",
    "            cls = super().__new__(mcs, name, bases, namespace)\n",
    "            if name != 'PluginBase':\n",
    "                    # Enregistrement automatique du plugin\n",
    "                    PluginMeta.plugins[name] = cls\n",
    "            return cls\n",
    "\n",
    "class PluginBase(metaclass=PluginMeta):\n",
    "    pass\n",
    "    \n",
    "class HealthPlugin(PluginBase):\n",
    "    pass\n",
    "class InventoryPlugin(PluginBase):\n",
    "    pass\n",
    "# Les plugins sont automatiquement enregistrés et peuvent être accédés\n",
    "print(PluginMeta.plugins)  # Affiche les plugins enregistrés"
   ]
  },
  {
   "cell_type": "code",
   "execution_count": null,
   "id": "53e1dd4f-a829-48f7-97a8-2352a3a50b88",
   "metadata": {},
   "outputs": [],
   "source": []
  }
 ],
 "metadata": {
  "kernelspec": {
   "display_name": "Python 3 (ipykernel)",
   "language": "python",
   "name": "python3"
  },
  "language_info": {
   "codemirror_mode": {
    "name": "ipython",
    "version": 3
   },
   "file_extension": ".py",
   "mimetype": "text/x-python",
   "name": "python",
   "nbconvert_exporter": "python",
   "pygments_lexer": "ipython3",
   "version": "3.12.0"
  }
 },
 "nbformat": 4,
 "nbformat_minor": 5
}
