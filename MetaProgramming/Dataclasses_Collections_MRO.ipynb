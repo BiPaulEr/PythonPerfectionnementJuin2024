{
 "cells": [
  {
   "cell_type": "markdown",
   "id": "07dc5082-6e27-4b72-9307-b0759819c814",
   "metadata": {},
   "source": [
    "protocle init, eq, repr"
   ]
  },
  {
   "cell_type": "code",
   "execution_count": 11,
   "id": "dfb908b9-cb95-476e-b98b-5689d5797b81",
   "metadata": {},
   "outputs": [
    {
     "name": "stdout",
     "output_type": "stream",
     "text": [
      "<Vector : x =3, y=4>\n",
      "True\n",
      "<Vector:x=6, y=8>\n"
     ]
    }
   ],
   "source": [
    "class Vector:\n",
    "    def __init__(self, x, y):\n",
    "        self.x = x\n",
    "        self.y = y\n",
    "        \n",
    "    def __repr__(self):\n",
    "        return f\"<Vector:x={self.x}, y={self.y}>\"\n",
    "\n",
    "    def __eq__(self, other):\n",
    "        return (self.x == other.x) and (self.y == other.y)\n",
    "\n",
    "    def __add__(self, other):\n",
    "        return Vector(self.x + other.x, self.y + other.y)\n",
    "\n",
    "        \n",
    "vector1 = Vector(3, 4)\n",
    "vector2 = Vector(3, 4)\n",
    "print(vector) #__repr__\n",
    "print(vector1 == vector2)   #__eq__\n",
    "print(vector1 + vector2) #__add__\n"
   ]
  },
  {
   "cell_type": "code",
   "execution_count": null,
   "id": "0f653a99-9ee0-42a1-8f4d-373484fec7cf",
   "metadata": {},
   "outputs": [],
   "source": [
    "from dataclasses import dataclass\n",
    "\n",
    "@dataclass\n",
    "class VectorDataclass:\n",
    "    x : int\n",
    "    y : int\n",
    "    z : int\n",
    "    \n",
    "    def __add__(self, other):\n",
    "        return VectorDataclass(self.x + other.x, self.y + other.y, self.z + other.z) \n",
    "       \n",
    "vector1 = VectorDataclass(z=3, y=4, x=5)\n",
    "vector2 = VectorDataclass(3, 4, 8)\n",
    "print(vector1) #__repr__\n",
    "print(vector1 == vector2)   #__eq__\n",
    "print(vector1 + vector2) #__add__\n"
   ]
  },
  {
   "cell_type": "markdown",
   "id": "a093ba18-a06b-4daf-9715-1b9616f8b3db",
   "metadata": {},
   "source": [
    "Dataclass en lecture seule grâce à frozen"
   ]
  },
  {
   "cell_type": "code",
   "execution_count": 23,
   "id": "0bd22e84-1b1b-44e5-a7fe-62645de4bb03",
   "metadata": {},
   "outputs": [
    {
     "ename": "FrozenInstanceError",
     "evalue": "cannot assign to field 'x'",
     "output_type": "error",
     "traceback": [
      "\u001b[1;31m---------------------------------------------------------------------------\u001b[0m",
      "\u001b[1;31mFrozenInstanceError\u001b[0m                       Traceback (most recent call last)",
      "Cell \u001b[1;32mIn[23], line 15\u001b[0m\n\u001b[0;32m     12\u001b[0m vector1 \u001b[38;5;241m=\u001b[39m VectorDataclassFrozen(z\u001b[38;5;241m=\u001b[39m\u001b[38;5;241m3\u001b[39m, y\u001b[38;5;241m=\u001b[39m\u001b[38;5;241m4\u001b[39m, x\u001b[38;5;241m=\u001b[39m\u001b[38;5;241m5\u001b[39m)\n\u001b[0;32m     13\u001b[0m vector2 \u001b[38;5;241m=\u001b[39m VectorDataclassFrozen(\u001b[38;5;241m3\u001b[39m, \u001b[38;5;241m4\u001b[39m, \u001b[38;5;241m8\u001b[39m)\n\u001b[1;32m---> 15\u001b[0m \u001b[43mvector1\u001b[49m\u001b[38;5;241;43m.\u001b[39;49m\u001b[43mx\u001b[49m \u001b[38;5;241m=\u001b[39m \u001b[38;5;241m1959355\u001b[39m \u001b[38;5;66;03m#ligne interdite car on essaye de modifier un attribut de la class frozen\u001b[39;00m\n",
      "File \u001b[1;32m<string>:4\u001b[0m, in \u001b[0;36m__setattr__\u001b[1;34m(self, name, value)\u001b[0m\n",
      "\u001b[1;31mFrozenInstanceError\u001b[0m: cannot assign to field 'x'"
     ]
    }
   ],
   "source": [
    "from dataclasses import dataclass\n",
    "\n",
    "@dataclass(frozen = True)\n",
    "class VectorDataclassFrozen:\n",
    "    x : int\n",
    "    y : int\n",
    "    z : int\n",
    "    \n",
    "    def __add__(self, other):\n",
    "        return VectorDataclassFrozen(self.x + other.x, self.y + other.y, self.z + other.z) \n",
    "       \n",
    "vector1 = VectorDataclassFrozen(z=3, y=4, x=5)\n",
    "vector2 = VectorDataclassFrozen(3, 4, 8)\n",
    "\n",
    "vector1.x = 1959355 #ligne interdite car on essaye de modifier un attribut de la class frozen\n"
   ]
  },
  {
   "cell_type": "code",
   "execution_count": 32,
   "id": "104494e7-c884-48e7-85b7-faba48d8757c",
   "metadata": {},
   "outputs": [
    {
     "name": "stdout",
     "output_type": "stream",
     "text": [
      "Keys :\n",
      "['A', 'B', 'C', 'D']\n",
      "Values :\n",
      "['01', '02', '03', '03']\n",
      "Tuples :\n",
      "[('A', '01'), ('B', '02'), ('C', '03'), ('D', '03')]\n"
     ]
    }
   ],
   "source": [
    "user = UserDict()\n",
    "user[\"A\"] = \"01\"\n",
    "user[\"B\"] = \"02\"\n",
    "user[\"C\"] = \"03\"\n",
    "user.__setitem__(\"D\", \"03\")\n",
    "print(\"Keys :\")\n",
    "print(list(user.keys()))\n",
    "print(\"Values :\")\n",
    "print(list(user.values()))\n",
    "print(\"Tuples :\")\n",
    "print(list(user.items()))"
   ]
  },
  {
   "cell_type": "markdown",
   "id": "ec30bd96-2b88-4ca1-b461-6e0be653fffb",
   "metadata": {},
   "source": [
    "Exemples ajout de fonctionnalité à une classe de pyhton dict -> passer par le module collections"
   ]
  },
  {
   "cell_type": "code",
   "execution_count": 37,
   "id": "15f6d66a-ee28-4a51-96cf-54e5eba98ec1",
   "metadata": {},
   "outputs": [
    {
     "name": "stdout",
     "output_type": "stream",
     "text": [
      "Already Present with 01 and my key i try to put is D\n",
      "ItemsView({'A': '01', 'B': '02', 'C': '03'})\n"
     ]
    }
   ],
   "source": [
    "from collections import UserDict\n",
    "\n",
    "class NumeroTelephone(ValueError): \n",
    "    pass\n",
    "    \n",
    "class anuaire(UserDict):\n",
    "    def __setitem__(self, key, value):\n",
    "        if value in self.values():\n",
    "            raise NumeroTelephone(f\"Already Present with {value} and my key i try to put is {key}\")\n",
    "        super().__setitem__(key, value)\n",
    "            \n",
    "\n",
    "an = anuaire()\n",
    "an[\"A\"] = \"01\"\n",
    "an[\"B\"] = \"02\"\n",
    "an[\"C\"] = \"03\"\n",
    "\n",
    "try:\n",
    "    an[\"D\"] = \"01\" # not possible\n",
    "except NumeroTelephone as t:\n",
    "    print(f\"{t}\")\n",
    "an[\"B\"] = \"04\"\n",
    "print(an.items)"
   ]
  },
  {
   "cell_type": "markdown",
   "id": "14fd55af-edf6-4245-b5b3-3af640a249df",
   "metadata": {},
   "source": [
    "MRO"
   ]
  },
  {
   "cell_type": "code",
   "execution_count": null,
   "id": "70edba68-a79a-436d-9bb3-dc0c9fbb628e",
   "metadata": {},
   "outputs": [],
   "source": [
    "class StylePython2:\n",
    "    pass\n",
    "class StylePython2_Fille(StylePython2):\n",
    "    pass\n",
    "\n",
    "# le rendre comptable pour python 3\n",
    "class StylePython2(object):\n",
    "    pass\n",
    "class StylePython2_Fille(StylePython2):\n",
    "    pass"
   ]
  },
  {
   "cell_type": "code",
   "execution_count": null,
   "id": "42ee8ec1-a556-423e-9741-214a79153691",
   "metadata": {},
   "outputs": [],
   "source": [
    "class StylePython3:\n",
    "    pass\n",
    "class StylePython3_Fille(StylePython3):\n",
    "    pass"
   ]
  },
  {
   "cell_type": "code",
   "execution_count": 41,
   "id": "865ba37f-76e6-4c48-8ac6-a03eba9b8b59",
   "metadata": {},
   "outputs": [
    {
     "name": "stdout",
     "output_type": "stream",
     "text": [
      "Base2\n"
     ]
    }
   ],
   "source": [
    "class CommonBase:\n",
    "    def method(self):\n",
    "        print(\"CommonBase\")\n",
    "\n",
    "class Base1(CommonBase):\n",
    "    pass\n",
    "    \n",
    "class Base2(CommonBase):\n",
    "    def method(self):\n",
    "        print(\"Base2\")\n",
    "        \n",
    "class MyClass(Base1, Base2):\n",
    "    pass\n",
    "\n",
    "myclass = MyClass()\n",
    "myclass.method()  #normalemment python 2 appelle ma méthode de CommonBase !"
   ]
  },
  {
   "cell_type": "code",
   "execution_count": 46,
   "id": "9dcb6b8b-4267-491b-b91d-e6e6a2f4fc03",
   "metadata": {},
   "outputs": [
    {
     "name": "stdout",
     "output_type": "stream",
     "text": [
      "['MyClass', 'Base1', 'Base2', 'CommonBase', 'object']\n"
     ]
    }
   ],
   "source": [
    "def L(klass):\n",
    "    print([klass_.__name__ for klass_ in  klass.__mro__])\n",
    "L(MyClass)"
   ]
  },
  {
   "cell_type": "markdown",
   "id": "fcfc447d-769a-4ccf-8ec8-7030bb803be7",
   "metadata": {},
   "source": [
    "Démonstration probleme super vs init avec python 3"
   ]
  },
  {
   "cell_type": "code",
   "execution_count": 66,
   "id": "f688394d-f3dc-47dd-bcba-b5ad283dbf1b",
   "metadata": {},
   "outputs": [
    {
     "name": "stdout",
     "output_type": "stream",
     "text": [
      "C, A, B, B, \n",
      "MRO\n",
      "['C', 'A', 'B', 'object']\n",
      "None\n"
     ]
    }
   ],
   "source": [
    "class A:\n",
    "    def __init__(self):\n",
    "        print(\"A\", end =\", \")\n",
    "        super().__init__()\n",
    "\n",
    "class B:\n",
    "    def __init__(self):\n",
    "        print(\"B\", end =\", \")\n",
    "        super().__init__()\n",
    "\n",
    "class C(A, B):\n",
    "    def __init__(self):\n",
    "        print(\"C\", end =\", \")\n",
    "        A.__init__(self)  #avoid using _ini__ avec la classe , appelle tout le temps init avec super()\n",
    "        B.__init__(self)\n",
    "        #super().__init__()\n",
    "        \n",
    "\n",
    "c = C()\n",
    "\n",
    "print(\"\\nMRO\")\n",
    "print(L(C))\n"
   ]
  },
  {
   "cell_type": "markdown",
   "id": "933d190d-5994-4f81-a7d1-75e7d3fff5df",
   "metadata": {},
   "source": [
    "Démonstration super"
   ]
  },
  {
   "cell_type": "code",
   "execution_count": 63,
   "id": "a1813eb4-f803-42c2-9b30-44c704907ee3",
   "metadata": {},
   "outputs": [
    {
     "name": "stdout",
     "output_type": "stream",
     "text": [
      " do your homework\n",
      " and your room\n"
     ]
    }
   ],
   "source": [
    "class Mama:\n",
    "    def say(self):\n",
    "        print(\" do your homework\")\n",
    "\n",
    "class Sister(Mama):\n",
    "    def say(self):\n",
    "        #Mama.say(self)\n",
    "        #super(Sister, self).say() #ancienne facon\n",
    "        super().say()\n",
    "        print(\" and your room\")\n",
    "        \n",
    "sister = Sister()\n",
    "sister.say()\n"
   ]
  },
  {
   "cell_type": "code",
   "execution_count": 65,
   "id": "dd962660-5762-4479-91d2-60b3d78e6099",
   "metadata": {},
   "outputs": [
    {
     "name": "stdout",
     "output_type": "stream",
     "text": [
      " do your homework\n"
     ]
    }
   ],
   "source": [
    "super(sister.__class__, sister).say()"
   ]
  },
  {
   "cell_type": "markdown",
   "id": "cc4305aa-d1d1-4a01-926e-3511a5fa4aac",
   "metadata": {},
   "source": [
    "Héritage et arguments args , kwargs"
   ]
  },
  {
   "cell_type": "code",
   "execution_count": 73,
   "id": "2555b1e7-98d9-45b6-a375-5409b7450097",
   "metadata": {},
   "outputs": [
    {
     "name": "stdout",
     "output_type": "stream",
     "text": [
      "C, A, B, \n",
      "MRO\n",
      "['C', 'A', 'B', 'object']\n",
      "None\n"
     ]
    }
   ],
   "source": [
    "class A:\n",
    "    def __init__(self, *args, **kwargs):\n",
    "        print(\"A\", end =\", \")\n",
    "        super().__init__(*args, **kwargs)\n",
    "\n",
    "class B:\n",
    "    def __init__(self, name, *args, **kwargs):\n",
    "        print(\"B\", end =\", \")\n",
    "        self.name = name\n",
    "        super().__init__(*args, **kwargs)\n",
    "\n",
    "class C(A, B):\n",
    "    def __init__(self, name):\n",
    "        print(\"C\", end =\", \")\n",
    "        super().__init__(name)\n",
    "        \n",
    "\n",
    "c = C(\"Classe B\")\n",
    "\n",
    "print(\"\\nMRO\")\n",
    "print(L(C))\n"
   ]
  },
  {
   "cell_type": "markdown",
   "id": "507038e9-1aee-43de-a0f5-5e607dec8073",
   "metadata": {},
   "source": [
    "Attenion à ne pas oublier des super().__init__ !!!!"
   ]
  },
  {
   "cell_type": "code",
   "execution_count": 77,
   "id": "95e44786-8d42-4f83-b803-ff9a322fffff",
   "metadata": {},
   "outputs": [
    {
     "name": "stdout",
     "output_type": "stream",
     "text": [
      "C, A, \n",
      "MRO\n",
      "['C', 'A', 'B', 'object']\n",
      "None\n"
     ]
    }
   ],
   "source": [
    "class A:\n",
    "    def __init__(self, *args, **kwargs):\n",
    "        print(\"A\", end =\", \")\n",
    "        #super().__init__(*args, **kwargs)  # si on oublie cela le construction de B n'est pas appelé !!!! \n",
    "\n",
    "class B:\n",
    "    def __init__(self, name, *args, **kwargs):\n",
    "        print(\"B\", end =\", \")\n",
    "        self.name = name\n",
    "        super().__init__(*args, **kwargs)\n",
    "\n",
    "class C(A, B):\n",
    "    def __init__(self, name):\n",
    "        print(\"C\", end =\", \")\n",
    "        super().__init__(name)\n",
    "        \n",
    "\n",
    "c = C(\"Classe B\")\n",
    "\n",
    "print(\"\\nMRO\")\n",
    "print(L(C))\n"
   ]
  },
  {
   "cell_type": "code",
   "execution_count": 93,
   "id": "2e7133ca-80be-48f4-92a8-d02a4c76f202",
   "metadata": {},
   "outputs": [
    {
     "name": "stdout",
     "output_type": "stream",
     "text": [
      "{}\n",
      "{'__module__': '__main__', '_MyClass__value': 1, '__dict__': <attribute '__dict__' of 'MyClass' objects>, '__weakref__': <attribute '__weakref__' of 'MyClass' objects>, '__doc__': None}\n"
     ]
    },
    {
     "data": {
      "text/plain": [
       "'_MyClass_  ///    __value'"
      ]
     },
     "execution_count": 93,
     "metadata": {},
     "output_type": "execute_result"
    }
   ],
   "source": [
    "class MyClass: \n",
    "    __value = 1\n",
    "        \n",
    "myclass = MyClass()\n",
    "print(myclass.__dict__)\n",
    "print(MyClass.__dict__)\n",
    "#print(myclass._value)\n",
    "\"__value\"\n",
    "\"_MyClass_  ///    __value\""
   ]
  },
  {
   "cell_type": "code",
   "execution_count": null,
   "id": "a4249d06-1e54-4898-abaa-2b24794ba054",
   "metadata": {},
   "outputs": [],
   "source": []
  },
  {
   "cell_type": "code",
   "execution_count": null,
   "id": "f1be3cb6-0e1e-47d4-92b4-4b7422da15d4",
   "metadata": {},
   "outputs": [],
   "source": []
  }
 ],
 "metadata": {
  "kernelspec": {
   "display_name": "Python 3 (ipykernel)",
   "language": "python",
   "name": "python3"
  },
  "language_info": {
   "codemirror_mode": {
    "name": "ipython",
    "version": 3
   },
   "file_extension": ".py",
   "mimetype": "text/x-python",
   "name": "python",
   "nbconvert_exporter": "python",
   "pygments_lexer": "ipython3",
   "version": "3.12.0"
  }
 },
 "nbformat": 4,
 "nbformat_minor": 5
}
