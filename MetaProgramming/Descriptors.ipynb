{
 "cells": [
  {
   "cell_type": "code",
   "execution_count": 3,
   "id": "9eb2609f-b036-4253-a865-29edf6396c00",
   "metadata": {},
   "outputs": [
    {
     "name": "stdout",
     "output_type": "stream",
     "text": [
      "Instance :\n",
      "{'x': 10}\n",
      "Classe :\n",
      "{'__module__': '__main__', 'x': 5, '__dict__': <attribute '__dict__' of 'MyClass' objects>, '__weakref__': <attribute '__weakref__' of 'MyClass' objects>, '__doc__': None}\n",
      "10\n"
     ]
    }
   ],
   "source": [
    "class MyClass:\n",
    "    x = 5\n",
    "\n",
    "myClassInstance = MyClass()\n",
    "myClassInstance.x = 10\n",
    "\n",
    "print(\"Instance :\")\n",
    "print(myClassInstance.__dict__)\n",
    "print(\"Classe :\")\n",
    "print(MyClass.__dict__)\n",
    "\n",
    "print(myClassInstance.x)"
   ]
  },
  {
   "cell_type": "code",
   "execution_count": 14,
   "id": "ed458049-2ea4-4a72-a4a5-eef87fc9c0d5",
   "metadata": {},
   "outputs": [
    {
     "name": "stdout",
     "output_type": "stream",
     "text": [
      "Instance :\n",
      "{'x': 10}\n",
      "Classe :\n",
      "{'__module__': '__main__', 'x': 5, 'y': <__main__.RevealAccess object at 0x0000023F8E21CE60>, '__dict__': <attribute '__dict__' of 'MyClassWithDescriptor' objects>, '__weakref__': <attribute '__weakref__' of 'MyClassWithDescriptor' objects>, '__doc__': None}\n",
      "10\n"
     ]
    }
   ],
   "source": [
    "class RevealAccess:\n",
    "    def __init__(self, value = \"None\", name=\"VAR = \"):\n",
    "        self.value = value\n",
    "        self.name = name\n",
    "    def __get__(self, obj, objtype):\n",
    "        print(f\"Retrieving from {self.name} {self.value}\")\n",
    "        return self.value\n",
    "    def __set__(self, obj, val):\n",
    "        print(f\"Updating from {self.name} {self.value}\")\n",
    "        self.value = val\n",
    "        \n",
    "class MyClassWithDescriptor:\n",
    "    x = 5\n",
    "    y = RevealAccess(10, \"RevealAccess  : \")\n",
    "\n",
    "myClassInstance = MyClassWithDescriptor()\n",
    "myClassInstance.x = 10\n",
    "\n",
    "print(\"Instance :\")\n",
    "print(myClassInstance.__dict__)\n",
    "print(\"Classe :\")\n",
    "print(MyClassWithDescriptor.__dict__)\n",
    "\n",
    "print(myClassInstance.x)\n",
    "    \n"
   ]
  },
  {
   "cell_type": "code",
   "execution_count": 15,
   "id": "9a7b41d1-e783-4dab-87a3-b5657fc74ad0",
   "metadata": {},
   "outputs": [
    {
     "name": "stdout",
     "output_type": "stream",
     "text": [
      "Retrieving from RevealAccess  :  10\n",
      "10\n",
      "Instance :\n",
      "{'x': 10}\n",
      "Classe :\n",
      "{'__module__': '__main__', 'x': 5, 'y': <__main__.RevealAccess object at 0x0000023F8E21CE60>, '__dict__': <attribute '__dict__' of 'MyClassWithDescriptor' objects>, '__weakref__': <attribute '__weakref__' of 'MyClassWithDescriptor' objects>, '__doc__': None}\n"
     ]
    }
   ],
   "source": [
    "print(myClassInstance.y)\n",
    "print(\"Instance :\")\n",
    "print(myClassInstance.__dict__)\n",
    "print(\"Classe :\")\n",
    "print(MyClassWithDescriptor.__dict__)"
   ]
  },
  {
   "cell_type": "code",
   "execution_count": 17,
   "id": "59ae35ef-61c1-4e2f-b806-80c3c616fada",
   "metadata": {},
   "outputs": [
    {
     "name": "stdout",
     "output_type": "stream",
     "text": [
      "Updating from RevealAccess  :  50\n",
      "{'x': 10}\n"
     ]
    }
   ],
   "source": [
    "myClassInstance.y = 50\n",
    "print(myClassInstance.__dict__)"
   ]
  },
  {
   "cell_type": "code",
   "execution_count": null,
   "id": "b6a0478a-5ba5-43a0-a33b-c62ce205453b",
   "metadata": {},
   "outputs": [],
   "source": [
    "print(myClassInstance.y)"
   ]
  },
  {
   "cell_type": "code",
   "execution_count": 25,
   "id": "0e186ad9-2be2-49fe-93bb-2b7a8947eb1f",
   "metadata": {},
   "outputs": [
    {
     "name": "stdout",
     "output_type": "stream",
     "text": [
      "obj <__main__.Person object at 0x0000023F8E34CD70> type <class '__main__.Person'>\n",
      "0\n"
     ]
    },
    {
     "ename": "ValueError",
     "evalue": "Le nombre doit être Strictement Positif",
     "output_type": "error",
     "traceback": [
      "\u001b[1;31m---------------------------------------------------------------------------\u001b[0m",
      "\u001b[1;31mValueError\u001b[0m                                Traceback (most recent call last)",
      "Cell \u001b[1;32mIn[25], line 16\u001b[0m\n\u001b[0;32m     14\u001b[0m gabriel \u001b[38;5;241m=\u001b[39m Person()\n\u001b[0;32m     15\u001b[0m \u001b[38;5;28mprint\u001b[39m(gabriel\u001b[38;5;241m.\u001b[39mage)\n\u001b[1;32m---> 16\u001b[0m \u001b[43mgabriel\u001b[49m\u001b[38;5;241;43m.\u001b[39;49m\u001b[43mage\u001b[49m \u001b[38;5;241m=\u001b[39m \u001b[38;5;241m-\u001b[39m\u001b[38;5;241m1\u001b[39m\n",
      "Cell \u001b[1;32mIn[25], line 7\u001b[0m, in \u001b[0;36mNombreStrictementPositif.__set__\u001b[1;34m(self, obj, val)\u001b[0m\n\u001b[0;32m      5\u001b[0m \u001b[38;5;28;01mdef\u001b[39;00m \u001b[38;5;21m__set__\u001b[39m(\u001b[38;5;28mself\u001b[39m, obj, val):\n\u001b[0;32m      6\u001b[0m     \u001b[38;5;28;01mif\u001b[39;00m (val \u001b[38;5;241m<\u001b[39m \u001b[38;5;241m0\u001b[39m):\n\u001b[1;32m----> 7\u001b[0m         \u001b[38;5;28;01mraise\u001b[39;00m \u001b[38;5;167;01mValueError\u001b[39;00m(\u001b[38;5;124m\"\u001b[39m\u001b[38;5;124mLe nombre doit être Strictement Positif\u001b[39m\u001b[38;5;124m\"\u001b[39m)\n\u001b[0;32m      8\u001b[0m     \u001b[38;5;28mprint\u001b[39m(\u001b[38;5;124mf\u001b[39m\u001b[38;5;124m\"\u001b[39m\u001b[38;5;124mobj \u001b[39m\u001b[38;5;132;01m{\u001b[39;00mobj\u001b[38;5;132;01m}\u001b[39;00m\u001b[38;5;124m val \u001b[39m\u001b[38;5;132;01m{\u001b[39;00mval\u001b[38;5;132;01m}\u001b[39;00m\u001b[38;5;124m\"\u001b[39m)\n\u001b[0;32m      9\u001b[0m     obj\u001b[38;5;241m.\u001b[39m\u001b[38;5;18m__dict__\u001b[39m[\u001b[38;5;124m\"\u001b[39m\u001b[38;5;124mage\u001b[39m\u001b[38;5;124m\"\u001b[39m] \u001b[38;5;241m=\u001b[39m val\n",
      "\u001b[1;31mValueError\u001b[0m: Le nombre doit être Strictement Positif"
     ]
    }
   ],
   "source": [
    "class NombreStrictementPositif:\n",
    "    def __get__(self, obj, objtype):\n",
    "        print(f\"obj {obj} type {objtype}\")\n",
    "        return obj.__dict__.get(\"age\", 0)\n",
    "    def __set__(self, obj, val):\n",
    "        if (val < 0):\n",
    "            raise ValueError(\"Le nombre doit être Strictement Positif\")\n",
    "        print(f\"obj {obj} val {val}\")\n",
    "        obj.__dict__[\"age\"] = val\n",
    "    \n",
    "class Person:\n",
    "    age = NombreStrictementPositif()\n",
    "\n",
    "gabriel = Person()\n",
    "print(gabriel.age)\n",
    "gabriel.age = -1\n"
   ]
  },
  {
   "cell_type": "code",
   "execution_count": 38,
   "id": "2094d9b0-5f37-48fa-8091-daf89acae486",
   "metadata": {},
   "outputs": [],
   "source": [
    "class LazyProperty:\n",
    "    def __init__(self, function):\n",
    "        self.function = function\n",
    "        self.value = None\n",
    "    def __get__(self, obj, objtype):\n",
    "        if self.value is None:\n",
    "            print(\"Calculation\")\n",
    "            self.value = self.function(obj)\n",
    "        return self.value\n",
    "    def __set__(self, obj, value):\n",
    "        pass\n",
    "\n",
    "class Property:\n",
    "    def __init__(self):\n",
    "        #self.function = fonction\n",
    "        self.value = \"Je suis deja construit\"\n",
    "    def __get__(self, obj, objtype):       \n",
    "        return self.value\n",
    "    def __set__(self, obj, value):\n",
    "        pass\n",
    "\n",
    "class Circle:\n",
    "    area = LazyProperty(lambda self: (3.14 * self.rayon) ** 2)\n",
    "    rayon = 3\n",
    "    # 2 PI R^2\n",
    "     "
   ]
  },
  {
   "cell_type": "code",
   "execution_count": 39,
   "id": "834b5b6e-8c96-454c-a707-afae9c9cece7",
   "metadata": {},
   "outputs": [],
   "source": [
    "circle = Circle()"
   ]
  },
  {
   "cell_type": "code",
   "execution_count": 40,
   "id": "9553c9d2-7e35-435b-b0aa-4e7fbcd87f35",
   "metadata": {},
   "outputs": [
    {
     "data": {
      "text/plain": [
       "3"
      ]
     },
     "execution_count": 40,
     "metadata": {},
     "output_type": "execute_result"
    }
   ],
   "source": [
    "circle.rayon"
   ]
  },
  {
   "cell_type": "code",
   "execution_count": 41,
   "id": "4b3a8662-1a5b-4c64-bd47-d06c3b4c4ca8",
   "metadata": {},
   "outputs": [
    {
     "name": "stdout",
     "output_type": "stream",
     "text": [
      "Calculation\n"
     ]
    },
    {
     "data": {
      "text/plain": [
       "88.7364"
      ]
     },
     "execution_count": 41,
     "metadata": {},
     "output_type": "execute_result"
    }
   ],
   "source": [
    "circle.area"
   ]
  },
  {
   "cell_type": "code",
   "execution_count": 42,
   "id": "4f8320b6-c19e-46fb-8dbf-3760e60a720a",
   "metadata": {},
   "outputs": [
    {
     "data": {
      "text/plain": [
       "88.7364"
      ]
     },
     "execution_count": 42,
     "metadata": {},
     "output_type": "execute_result"
    }
   ],
   "source": [
    "circle.area\n"
   ]
  },
  {
   "cell_type": "code",
   "execution_count": null,
   "id": "b4c7a4e5-d195-4f0e-bcfb-d080e8e57820",
   "metadata": {},
   "outputs": [],
   "source": []
  }
 ],
 "metadata": {
  "kernelspec": {
   "display_name": "Python 3 (ipykernel)",
   "language": "python",
   "name": "python3"
  },
  "language_info": {
   "codemirror_mode": {
    "name": "ipython",
    "version": 3
   },
   "file_extension": ".py",
   "mimetype": "text/x-python",
   "name": "python",
   "nbconvert_exporter": "python",
   "pygments_lexer": "ipython3",
   "version": "3.12.0"
  }
 },
 "nbformat": 4,
 "nbformat_minor": 5
}
