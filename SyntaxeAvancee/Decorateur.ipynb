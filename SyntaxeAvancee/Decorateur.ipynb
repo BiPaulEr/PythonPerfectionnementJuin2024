{
 "cells": [
  {
   "cell_type": "code",
   "execution_count": 1,
   "id": "dbe905b4-931b-4583-b150-475741d29254",
   "metadata": {},
   "outputs": [
    {
     "name": "stdout",
     "output_type": "stream",
     "text": [
      "Je suis la fonction simple\n"
     ]
    }
   ],
   "source": [
    "def function_simple():\n",
    "    print(\"Je suis la fonction simple\")\n",
    "function_simple()"
   ]
  },
  {
   "cell_type": "code",
   "execution_count": 5,
   "id": "17fcf112-2f50-476b-81dc-1baf5479700c",
   "metadata": {},
   "outputs": [
    {
     "name": "stdout",
     "output_type": "stream",
     "text": [
      "decorated_function : wrapper\n"
     ]
    }
   ],
   "source": [
    "def function_decoration(function):\n",
    "    def wrapper():\n",
    "        print(\"Je suis dans le wrapper\")\n",
    "        function()\n",
    "        print(f\"Je suis dans le wrapper apres lappel de la fonction {function.__name__}\")\n",
    "    return wrapper\n",
    "decorated_function = function_decoration(function_simple)\n",
    "print(f\"decorated_function : {decorated_function.__name__}\")"
   ]
  },
  {
   "cell_type": "code",
   "execution_count": 6,
   "id": "58fc134b-639d-41a8-ac4f-b9efd3577fd2",
   "metadata": {},
   "outputs": [
    {
     "name": "stdout",
     "output_type": "stream",
     "text": [
      " Je suis dans le wrapper\n",
      "Je suis la fonction simple\n",
      "Je suis dans le wrapper apres lappel de la fonction function_simple\n"
     ]
    }
   ],
   "source": [
    "decorated_function()"
   ]
  },
  {
   "cell_type": "code",
   "execution_count": 8,
   "id": "84047fc6-e3a5-4553-8a08-121c8ca30f45",
   "metadata": {},
   "outputs": [
    {
     "name": "stdout",
     "output_type": "stream",
     "text": [
      "Je suis la fonction simple\n"
     ]
    }
   ],
   "source": [
    "function_simple()"
   ]
  },
  {
   "cell_type": "code",
   "execution_count": 9,
   "id": "0dc513ff-ddcb-4834-951b-c77c4b6cfe6c",
   "metadata": {},
   "outputs": [
    {
     "name": "stdout",
     "output_type": "stream",
     "text": [
      " Je suis dans le wrapper\n",
      "Je suis la fonction simple\n",
      "Je suis dans le wrapper apres lappel de la fonction function_simple\n"
     ]
    }
   ],
   "source": [
    "decorated_function()"
   ]
  },
  {
   "cell_type": "code",
   "execution_count": 10,
   "id": "1e161090-2b34-4f5e-a985-3da9114edb21",
   "metadata": {},
   "outputs": [
    {
     "name": "stdout",
     "output_type": "stream",
     "text": [
      "decorated_function : wrapper\n",
      "Je suis dans le wrapper\n",
      "Je suis la fonction simple\n",
      "Je suis dans le wrapper apres lappel de la fonction function_simple\n"
     ]
    }
   ],
   "source": [
    "def function_simple():\n",
    "    print(\"Je suis la fonction simple\")\n",
    "def function_decoration(function):\n",
    "    def wrapper():\n",
    "        print(\"Je suis dans le wrapper\")\n",
    "        function()\n",
    "        print(f\"Je suis dans le wrapper apres lappel de la fonction {function.__name__}\")\n",
    "    return wrapper\n",
    "function_simple = function_decoration(function_simple)\n",
    "print(f\"decorated_function : {decorated_function.__name__}\")\n",
    "function_simple()"
   ]
  },
  {
   "cell_type": "code",
   "execution_count": 11,
   "id": "d73f333e-c6cc-4e51-b083-82c9657e4ba8",
   "metadata": {},
   "outputs": [
    {
     "name": "stdout",
     "output_type": "stream",
     "text": [
      "decorated_function : wrapper\n",
      "Je suis dans le wrapper\n",
      "Je suis la fonction simple\n",
      "Je suis dans le wrapper apres lappel de la fonction function_simple\n"
     ]
    }
   ],
   "source": [
    "def function_decoration(function):\n",
    "    def wrapper():\n",
    "        print(\"Je suis dans le wrapper\")\n",
    "        function()\n",
    "        print(f\"Je suis dans le wrapper apres lappel de la fonction {function.__name__}\")\n",
    "    return wrapper\n",
    "    \n",
    "@function_decoration\n",
    "def function_simple():\n",
    "    print(\"Je suis la fonction simple\")\n",
    "\n",
    "print(f\"decorated_function : {function_simple.__name__}\")\n",
    "function_simple()"
   ]
  },
  {
   "cell_type": "code",
   "execution_count": 13,
   "id": "f8e47843-c770-4aa0-a410-c91b83068f75",
   "metadata": {},
   "outputs": [
    {
     "ename": "TypeError",
     "evalue": "function_decoration.<locals>.wrapper() takes 0 positional arguments but 1 was given",
     "output_type": "error",
     "traceback": [
      "\u001b[1;31m---------------------------------------------------------------------------\u001b[0m",
      "\u001b[1;31mTypeError\u001b[0m                                 Traceback (most recent call last)",
      "Cell \u001b[1;32mIn[13], line 4\u001b[0m\n\u001b[0;32m      1\u001b[0m \u001b[38;5;129m@function_decoration\u001b[39m\n\u001b[0;32m      2\u001b[0m \u001b[38;5;28;01mdef\u001b[39;00m \u001b[38;5;21mfunction_simple_avec_argument\u001b[39m(argument):\n\u001b[0;32m      3\u001b[0m     \u001b[38;5;28mprint\u001b[39m(\u001b[38;5;124mf\u001b[39m\u001b[38;5;124m\"\u001b[39m\u001b[38;5;124mJe suis la fonction simple avec argument \u001b[39m\u001b[38;5;132;01m{\u001b[39;00margument\u001b[38;5;132;01m}\u001b[39;00m\u001b[38;5;124m\"\u001b[39m)\n\u001b[1;32m----> 4\u001b[0m \u001b[43mfunction_simple_avec_argument\u001b[49m\u001b[43m(\u001b[49m\u001b[38;5;124;43m\"\u001b[39;49m\u001b[38;5;124;43mOK?\u001b[39;49m\u001b[38;5;124;43m\"\u001b[39;49m\u001b[43m)\u001b[49m\n",
      "\u001b[1;31mTypeError\u001b[0m: function_decoration.<locals>.wrapper() takes 0 positional arguments but 1 was given"
     ]
    }
   ],
   "source": [
    "@function_decoration\n",
    "def function_simple_avec_argument(argument):\n",
    "    print(f\"Je suis la fonction simple avec argument {argument}\")\n",
    "function_simple_avec_argument(\"OK?\")\n",
    "        "
   ]
  },
  {
   "cell_type": "code",
   "execution_count": 16,
   "id": "4427415b-d1a5-40c2-b095-cabb5826951b",
   "metadata": {},
   "outputs": [
    {
     "name": "stdout",
     "output_type": "stream",
     "text": [
      "Je suis dans le wrapper\n",
      "Je suis la fonction simple avec argument OK?\n",
      "Je suis dans le wrapper apres lappel de la fonction function_simple_avec_argument\n"
     ]
    }
   ],
   "source": [
    "def function_decoration_avec_argument(function):\n",
    "    def wrapper(*args):\n",
    "        print(\"Je suis dans le wrapper\")\n",
    "        function(*args)\n",
    "        print(f\"Je suis dans le wrapper apres lappel de la fonction {function.__name__}\")\n",
    "    return wrapper\n",
    "    \n",
    "@function_decoration_avec_argument\n",
    "def function_simple_avec_argument(argument):\n",
    "    print(f\"Je suis la fonction simple avec argument {argument}\")\n",
    "function_simple_avec_argument(\"OK?\")\n",
    "\n"
   ]
  },
  {
   "cell_type": "code",
   "execution_count": 18,
   "id": "6801881d-e89a-4749-a909-e2a1579a6d76",
   "metadata": {},
   "outputs": [
    {
     "name": "stdout",
     "output_type": "stream",
     "text": [
      "Je suis dans le wrapper\n"
     ]
    },
    {
     "ename": "TypeError",
     "evalue": "function_simple_avec_argument_et_argument_optionel() takes 1 positional argument but 2 were given",
     "output_type": "error",
     "traceback": [
      "\u001b[1;31m---------------------------------------------------------------------------\u001b[0m",
      "\u001b[1;31mTypeError\u001b[0m                                 Traceback (most recent call last)",
      "Cell \u001b[1;32mIn[18], line 5\u001b[0m\n\u001b[0;32m      3\u001b[0m     \u001b[38;5;28mprint\u001b[39m(\u001b[38;5;124mf\u001b[39m\u001b[38;5;124m\"\u001b[39m\u001b[38;5;124mJe suis la fonction simple avec argument \u001b[39m\u001b[38;5;132;01m{\u001b[39;00margument\u001b[38;5;132;01m}\u001b[39;00m\u001b[38;5;124m\"\u001b[39m)\n\u001b[0;32m      4\u001b[0m     \u001b[38;5;28mprint\u001b[39m(\u001b[38;5;124mf\u001b[39m\u001b[38;5;124m\"\u001b[39m\u001b[38;5;132;01m{\u001b[39;00mkwargs\u001b[38;5;132;01m}\u001b[39;00m\u001b[38;5;124m\"\u001b[39m)\n\u001b[1;32m----> 5\u001b[0m \u001b[43mfunction_simple_avec_argument_et_argument_optionel\u001b[49m\u001b[43m(\u001b[49m\u001b[38;5;124;43m\"\u001b[39;49m\u001b[38;5;124;43mOK ?\u001b[39;49m\u001b[38;5;124;43m\"\u001b[39;49m\u001b[43m,\u001b[49m\u001b[43m \u001b[49m\u001b[43m{\u001b[49m\u001b[38;5;124;43m\"\u001b[39;49m\u001b[38;5;124;43moption\u001b[39;49m\u001b[38;5;124;43m\"\u001b[39;49m\u001b[43m \u001b[49m\u001b[43m:\u001b[49m\u001b[43m \u001b[49m\u001b[38;5;124;43m\"\u001b[39;49m\u001b[38;5;124;43moptionelle\u001b[39;49m\u001b[38;5;124;43m\"\u001b[39;49m\u001b[43m}\u001b[49m\u001b[43m)\u001b[49m\n",
      "Cell \u001b[1;32mIn[16], line 4\u001b[0m, in \u001b[0;36mfunction_decoration_avec_argument.<locals>.wrapper\u001b[1;34m(*args)\u001b[0m\n\u001b[0;32m      2\u001b[0m \u001b[38;5;28;01mdef\u001b[39;00m \u001b[38;5;21mwrapper\u001b[39m(\u001b[38;5;241m*\u001b[39margs):\n\u001b[0;32m      3\u001b[0m     \u001b[38;5;28mprint\u001b[39m(\u001b[38;5;124m\"\u001b[39m\u001b[38;5;124mJe suis dans le wrapper\u001b[39m\u001b[38;5;124m\"\u001b[39m)\n\u001b[1;32m----> 4\u001b[0m     \u001b[43mfunction\u001b[49m\u001b[43m(\u001b[49m\u001b[38;5;241;43m*\u001b[39;49m\u001b[43margs\u001b[49m\u001b[43m)\u001b[49m\n\u001b[0;32m      5\u001b[0m     \u001b[38;5;28mprint\u001b[39m(\u001b[38;5;124mf\u001b[39m\u001b[38;5;124m\"\u001b[39m\u001b[38;5;124mJe suis dans le wrapper apres lappel de la fonction \u001b[39m\u001b[38;5;132;01m{\u001b[39;00mfunction\u001b[38;5;241m.\u001b[39m\u001b[38;5;18m__name__\u001b[39m\u001b[38;5;132;01m}\u001b[39;00m\u001b[38;5;124m\"\u001b[39m)\n",
      "\u001b[1;31mTypeError\u001b[0m: function_simple_avec_argument_et_argument_optionel() takes 1 positional argument but 2 were given"
     ]
    }
   ],
   "source": [
    "@function_decoration_avec_argument\n",
    "def function_simple_avec_argument_et_argument_optionel(argument, **kwargs):\n",
    "    print(f\"Je suis la fonction simple avec argument {argument}\")\n",
    "    print(f\"{kwargs}\")\n",
    "function_simple_avec_argument_et_argument_optionel(\"OK ?\", {\"option\" : \"optionelle\"})\n",
    "    "
   ]
  },
  {
   "cell_type": "code",
   "execution_count": 20,
   "id": "3ad13c78-21a3-47c8-90ff-bde7e23638b2",
   "metadata": {},
   "outputs": [
    {
     "name": "stdout",
     "output_type": "stream",
     "text": [
      "Je suis dans le wrapper\n",
      "Je suis la fonction simple avec argument OK ?\n",
      "{'kwargs': {'option': 'optionelle'}}\n",
      "Je suis dans le wrapper apres lappel de la fonction function_simple_avec_argument_et_argument_optionel\n"
     ]
    }
   ],
   "source": [
    "def function_decoration_avec_argument_et_argument_optionnelle(function):\n",
    "    def wrapper(*args, **kwargs):\n",
    "        print(\"Je suis dans le wrapper\")\n",
    "        function(*args, **kwargs)\n",
    "        print(f\"Je suis dans le wrapper apres lappel de la fonction {function.__name__}\")\n",
    "    return wrapper\n",
    "\n",
    "@function_decoration_avec_argument_et_argument_optionnelle\n",
    "def function_simple_avec_argument_et_argument_optionel(argument, **kwargs):\n",
    "    print(f\"Je suis la fonction simple avec argument {argument}\")\n",
    "    print(f\"{kwargs}\")\n",
    "    \n",
    "function_simple_avec_argument_et_argument_optionel(\"OK ?\", kwargs={\"option\" : \"optionelle\"})\n",
    "\n",
    "\n"
   ]
  },
  {
   "cell_type": "code",
   "execution_count": 21,
   "id": "6156b966-ae83-4366-a760-0fc6e1c27800",
   "metadata": {},
   "outputs": [
    {
     "name": "stdout",
     "output_type": "stream",
     "text": [
      "Je suis dans la class as decorator\n",
      "Je suis la fonction simple pour etre decorate avec une classe avec argument OK ?\n",
      "{'kwargs': {'option': 'optionelle'}}\n",
      "Je suis dans la class as decorator apres l'appel de la fonction function_simple_pour_class_decorator\n"
     ]
    }
   ],
   "source": [
    "class DecoratorAsClass:\n",
    "    def __init__(self, function):\n",
    "        self.function = function\n",
    "\n",
    "    def __call__(self, *args, **kwargs):\n",
    "        print(\"Je suis dans la class as decorator\")\n",
    "        result = self.function(*args, **kwargs)\n",
    "        print(f\"Je suis dans la class as decorator apres l'appel de la fonction {self.function.__name__}\")\n",
    "        return result\n",
    "\n",
    "@DecoratorAsClass\n",
    "def function_simple_pour_class_decorator(argument, **kwargs):\n",
    "    print(f\"Je suis la fonction simple pour etre decorate avec une classe avec argument {argument}\")\n",
    "    print(f\"{kwargs}\")      \n",
    "\n",
    "function_simple_pour_class_decorator(\"OK ?\", kwargs={\"option\" : \"optionelle\"})\n",
    "    "
   ]
  },
  {
   "cell_type": "code",
   "execution_count": 22,
   "id": "70e34a3a-309a-4c5b-bb38-1aed162d64f5",
   "metadata": {},
   "outputs": [
    {
     "name": "stdout",
     "output_type": "stream",
     "text": [
      "I'm called\n",
      "I'm called\n",
      "I'm called\n"
     ]
    }
   ],
   "source": [
    "def repeat(function):\n",
    "    def wrapper():\n",
    "        for i in range(0, 3):\n",
    "            function()\n",
    "    return wrapper\n",
    "\n",
    "@repeat\n",
    "def print_my_call():\n",
    "    print(\"I'm called\")\n",
    "\n",
    "print_my_call()"
   ]
  },
  {
   "cell_type": "code",
   "execution_count": 25,
   "id": "8f14f490-d660-4427-8629-0e918cac4fe1",
   "metadata": {},
   "outputs": [
    {
     "name": "stdout",
     "output_type": "stream",
     "text": [
      "I'm called\n",
      "I'm called\n",
      "I'm called\n",
      "I'm called\n",
      "I'm called\n"
     ]
    }
   ],
   "source": [
    "def repeat_parameter(number):\n",
    "    def repeat(function):\n",
    "        def wrapper():\n",
    "            for i in range(0, number):\n",
    "                function()\n",
    "        return wrapper\n",
    "    return repeat \n",
    "\n",
    "@repeat_parameter(5)\n",
    "def print_my_call():\n",
    "    print(\"I'm called\")\n",
    "\n",
    "print_my_call()"
   ]
  },
  {
   "cell_type": "code",
   "execution_count": 30,
   "id": "a2dfb53b-3994-4054-a649-acaa49eeb83d",
   "metadata": {},
   "outputs": [
    {
     "ename": "TypeError",
     "evalue": "repeat_parameter_default_value.<locals>.repeat() missing 1 required positional argument: 'function'",
     "output_type": "error",
     "traceback": [
      "\u001b[1;31m---------------------------------------------------------------------------\u001b[0m",
      "\u001b[1;31mTypeError\u001b[0m                                 Traceback (most recent call last)",
      "Cell \u001b[1;32mIn[30], line 13\u001b[0m\n\u001b[0;32m      9\u001b[0m \u001b[38;5;129m@repeat_parameter_default_value\u001b[39m\n\u001b[0;32m     10\u001b[0m \u001b[38;5;28;01mdef\u001b[39;00m \u001b[38;5;21mprint_my_call\u001b[39m():\n\u001b[0;32m     11\u001b[0m     \u001b[38;5;28mprint\u001b[39m(\u001b[38;5;124m\"\u001b[39m\u001b[38;5;124mI\u001b[39m\u001b[38;5;124m'\u001b[39m\u001b[38;5;124mm called\u001b[39m\u001b[38;5;124m\"\u001b[39m)\n\u001b[1;32m---> 13\u001b[0m \u001b[43mprint_my_call\u001b[49m\u001b[43m(\u001b[49m\u001b[43m)\u001b[49m\n",
      "\u001b[1;31mTypeError\u001b[0m: repeat_parameter_default_value.<locals>.repeat() missing 1 required positional argument: 'function'"
     ]
    }
   ],
   "source": [
    "def repeat_parameter_default_value(number = 3):\n",
    "    def repeat(function):\n",
    "        def wrapper():\n",
    "            for i in range(0, number):\n",
    "                function()\n",
    "        return wrapper\n",
    "    return repeat \n",
    "\n",
    "@repeat_parameter_default_value\n",
    "def print_my_call():\n",
    "    print(\"I'm called\")\n",
    "\n",
    "print_my_call()"
   ]
  },
  {
   "cell_type": "code",
   "execution_count": 36,
   "id": "a86b86a9-cf20-4065-9492-446f0e96148e",
   "metadata": {},
   "outputs": [
    {
     "name": "stdout",
     "output_type": "stream",
     "text": [
      " C'est une fonction très compliqué je souhaite avoir accès à la documentation\n",
      "function_avec_de_la_documentation\n"
     ]
    }
   ],
   "source": [
    "def function_avec_de_la_documentation():\n",
    "    \"\"\" C'est une fonction très compliqué je souhaite avoir accès à la documentation\"\"\"\n",
    "    print(\"je suis une fonction avec de la documentaton\")\n",
    "\n",
    "print(function_avec_de_la_documentation.__doc__)\n",
    "print(function_avec_de_la_documentation.__name__)"
   ]
  },
  {
   "cell_type": "code",
   "execution_count": 37,
   "id": "c14f32b1-189d-42e7-873a-8702f1542807",
   "metadata": {},
   "outputs": [
    {
     "name": "stdout",
     "output_type": "stream",
     "text": [
      " Documentation du wrapper\n",
      "wrapper\n"
     ]
    }
   ],
   "source": [
    "def decorator_simple(function):\n",
    "    def wrapper():\n",
    "        \"\"\" Documentation du wrapper\"\"\"\n",
    "        print(\"in the wrapper\")\n",
    "        return function()\n",
    "    return wrapper\n",
    "    \n",
    "@decorator_simple\n",
    "def function_avec_de_la_documentation():\n",
    "    \"\"\" C'est une fonction très compliqué je souhaite avoir accès à la documentation\"\"\"\n",
    "    print(\"je suis une fonction avec de la documentaton\")\n",
    "\n",
    "print(function_avec_de_la_documentation.__doc__)\n",
    "print(function_avec_de_la_documentation.__name__)"
   ]
  },
  {
   "cell_type": "code",
   "execution_count": null,
   "id": "1d97fb9e-3ecc-423e-bbf5-acd17856fcfe",
   "metadata": {},
   "outputs": [],
   "source": [
    "def decorator_simple(function):\n",
    "    def wrapper():\n",
    "        \"\"\" Documentation du wrapper\"\"\"\n",
    "        print(\"in the wrapper\")\n",
    "        return function()\n",
    "    return wrapper\n",
    "    \n",
    "@decorator_simple\n",
    "def function_avec_de_la_documentation():\n",
    "    \"\"\" C'est une fonction très compliqué je souhaite avoir accès à la documentation\"\"\"\n",
    "    print(\"je suis une fonction avec de la documentaton\")\n",
    "\n",
    "print(function_avec_de_la_documentation.__doc__)\n",
    "print(function_avec_de_la_documentation.__name__)"
   ]
  }
 ],
 "metadata": {
  "kernelspec": {
   "display_name": "Python 3 (ipykernel)",
   "language": "python",
   "name": "python3"
  },
  "language_info": {
   "codemirror_mode": {
    "name": "ipython",
    "version": 3
   },
   "file_extension": ".py",
   "mimetype": "text/x-python",
   "name": "python",
   "nbconvert_exporter": "python",
   "pygments_lexer": "ipython3",
   "version": "3.12.0"
  }
 },
 "nbformat": 4,
 "nbformat_minor": 5
}
