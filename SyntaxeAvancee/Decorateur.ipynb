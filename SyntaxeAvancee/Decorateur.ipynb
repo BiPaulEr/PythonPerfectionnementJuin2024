{
 "cells": [
  {
   "cell_type": "code",
   "execution_count": 1,
   "id": "dbe905b4-931b-4583-b150-475741d29254",
   "metadata": {},
   "outputs": [
    {
     "name": "stdout",
     "output_type": "stream",
     "text": [
      "Je suis la fonction simple\n"
     ]
    }
   ],
   "source": [
    "def function_simple():\n",
    "    print(\"Je suis la fonction simple\")\n",
    "function_simple()"
   ]
  },
  {
   "cell_type": "code",
   "execution_count": 5,
   "id": "17fcf112-2f50-476b-81dc-1baf5479700c",
   "metadata": {},
   "outputs": [
    {
     "name": "stdout",
     "output_type": "stream",
     "text": [
      "decorated_function : wrapper\n"
     ]
    }
   ],
   "source": [
    "def function_decoration(function):\n",
    "    def wrapper():\n",
    "        print(\"Je suis dans le wrapper\")\n",
    "        function()\n",
    "        print(f\"Je suis dans le wrapper apres lappel de la fonction {function.__name__}\")\n",
    "    return wrapper\n",
    "decorated_function = function_decoration(function_simple)\n",
    "print(f\"decorated_function : {decorated_function.__name__}\")"
   ]
  },
  {
   "cell_type": "code",
   "execution_count": 6,
   "id": "58fc134b-639d-41a8-ac4f-b9efd3577fd2",
   "metadata": {},
   "outputs": [
    {
     "name": "stdout",
     "output_type": "stream",
     "text": [
      " Je suis dans le wrapper\n",
      "Je suis la fonction simple\n",
      "Je suis dans le wrapper apres lappel de la fonction function_simple\n"
     ]
    }
   ],
   "source": [
    "decorated_function()"
   ]
  },
  {
   "cell_type": "code",
   "execution_count": 8,
   "id": "84047fc6-e3a5-4553-8a08-121c8ca30f45",
   "metadata": {},
   "outputs": [
    {
     "name": "stdout",
     "output_type": "stream",
     "text": [
      "Je suis la fonction simple\n"
     ]
    }
   ],
   "source": [
    "function_simple()"
   ]
  },
  {
   "cell_type": "code",
   "execution_count": 9,
   "id": "0dc513ff-ddcb-4834-951b-c77c4b6cfe6c",
   "metadata": {},
   "outputs": [
    {
     "name": "stdout",
     "output_type": "stream",
     "text": [
      " Je suis dans le wrapper\n",
      "Je suis la fonction simple\n",
      "Je suis dans le wrapper apres lappel de la fonction function_simple\n"
     ]
    }
   ],
   "source": [
    "decorated_function()"
   ]
  },
  {
   "cell_type": "code",
   "execution_count": 10,
   "id": "1e161090-2b34-4f5e-a985-3da9114edb21",
   "metadata": {},
   "outputs": [
    {
     "name": "stdout",
     "output_type": "stream",
     "text": [
      "decorated_function : wrapper\n",
      "Je suis dans le wrapper\n",
      "Je suis la fonction simple\n",
      "Je suis dans le wrapper apres lappel de la fonction function_simple\n"
     ]
    }
   ],
   "source": [
    "def function_simple():\n",
    "    print(\"Je suis la fonction simple\")\n",
    "def function_decoration(function):\n",
    "    def wrapper():\n",
    "        print(\"Je suis dans le wrapper\")\n",
    "        function()\n",
    "        print(f\"Je suis dans le wrapper apres lappel de la fonction {function.__name__}\")\n",
    "    return wrapper\n",
    "function_simple = function_decoration(function_simple)\n",
    "print(f\"decorated_function : {decorated_function.__name__}\")\n",
    "function_simple()"
   ]
  },
  {
   "cell_type": "code",
   "execution_count": 11,
   "id": "d73f333e-c6cc-4e51-b083-82c9657e4ba8",
   "metadata": {},
   "outputs": [
    {
     "name": "stdout",
     "output_type": "stream",
     "text": [
      "decorated_function : wrapper\n",
      "Je suis dans le wrapper\n",
      "Je suis la fonction simple\n",
      "Je suis dans le wrapper apres lappel de la fonction function_simple\n"
     ]
    }
   ],
   "source": [
    "def function_decoration(function):\n",
    "    def wrapper():\n",
    "        print(\"Je suis dans le wrapper\")\n",
    "        function()\n",
    "        print(f\"Je suis dans le wrapper apres lappel de la fonction {function.__name__}\")\n",
    "    return wrapper\n",
    "    \n",
    "@function_decoration\n",
    "def function_simple():\n",
    "    print(\"Je suis la fonction simple\")\n",
    "\n",
    "print(f\"decorated_function : {function_simple.__name__}\")\n",
    "function_simple()"
   ]
  },
  {
   "cell_type": "code",
   "execution_count": 13,
   "id": "f8e47843-c770-4aa0-a410-c91b83068f75",
   "metadata": {},
   "outputs": [
    {
     "ename": "TypeError",
     "evalue": "function_decoration.<locals>.wrapper() takes 0 positional arguments but 1 was given",
     "output_type": "error",
     "traceback": [
      "\u001b[1;31m---------------------------------------------------------------------------\u001b[0m",
      "\u001b[1;31mTypeError\u001b[0m                                 Traceback (most recent call last)",
      "Cell \u001b[1;32mIn[13], line 4\u001b[0m\n\u001b[0;32m      1\u001b[0m \u001b[38;5;129m@function_decoration\u001b[39m\n\u001b[0;32m      2\u001b[0m \u001b[38;5;28;01mdef\u001b[39;00m \u001b[38;5;21mfunction_simple_avec_argument\u001b[39m(argument):\n\u001b[0;32m      3\u001b[0m     \u001b[38;5;28mprint\u001b[39m(\u001b[38;5;124mf\u001b[39m\u001b[38;5;124m\"\u001b[39m\u001b[38;5;124mJe suis la fonction simple avec argument \u001b[39m\u001b[38;5;132;01m{\u001b[39;00margument\u001b[38;5;132;01m}\u001b[39;00m\u001b[38;5;124m\"\u001b[39m)\n\u001b[1;32m----> 4\u001b[0m \u001b[43mfunction_simple_avec_argument\u001b[49m\u001b[43m(\u001b[49m\u001b[38;5;124;43m\"\u001b[39;49m\u001b[38;5;124;43mOK?\u001b[39;49m\u001b[38;5;124;43m\"\u001b[39;49m\u001b[43m)\u001b[49m\n",
      "\u001b[1;31mTypeError\u001b[0m: function_decoration.<locals>.wrapper() takes 0 positional arguments but 1 was given"
     ]
    }
   ],
   "source": [
    "@function_decoration\n",
    "def function_simple_avec_argument(argument):\n",
    "    print(f\"Je suis la fonction simple avec argument {argument}\")\n",
    "function_simple_avec_argument(\"OK?\")\n",
    "        "
   ]
  },
  {
   "cell_type": "code",
   "execution_count": 16,
   "id": "4427415b-d1a5-40c2-b095-cabb5826951b",
   "metadata": {},
   "outputs": [
    {
     "name": "stdout",
     "output_type": "stream",
     "text": [
      "Je suis dans le wrapper\n",
      "Je suis la fonction simple avec argument OK?\n",
      "Je suis dans le wrapper apres lappel de la fonction function_simple_avec_argument\n"
     ]
    }
   ],
   "source": [
    "def function_decoration_avec_argument(function):\n",
    "    def wrapper(*args):\n",
    "        print(\"Je suis dans le wrapper\")\n",
    "        function(*args)\n",
    "        print(f\"Je suis dans le wrapper apres lappel de la fonction {function.__name__}\")\n",
    "    return wrapper\n",
    "    \n",
    "@function_decoration_avec_argument\n",
    "def function_simple_avec_argument(argument):\n",
    "    print(f\"Je suis la fonction simple avec argument {argument}\")\n",
    "function_simple_avec_argument(\"OK?\")\n",
    "\n"
   ]
  },
  {
   "cell_type": "code",
   "execution_count": 18,
   "id": "6801881d-e89a-4749-a909-e2a1579a6d76",
   "metadata": {},
   "outputs": [
    {
     "name": "stdout",
     "output_type": "stream",
     "text": [
      "Je suis dans le wrapper\n"
     ]
    },
    {
     "ename": "TypeError",
     "evalue": "function_simple_avec_argument_et_argument_optionel() takes 1 positional argument but 2 were given",
     "output_type": "error",
     "traceback": [
      "\u001b[1;31m---------------------------------------------------------------------------\u001b[0m",
      "\u001b[1;31mTypeError\u001b[0m                                 Traceback (most recent call last)",
      "Cell \u001b[1;32mIn[18], line 5\u001b[0m\n\u001b[0;32m      3\u001b[0m     \u001b[38;5;28mprint\u001b[39m(\u001b[38;5;124mf\u001b[39m\u001b[38;5;124m\"\u001b[39m\u001b[38;5;124mJe suis la fonction simple avec argument \u001b[39m\u001b[38;5;132;01m{\u001b[39;00margument\u001b[38;5;132;01m}\u001b[39;00m\u001b[38;5;124m\"\u001b[39m)\n\u001b[0;32m      4\u001b[0m     \u001b[38;5;28mprint\u001b[39m(\u001b[38;5;124mf\u001b[39m\u001b[38;5;124m\"\u001b[39m\u001b[38;5;132;01m{\u001b[39;00mkwargs\u001b[38;5;132;01m}\u001b[39;00m\u001b[38;5;124m\"\u001b[39m)\n\u001b[1;32m----> 5\u001b[0m \u001b[43mfunction_simple_avec_argument_et_argument_optionel\u001b[49m\u001b[43m(\u001b[49m\u001b[38;5;124;43m\"\u001b[39;49m\u001b[38;5;124;43mOK ?\u001b[39;49m\u001b[38;5;124;43m\"\u001b[39;49m\u001b[43m,\u001b[49m\u001b[43m \u001b[49m\u001b[43m{\u001b[49m\u001b[38;5;124;43m\"\u001b[39;49m\u001b[38;5;124;43moption\u001b[39;49m\u001b[38;5;124;43m\"\u001b[39;49m\u001b[43m \u001b[49m\u001b[43m:\u001b[49m\u001b[43m \u001b[49m\u001b[38;5;124;43m\"\u001b[39;49m\u001b[38;5;124;43moptionelle\u001b[39;49m\u001b[38;5;124;43m\"\u001b[39;49m\u001b[43m}\u001b[49m\u001b[43m)\u001b[49m\n",
      "Cell \u001b[1;32mIn[16], line 4\u001b[0m, in \u001b[0;36mfunction_decoration_avec_argument.<locals>.wrapper\u001b[1;34m(*args)\u001b[0m\n\u001b[0;32m      2\u001b[0m \u001b[38;5;28;01mdef\u001b[39;00m \u001b[38;5;21mwrapper\u001b[39m(\u001b[38;5;241m*\u001b[39margs):\n\u001b[0;32m      3\u001b[0m     \u001b[38;5;28mprint\u001b[39m(\u001b[38;5;124m\"\u001b[39m\u001b[38;5;124mJe suis dans le wrapper\u001b[39m\u001b[38;5;124m\"\u001b[39m)\n\u001b[1;32m----> 4\u001b[0m     \u001b[43mfunction\u001b[49m\u001b[43m(\u001b[49m\u001b[38;5;241;43m*\u001b[39;49m\u001b[43margs\u001b[49m\u001b[43m)\u001b[49m\n\u001b[0;32m      5\u001b[0m     \u001b[38;5;28mprint\u001b[39m(\u001b[38;5;124mf\u001b[39m\u001b[38;5;124m\"\u001b[39m\u001b[38;5;124mJe suis dans le wrapper apres lappel de la fonction \u001b[39m\u001b[38;5;132;01m{\u001b[39;00mfunction\u001b[38;5;241m.\u001b[39m\u001b[38;5;18m__name__\u001b[39m\u001b[38;5;132;01m}\u001b[39;00m\u001b[38;5;124m\"\u001b[39m)\n",
      "\u001b[1;31mTypeError\u001b[0m: function_simple_avec_argument_et_argument_optionel() takes 1 positional argument but 2 were given"
     ]
    }
   ],
   "source": [
    "@function_decoration_avec_argument\n",
    "def function_simple_avec_argument_et_argument_optionel(argument, **kwargs):\n",
    "    print(f\"Je suis la fonction simple avec argument {argument}\")\n",
    "    print(f\"{kwargs}\")\n",
    "function_simple_avec_argument_et_argument_optionel(\"OK ?\", {\"option\" : \"optionelle\"})\n",
    "    "
   ]
  },
  {
   "cell_type": "code",
   "execution_count": 20,
   "id": "3ad13c78-21a3-47c8-90ff-bde7e23638b2",
   "metadata": {},
   "outputs": [
    {
     "name": "stdout",
     "output_type": "stream",
     "text": [
      "Je suis dans le wrapper\n",
      "Je suis la fonction simple avec argument OK ?\n",
      "{'kwargs': {'option': 'optionelle'}}\n",
      "Je suis dans le wrapper apres lappel de la fonction function_simple_avec_argument_et_argument_optionel\n"
     ]
    }
   ],
   "source": [
    "def function_decoration_avec_argument_et_argument_optionnelle(function):\n",
    "    def wrapper(*args, **kwargs):\n",
    "        print(\"Je suis dans le wrapper\")\n",
    "        function(*args, **kwargs)\n",
    "        print(f\"Je suis dans le wrapper apres lappel de la fonction {function.__name__}\")\n",
    "    return wrapper\n",
    "\n",
    "@function_decoration_avec_argument_et_argument_optionnelle\n",
    "def function_simple_avec_argument_et_argument_optionel(argument, **kwargs):\n",
    "    print(f\"Je suis la fonction simple avec argument {argument}\")\n",
    "    print(f\"{kwargs}\")\n",
    "    \n",
    "function_simple_avec_argument_et_argument_optionel(\"OK ?\", kwargs={\"option\" : \"optionelle\"})\n",
    "\n",
    "\n"
   ]
  },
  {
   "cell_type": "code",
   "execution_count": 21,
   "id": "6156b966-ae83-4366-a760-0fc6e1c27800",
   "metadata": {},
   "outputs": [
    {
     "name": "stdout",
     "output_type": "stream",
     "text": [
      "Je suis dans la class as decorator\n",
      "Je suis la fonction simple pour etre decorate avec une classe avec argument OK ?\n",
      "{'kwargs': {'option': 'optionelle'}}\n",
      "Je suis dans la class as decorator apres l'appel de la fonction function_simple_pour_class_decorator\n"
     ]
    }
   ],
   "source": [
    "class DecoratorAsClass:\n",
    "    def __init__(self, function):\n",
    "        self.function = function\n",
    "\n",
    "    def __call__(self, *args, **kwargs):\n",
    "        print(\"Je suis dans la class as decorator\")\n",
    "        result = self.function(*args, **kwargs)\n",
    "        print(f\"Je suis dans la class as decorator apres l'appel de la fonction {self.function.__name__}\")\n",
    "        return result\n",
    "\n",
    "@DecoratorAsClass\n",
    "def function_simple_pour_class_decorator(argument, **kwargs):\n",
    "    print(f\"Je suis la fonction simple pour etre decorate avec une classe avec argument {argument}\")\n",
    "    print(f\"{kwargs}\")      \n",
    "\n",
    "function_simple_pour_class_decorator(\"OK ?\", kwargs={\"option\" : \"optionelle\"})\n",
    "    "
   ]
  },
  {
   "cell_type": "code",
   "execution_count": 22,
   "id": "70e34a3a-309a-4c5b-bb38-1aed162d64f5",
   "metadata": {},
   "outputs": [
    {
     "name": "stdout",
     "output_type": "stream",
     "text": [
      "I'm called\n",
      "I'm called\n",
      "I'm called\n"
     ]
    }
   ],
   "source": [
    "def repeat(function):\n",
    "    def wrapper():\n",
    "        for i in range(0, 3):\n",
    "            function()\n",
    "    return wrapper\n",
    "\n",
    "@repeat\n",
    "def print_my_call():\n",
    "    print(\"I'm called\")\n",
    "\n",
    "print_my_call()"
   ]
  },
  {
   "cell_type": "code",
   "execution_count": 25,
   "id": "8f14f490-d660-4427-8629-0e918cac4fe1",
   "metadata": {},
   "outputs": [
    {
     "name": "stdout",
     "output_type": "stream",
     "text": [
      "I'm called\n",
      "I'm called\n",
      "I'm called\n",
      "I'm called\n",
      "I'm called\n"
     ]
    }
   ],
   "source": [
    "def repeat_parameter(number):\n",
    "    def repeat(function):\n",
    "        def wrapper():\n",
    "            for i in range(0, number):\n",
    "                function()\n",
    "        return wrapper\n",
    "    return repeat \n",
    "\n",
    "@repeat_parameter(5)\n",
    "def print_my_call():\n",
    "    print(\"I'm called\")\n",
    "\n",
    "print_my_call()"
   ]
  },
  {
   "cell_type": "code",
   "execution_count": 30,
   "id": "a2dfb53b-3994-4054-a649-acaa49eeb83d",
   "metadata": {},
   "outputs": [
    {
     "ename": "TypeError",
     "evalue": "repeat_parameter_default_value.<locals>.repeat() missing 1 required positional argument: 'function'",
     "output_type": "error",
     "traceback": [
      "\u001b[1;31m---------------------------------------------------------------------------\u001b[0m",
      "\u001b[1;31mTypeError\u001b[0m                                 Traceback (most recent call last)",
      "Cell \u001b[1;32mIn[30], line 13\u001b[0m\n\u001b[0;32m      9\u001b[0m \u001b[38;5;129m@repeat_parameter_default_value\u001b[39m\n\u001b[0;32m     10\u001b[0m \u001b[38;5;28;01mdef\u001b[39;00m \u001b[38;5;21mprint_my_call\u001b[39m():\n\u001b[0;32m     11\u001b[0m     \u001b[38;5;28mprint\u001b[39m(\u001b[38;5;124m\"\u001b[39m\u001b[38;5;124mI\u001b[39m\u001b[38;5;124m'\u001b[39m\u001b[38;5;124mm called\u001b[39m\u001b[38;5;124m\"\u001b[39m)\n\u001b[1;32m---> 13\u001b[0m \u001b[43mprint_my_call\u001b[49m\u001b[43m(\u001b[49m\u001b[43m)\u001b[49m\n",
      "\u001b[1;31mTypeError\u001b[0m: repeat_parameter_default_value.<locals>.repeat() missing 1 required positional argument: 'function'"
     ]
    }
   ],
   "source": [
    "def repeat_parameter_default_value(number = 3):\n",
    "    def repeat(function):\n",
    "        def wrapper():\n",
    "            for i in range(0, number):\n",
    "                function()\n",
    "        return wrapper\n",
    "    return repeat \n",
    "\n",
    "@repeat_parameter_default_value\n",
    "def print_my_call():\n",
    "    print(\"I'm called\")\n",
    "\n",
    "print_my_call()"
   ]
  },
  {
   "cell_type": "code",
   "execution_count": 36,
   "id": "a86b86a9-cf20-4065-9492-446f0e96148e",
   "metadata": {},
   "outputs": [
    {
     "name": "stdout",
     "output_type": "stream",
     "text": [
      " C'est une fonction très compliqué je souhaite avoir accès à la documentation\n",
      "function_avec_de_la_documentation\n"
     ]
    }
   ],
   "source": [
    "def function_avec_de_la_documentation():\n",
    "    \"\"\" C'est une fonction très compliqué je souhaite avoir accès à la documentation\"\"\"\n",
    "    print(\"je suis une fonction avec de la documentaton\")\n",
    "\n",
    "print(function_avec_de_la_documentation.__doc__)\n",
    "print(function_avec_de_la_documentation.__name__)"
   ]
  },
  {
   "cell_type": "code",
   "execution_count": 37,
   "id": "c14f32b1-189d-42e7-873a-8702f1542807",
   "metadata": {},
   "outputs": [
    {
     "name": "stdout",
     "output_type": "stream",
     "text": [
      " Documentation du wrapper\n",
      "wrapper\n"
     ]
    }
   ],
   "source": [
    "def decorator_simple(function):\n",
    "    def wrapper():\n",
    "        \"\"\" Documentation du wrapper\"\"\"\n",
    "        print(\"in the wrapper\")\n",
    "        return function()\n",
    "    return wrapper\n",
    "    \n",
    "@decorator_simple\n",
    "def function_avec_de_la_documentation():\n",
    "    \"\"\" C'est une fonction très compliqué je souhaite avoir accès à la documentation\"\"\"\n",
    "    print(\"je suis une fonction avec de la documentaton\")\n",
    "\n",
    "print(function_avec_de_la_documentation.__doc__)\n",
    "print(function_avec_de_la_documentation.__name__)"
   ]
  },
  {
   "cell_type": "code",
   "execution_count": 38,
   "id": "1d97fb9e-3ecc-423e-bbf5-acd17856fcfe",
   "metadata": {},
   "outputs": [
    {
     "name": "stdout",
     "output_type": "stream",
     "text": [
      " C'est une fonction très compliqué je souhaite avoir accès à la documentation\n",
      "function_avec_de_la_documentation\n"
     ]
    }
   ],
   "source": [
    "from functools import wraps\n",
    "def decorator_simple_mais_cosnerve_la_doc(function):\n",
    "    @wraps(function)\n",
    "    def wrapper():\n",
    "        \"\"\" Documentation du wrapper\"\"\"\n",
    "        print(\"in the wrapper\")\n",
    "        return function()\n",
    "    return wrapper\n",
    "    \n",
    "@decorator_simple_mais_cosnerve_la_doc\n",
    "def function_avec_de_la_documentation():\n",
    "    \"\"\" C'est une fonction très compliqué je souhaite avoir accès à la documentation\"\"\"\n",
    "    print(\"je suis une fonction avec de la documentaton\")\n",
    "\n",
    "print(function_avec_de_la_documentation.__doc__)\n",
    "print(function_avec_de_la_documentation.__name__)"
   ]
  },
  {
   "cell_type": "code",
   "execution_count": 48,
   "id": "185c06c5-859f-4a45-aee8-fa0bc35c1be0",
   "metadata": {},
   "outputs": [
    {
     "data": {
      "text/plain": [
       "'d3af06370607da40650736d6e48aba9d2f858ae3'"
      ]
     },
     "execution_count": 48,
     "metadata": {},
     "output_type": "execute_result"
    }
   ],
   "source": [
    "import hashlib\n",
    "import pickle\n",
    "import time\n",
    "\n",
    "def calcul_tres_complique(a, b):\n",
    "    time.sleep(5)\n",
    "    return a + b \n",
    "    \n",
    "def compute_key(function, args, kwargs):\n",
    "    key_intermediare = pickle.dumps((function.__name__, args, kwargs))\n",
    "    return hashlib.sha1(key_intermediare).hexdigest()\n",
    "\n",
    "compute_key(calcul_tres_complique, 2, 5)"
   ]
  },
  {
   "cell_type": "code",
   "execution_count": 49,
   "id": "d56168c5-63e1-4798-a317-ecc3a069a4f4",
   "metadata": {},
   "outputs": [
    {
     "data": {
      "text/plain": [
       "'e340603d57fbd73dde3b443e9bf6799a35f51db2'"
      ]
     },
     "execution_count": 49,
     "metadata": {},
     "output_type": "execute_result"
    }
   ],
   "source": [
    "compute_key(calcul_tres_complique, 2, 4)"
   ]
  },
  {
   "cell_type": "code",
   "execution_count": 50,
   "id": "20e771bd-d44c-4bef-92c5-923f376982a6",
   "metadata": {},
   "outputs": [
    {
     "data": {
      "text/plain": [
       "'d3af06370607da40650736d6e48aba9d2f858ae3'"
      ]
     },
     "execution_count": 50,
     "metadata": {},
     "output_type": "execute_result"
    }
   ],
   "source": [
    "compute_key(calcul_tres_complique, 2, 5)"
   ]
  },
  {
   "cell_type": "code",
   "execution_count": 52,
   "id": "9c55fd61-648d-4479-9cc0-595bfde2a2a5",
   "metadata": {},
   "outputs": [
    {
     "name": "stdout",
     "output_type": "stream",
     "text": [
      "call calcul_tres_complique(1,3)\n",
      "{'605d216796f1b774f6899c22f537343f894ac076': 4}\n",
      "call calcul_tres_complique(1,4)\n",
      "{'605d216796f1b774f6899c22f537343f894ac076': 4, '7bdbfccc74f35b095017b915d1ef51a70e616a40': 5}\n",
      "call calcul_tres_complique(1,3)\n"
     ]
    },
    {
     "data": {
      "text/plain": [
       "4"
      ]
     },
     "execution_count": 52,
     "metadata": {},
     "output_type": "execute_result"
    }
   ],
   "source": [
    "cache = {}\n",
    "def memoire(function):\n",
    "    def wrapper(*args, **kwargs):\n",
    "        key = compute_key(function, args, kwargs)\n",
    "        if (key in cache.keys()):\n",
    "            return cache[key]\n",
    "        result = function(*args, **kwargs)\n",
    "        cache[key] = result\n",
    "        return result\n",
    "    return wrapper\n",
    "    \n",
    "@memoire\n",
    "def calcul_tres_complique(a, b):\n",
    "    time.sleep(5)\n",
    "    return a + b \n",
    "\n",
    "print(\"call calcul_tres_complique(1,3)\")\n",
    "calcul_tres_complique(1, 3)\n",
    "print(cache)\n",
    "print(\"call calcul_tres_complique(1,4)\")\n",
    "calcul_tres_complique(1, 4)\n",
    "print(cache)\n",
    "print(\"call calcul_tres_complique(1,3)\")\n",
    "calcul_tres_complique(1, 3)"
   ]
  },
  {
   "cell_type": "code",
   "execution_count": 53,
   "id": "9a6c5aa3-254c-4517-88ce-914a63c6824f",
   "metadata": {},
   "outputs": [
    {
     "data": {
      "text/plain": [
       "4"
      ]
     },
     "execution_count": 53,
     "metadata": {},
     "output_type": "execute_result"
    }
   ],
   "source": [
    "calcul_tres_complique(1, 3)"
   ]
  },
  {
   "cell_type": "code",
   "execution_count": 54,
   "id": "14494dd5-4193-4624-924f-1670f3cfe97e",
   "metadata": {},
   "outputs": [
    {
     "data": {
      "text/plain": [
       "6"
      ]
     },
     "execution_count": 54,
     "metadata": {},
     "output_type": "execute_result"
    }
   ],
   "source": [
    "calcul_tres_complique(1, 5)"
   ]
  },
  {
   "cell_type": "code",
   "execution_count": 56,
   "id": "38dd695b-16fd-407f-9fca-36bbd92f147a",
   "metadata": {},
   "outputs": [
    {
     "name": "stdout",
     "output_type": "stream",
     "text": [
      "call calcul_tres_complique(1,3)\n",
      "{'605d216796f1b774f6899c22f537343f894ac076': {'value': 4, 'time': 1719234091.637001}}\n",
      "call calcul_tres_complique(1,4)\n",
      "{'605d216796f1b774f6899c22f537343f894ac076': {'value': 4, 'time': 1719234091.637001}, '7bdbfccc74f35b095017b915d1ef51a70e616a40': {'value': 5, 'time': 1719234092.638111}}\n",
      "call calcul_tres_complique(1,3)\n",
      "Value in the dict and not obsolete\n",
      "{'605d216796f1b774f6899c22f537343f894ac076': {'value': 4, 'time': 1719234091.637001}, '7bdbfccc74f35b095017b915d1ef51a70e616a40': {'value': 5, 'time': 1719234092.638111}}\n",
      "sleep for 10s\n",
      "call calcul_tres_complique(1,3)\n",
      "{'605d216796f1b774f6899c22f537343f894ac076': {'value': 4, 'time': 1719234103.641265}, '7bdbfccc74f35b095017b915d1ef51a70e616a40': {'value': 5, 'time': 1719234092.638111}}\n"
     ]
    }
   ],
   "source": [
    "cache = {}\n",
    "def memoire_parameter(duree_max):\n",
    "    def memoire(function):\n",
    "        def wrapper(*args, **kwargs):\n",
    "            key = compute_key(function, args, kwargs)\n",
    "            if (key in cache.keys() and (time.time() - cache[key][\"time\"] < duree_max)):\n",
    "                print(\"Value in the dict and not obsolete\")\n",
    "                return cache[key]\n",
    "            result = function(*args, **kwargs)\n",
    "            cache[key] = { \"value\" : result, \"time\" : time.time()}\n",
    "            return result\n",
    "        return wrapper\n",
    "    return memoire\n",
    "    \n",
    "@memoire_parameter(10)\n",
    "def calcul_tres_complique(a, b):\n",
    "    time.sleep(1)\n",
    "    return a + b \n",
    "\n",
    "print(\"call calcul_tres_complique(1,3)\")\n",
    "calcul_tres_complique(1, 3)\n",
    "print(cache)\n",
    "print(\"call calcul_tres_complique(1,4)\")\n",
    "calcul_tres_complique(1, 4)\n",
    "print(cache)\n",
    "print(\"call calcul_tres_complique(1,3)\")\n",
    "calcul_tres_complique(1, 3)\n",
    "print(cache)\n",
    "\n",
    "print(\"sleep for 10s\")\n",
    "time.sleep(10)\n",
    "print(\"call calcul_tres_complique(1,3)\")\n",
    "calcul_tres_complique(1, 3)\n",
    "print(cache)"
   ]
  },
  {
   "cell_type": "code",
   "execution_count": 58,
   "id": "22ad49c5-03d2-46f7-9969-b9c068ab5dae",
   "metadata": {},
   "outputs": [
    {
     "name": "stdout",
     "output_type": "stream",
     "text": [
      " Tps d'execution : 2.0008487701416016 secondes pour la fonction simple_function\n",
      "Data\n"
     ]
    }
   ],
   "source": [
    "import time\n",
    "def time_execution_with_msg(message):\n",
    "    def time_execution(function):\n",
    "        def wrapper():\n",
    "            start_time = time.time()\n",
    "            result = function()\n",
    "            end_time = time.time()\n",
    "            print(f\"{message} : {end_time - start_time} secondes pour la fonction {function.__name__}\")\n",
    "            return result\n",
    "        return wrapper\n",
    "    return time_execution\n",
    " \n",
    " \n",
    "@time_execution_with_msg(message = \" Tps d'execution\")\n",
    "def simple_function():\n",
    "    time.sleep(2)\n",
    "    return \"Data\"\n",
    "# appel\n",
    "resultat = simple_function()\n",
    "print(resultat)"
   ]
  },
  {
   "cell_type": "code",
   "execution_count": 68,
   "id": "642f6abc-3572-488f-831f-f6efb536a51a",
   "metadata": {},
   "outputs": [
    {
     "name": "stdout",
     "output_type": "stream",
     "text": [
      "pas assez\n"
     ]
    },
    {
     "ename": "AccesRefuse",
     "evalue": "",
     "output_type": "error",
     "traceback": [
      "\u001b[1;31m---------------------------------------------------------------------------\u001b[0m",
      "\u001b[1;31mAccesRefuse\u001b[0m                               Traceback (most recent call last)",
      "Cell \u001b[1;32mIn[68], line 43\u001b[0m\n\u001b[0;32m     41\u001b[0m argentGestion\u001b[38;5;241m.\u001b[39mgetUserSalary()\n\u001b[0;32m     42\u001b[0m \u001b[38;5;66;03m#argentGestion.getAdminSalary()\u001b[39;00m\n\u001b[1;32m---> 43\u001b[0m \u001b[43margentGestion\u001b[49m\u001b[38;5;241;43m.\u001b[39;49m\u001b[43mgetGuestSalary\u001b[49m\u001b[43m(\u001b[49m\u001b[43m)\u001b[49m\n",
      "Cell \u001b[1;32mIn[68], line 19\u001b[0m, in \u001b[0;36mprotect_with_role.<locals>.protect.<locals>.wrapper\u001b[1;34m(*args, **kwargs)\u001b[0m\n\u001b[0;32m     17\u001b[0m     \u001b[38;5;28;01mreturn\u001b[39;00m function(\u001b[38;5;241m*\u001b[39margs, \u001b[38;5;241m*\u001b[39m\u001b[38;5;241m*\u001b[39mkwargs)\n\u001b[0;32m     18\u001b[0m \u001b[38;5;28;01melse\u001b[39;00m:\n\u001b[1;32m---> 19\u001b[0m     \u001b[38;5;28;01mraise\u001b[39;00m AccesRefuse\n",
      "\u001b[1;31mAccesRefuse\u001b[0m: "
     ]
    }
   ],
   "source": [
    "class User:\n",
    "    def __init__(self, roles):\n",
    "        self.roles = roles\n",
    "\n",
    "class AccesRefuse(Exception):\n",
    "    pass\n",
    "\n",
    "adminUser = User((\"admin\", \"user\"))\n",
    "simpleUser = User(\"user\")\n",
    "\n",
    "\n",
    "def protect_with_role(role):\n",
    "    def protect(function):\n",
    "        def wrapper(*args, **kwargs):\n",
    "            user = globals().get(\"user\")\n",
    "            if user is not None and role in user.roles:\n",
    "                return function(*args, **kwargs)\n",
    "            else:\n",
    "                raise AccesRefuse\n",
    "        return wrapper\n",
    "    return protect\n",
    "\n",
    "class ArgentGestion():\n",
    "    @protect_with_role(\"user\")\n",
    "    def getUserSalary(self):\n",
    "        print(\"pas assez\")\n",
    "        \n",
    "    @protect_with_role(\"admin\") \n",
    "    def getAdminSalary(self):\n",
    "        print(\"bcp trop\")\n",
    "        \n",
    "    @protect_with_role(\"guest\") \n",
    "    def getGuestSalary(self):\n",
    "        print(\" aha ah ah\")\n",
    "        \n",
    "user = simpleUser\n",
    "\n",
    "argentGestion = ArgentGestion()\n",
    "\n",
    "\n",
    "argentGestion.getUserSalary()\n",
    "#argentGestion.getAdminSalary()\n",
    "argentGestion.getGuestSalary()"
   ]
  },
  {
   "cell_type": "code",
   "execution_count": null,
   "id": "bfc61d60-1bec-4a7e-ba0d-13ba56d7b2f1",
   "metadata": {},
   "outputs": [],
   "source": []
  }
 ],
 "metadata": {
  "kernelspec": {
   "display_name": "Python 3 (ipykernel)",
   "language": "python",
   "name": "python3"
  },
  "language_info": {
   "codemirror_mode": {
    "name": "ipython",
    "version": 3
   },
   "file_extension": ".py",
   "mimetype": "text/x-python",
   "name": "python",
   "nbconvert_exporter": "python",
   "pygments_lexer": "ipython3",
   "version": "3.12.0"
  }
 },
 "nbformat": 4,
 "nbformat_minor": 5
}
