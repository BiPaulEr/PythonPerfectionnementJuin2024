{
 "cells": [
  {
   "cell_type": "markdown",
   "id": "33af90b2-8b7a-4766-8c40-d9a62f7251c4",
   "metadata": {},
   "source": [
    "Example Try Finally remplacé par with"
   ]
  },
  {
   "cell_type": "code",
   "execution_count": 1,
   "id": "9cad4a76-6229-4e02-b180-26fb5e55d984",
   "metadata": {},
   "outputs": [
    {
     "name": "stdout",
     "output_type": "stream",
     "text": [
      "Ligne 1\n",
      "Ligne 2\n",
      "Ligne 3\n",
      "Ligne 4\n",
      "Ligne 5\n"
     ]
    }
   ],
   "source": [
    "file = open(\"./fichier.txt\")\n",
    "try:\n",
    "    for line in file:\n",
    "        print(line.strip())\n",
    "finally:\n",
    "    file.close()"
   ]
  },
  {
   "cell_type": "markdown",
   "id": "be006c2f-b997-4175-8698-0bfcf3b53e3b",
   "metadata": {},
   "source": [
    "Remplacé par with"
   ]
  },
  {
   "cell_type": "code",
   "execution_count": 3,
   "id": "985c5c10-7b23-45df-abf5-6bdc0b2c5564",
   "metadata": {},
   "outputs": [
    {
     "name": "stdout",
     "output_type": "stream",
     "text": [
      "Ligne 1\n",
      "Ligne 2\n",
      "Ligne 3\n",
      "Ligne 4\n",
      "Ligne 5\n"
     ]
    }
   ],
   "source": [
    "with open(\"./fichier.txt\") as file:\n",
    "    for line in file:\n",
    "        print(line.strip())\n"
   ]
  },
  {
   "cell_type": "markdown",
   "id": "356f3a91-2b20-404c-bf6e-ff8f643a3b10",
   "metadata": {},
   "source": [
    "Faire son propre context manager pour l'utlisation avec with"
   ]
  },
  {
   "cell_type": "code",
   "execution_count": 13,
   "id": "c2304606-3acd-4fbf-bce5-aae8ab54d933",
   "metadata": {},
   "outputs": [
    {
     "name": "stdout",
     "output_type": "stream",
     "text": [
      " Je suis entrée dans le contexte, des opération de préparations\n",
      " Je suis dans le contexte de with : Instruction 1\n",
      " Je suis dans le contexte de with : Instruction 2\n",
      "On quitte le contexte\n",
      "Type of the Exception : <class 'ValueError'>\n",
      "Value of the Isntance :  La donnée est pas bonne\n"
     ]
    }
   ],
   "source": [
    "class ContexteIllustration:\n",
    "    def __enter__(self):\n",
    "        print(\" Je suis entrée dans le contexte, des opération de préparations\")\n",
    "        \n",
    "    def __exit__(self, exc_type, exc_value, traceback):\n",
    "        print(\"On quitte le contexte\")\n",
    "        if exc_type is None:\n",
    "            print(\"Pas d'erreurs pendant les instructions dans le contexte de with\")\n",
    "            return True\n",
    "        else:\n",
    "            print(f\"Type of the Exception : {exc_type}\")\n",
    "            print(f\"Value of the Isntance : {exc_value}\")\n",
    "            return True\n",
    "\n",
    "\n",
    "with ContexteIllustration():\n",
    "    print( \" Je suis dans le contexte de with : Instruction 1\")\n",
    "    print( \" Je suis dans le contexte de with : Instruction 2\")\n",
    "    raise ValueError(\" La donnée est pas bonne\")\n",
    "# d'exception         "
   ]
  },
  {
   "cell_type": "markdown",
   "id": "82749fa5-6765-4558-adf1-491d267f3559",
   "metadata": {},
   "source": [
    "Exemple avec application de patch temporaire"
   ]
  },
  {
   "cell_type": "code",
   "execution_count": 14,
   "id": "4e9b24a5-c3fd-45bf-9aa3-fde6dc1fd232",
   "metadata": {},
   "outputs": [
    {
     "name": "stdout",
     "output_type": "stream",
     "text": [
      "Instruction 1\n"
     ]
    }
   ],
   "source": [
    "\n",
    "class Config:\n",
    "    etat = \"normal\"\n",
    "\n",
    "config = Config()\n",
    "\n",
    "etat_orignal = config.etat\n",
    "\n",
    "try: \n",
    "    config.etat = \"temporaire\"\n",
    "    print(\"Instruction 1\")\n",
    "finally:\n",
    "    config.etat = etat_orignal"
   ]
  },
  {
   "cell_type": "code",
   "execution_count": 18,
   "id": "6c812aaf-dfc0-4b90-abc9-309255e68aca",
   "metadata": {},
   "outputs": [
    {
     "name": "stdout",
     "output_type": "stream",
     "text": [
      "Etat Courant : temp\n",
      "fin __enter__\n",
      "instruction 1\n",
      "Etat Courant : normal\n",
      "fin __exit__\n",
      "Etat Courant : temporatire_etat\n",
      "fin __enter__\n",
      "instruction 2\n",
      "Etat Courant : Precision10-5\n",
      "fin __exit__\n"
     ]
    }
   ],
   "source": [
    "class ConfigManager:\n",
    "    def __init__(self, currentConfig, etatTemporaire):\n",
    "        self.currentConfig = currentConfig\n",
    "        self.etatTemporaire = etatTemporaire\n",
    "        \n",
    "    def __enter__(self):\n",
    "        self.currentEtat = self.currentConfig.etat\n",
    "        self.currentConfig.etat = self.etatTemporaire\n",
    "        print(f\"Etat Courant : {self.currentConfig.etat}\")\n",
    "        print(\"fin __enter__\")\n",
    "        \n",
    "    def __exit__(self, exc_type, exc_value, traceback):\n",
    "        self.currentConfig.etat = self.currentEtat\n",
    "        print(f\"Etat Courant : {self.currentConfig.etat}\")\n",
    "        print(\"fin __exit__\")\n",
    "        return True\n",
    "        \n",
    "config = Config()\n",
    "\n",
    "with ConfigManager(config, \"temp\"):\n",
    "    print(\"instruction 1\")\n",
    "config.etat = \"Precision10-5\"\n",
    "with ConfigManager(config, \"temporatire_etat\"):\n",
    "    print(\"instruction 2\")\n",
    "\n",
    "\n"
   ]
  },
  {
   "cell_type": "code",
   "execution_count": 20,
   "id": "e70f25e7-7006-484f-843c-a1580acc55ce",
   "metadata": {},
   "outputs": [
    {
     "name": "stdout",
     "output_type": "stream",
     "text": [
      " Je suis entrée dans le contexte, des opération de préparations\n",
      "Ceci est ma valeur de retour\n",
      " Je suis dans le contexte de with : Instruction 1\n",
      " Je suis dans le contexte de with : Instruction 2\n",
      "On quitte le contexte\n",
      "Pas d'erreurs pendant les instructions dans le contexte de with\n"
     ]
    }
   ],
   "source": [
    "class ContexteIllustrationWithRetour:\n",
    "    def __enter__(self):\n",
    "        print(\" Je suis entrée dans le contexte, des opération de préparations\")\n",
    "        return \"Ceci est ma valeur de retour\"\n",
    "        \n",
    "    def __exit__(self, exc_type, exc_value, traceback):\n",
    "        print(\"On quitte le contexte\")\n",
    "        if exc_type is None:\n",
    "            print(\"Pas d'erreurs pendant les instructions dans le contexte de with\")\n",
    "            return True\n",
    "        else:\n",
    "            print(f\"Type of the Exception : {exc_type}\")\n",
    "            print(f\"Value of the Isntance : {exc_value}\")\n",
    "            return True\n",
    "\n",
    "\n",
    "with ContexteIllustrationWithRetour() as valeur_de_retour_de_enter:\n",
    "    print(valeur_de_retour_de_enter)\n",
    "    print( \" Je suis dans le contexte de with : Instruction 1\")\n",
    "    print( \" Je suis dans le contexte de with : Instruction 2\")\n",
    "# d'exception       "
   ]
  },
  {
   "cell_type": "markdown",
   "id": "43b2de30-dd12-449d-b2a5-34c0abec5a4c",
   "metadata": {},
   "source": [
    "Exerice FakeDB : correction"
   ]
  },
  {
   "cell_type": "code",
   "execution_count": 31,
   "id": "c85e1c26-65b7-4d45-9a09-248fed708969",
   "metadata": {},
   "outputs": [
    {
     "name": "stdout",
     "output_type": "stream",
     "text": [
      "Je suis entrée dans le contexte.\n",
      "Transaction débutée\n",
      "instruction 1\n",
      "Nous quittons le contexte\n",
      "Type of the Exception : <class 'ValueError'>\n",
      "Value of the Isntance : \n",
      "Transaction annulée (rollback)\n"
     ]
    }
   ],
   "source": [
    "class FakeDB:\n",
    "    def begin(self):\n",
    "        print(\"Transaction débutée\")\n",
    "\n",
    "    def commit(self):\n",
    "        print(\"Transaction validée (commit)\")\n",
    "\n",
    "    def rollback(self):\n",
    "        print(\"Transaction annulée (rollback)\")\n",
    "\n",
    "class Transaction:\n",
    "    def __init__(self):\n",
    "        self.db = FakeDB()\n",
    "        \n",
    "    def __enter__(self):\n",
    "        print(\"Je suis entrée dans le contexte.\")\n",
    "        self.db.begin()\n",
    "        return self.db\n",
    "        \n",
    "    def __exit__(self, exc_type, exc_value, traceback):\n",
    "        print(\"Nous quittons le contexte\")\n",
    "        if exc_type is None:\n",
    "            print(\"Pas d'erreurs pendant les instructions dans le contexte de with\")\n",
    "            self.db.commit()\n",
    "            return True\n",
    "        else:\n",
    "            print(f\"Type of the Exception : {exc_type}\")\n",
    "            print(f\"Value of the Isntance : {exc_value}\")\n",
    "            self.db.rollback()\n",
    "            return True\n",
    "            \n",
    "fakeDB = FakeDB()\n",
    "with Transaction() as db:\n",
    "    print(\"instruction 1\")\n",
    "    raise ValueError(\"\")"
   ]
  },
  {
   "cell_type": "markdown",
   "id": "0b5817cd-bd37-4d2c-b3dc-e29297d377ce",
   "metadata": {},
   "source": [
    "Exerice 2 : Benchmark"
   ]
  },
  {
   "cell_type": "code",
   "execution_count": 34,
   "id": "67f6a641-cfee-431f-b7e8-a443857541a6",
   "metadata": {},
   "outputs": [
    {
     "name": "stdout",
     "output_type": "stream",
     "text": [
      "10.0\n"
     ]
    }
   ],
   "source": [
    "import time\n",
    "class PreciseTimer:\n",
    "    def __init__(self, precision: int = 0):\n",
    "        self.t0 = None\n",
    "        self.t1 = None\n",
    "        self.time = None\n",
    "        self.precision = precision\n",
    " \n",
    "    def __enter__(self):\n",
    "        self.t0 = time.perf_counter()  # Better than time()\n",
    " \n",
    "    def __exit__(self, exc_type, exc_value, traceback):\n",
    "        if exc_type:\n",
    "            return False\n",
    " \n",
    "        self.t1 = time.perf_counter()\n",
    "        self.time = self.t1 - self.t0\n",
    "        print(round(self.time, self.precision))\n",
    "        return True\n",
    " \n",
    " \n",
    "with PreciseTimer() as timer:\n",
    "    sum(range(100000000))"
   ]
  },
  {
   "cell_type": "markdown",
   "id": "743343f1-a95d-41e9-ba51-f78371a1b3c6",
   "metadata": {},
   "source": [
    "Démonstration de contextlib"
   ]
  },
  {
   "cell_type": "code",
   "execution_count": 37,
   "id": "c11f2fab-cc9e-4c70-aa95-1210771236e9",
   "metadata": {},
   "outputs": [
    {
     "name": "stdout",
     "output_type": "stream",
     "text": [
      " Je suis entrée dans le contexte, des opération de préparations\n",
      " je suis dans le contexte\n",
      "Type of the Exception : <class 'ValueError'>\n",
      "Value of the Isntance : \n",
      "Instruction qui sera tout le temps executé exceptions ou pas\n"
     ]
    }
   ],
   "source": [
    "class ContexteIllustration:\n",
    "    def __enter__(self):\n",
    "        print(\" Je suis entrée dans le contexte, des opération de préparations\")\n",
    "        \n",
    "    def __exit__(self, exc_type, exc_value, traceback):\n",
    "        print(\"On quitte le contexte\")\n",
    "        if exc_type is None:\n",
    "            print(\"Pas d'erreurs pendant les instructions dans le contexte de with\")\n",
    "            return True\n",
    "        else:\n",
    "            print(f\"Type of the Exception : {exc_type}\")\n",
    "            print(f\"Value of the Isntance : {exc_value}\")\n",
    "            return True\n",
    "\n",
    "from contextlib import contextmanager\n",
    "\n",
    "@contextmanager\n",
    "def contexte_illustration():\n",
    "    print(\" Je suis entrée dans le contexte, des opération de préparations\")\n",
    "    try:\n",
    "        yield #place où les instructions du contexte vont se faire\n",
    "    except Exception as e:\n",
    "        print(f\"Type of the Exception : {type(e)}\")\n",
    "        print(f\"Value of the Isntance : {e}\")\n",
    "    else:\n",
    "        print(\"Pas d'erreurs pendant les instructions dans le contexte de with\")\n",
    "    finally:\n",
    "        print(\"Instruction qui sera tout le temps executé exceptions ou pas\")\n",
    "  \n",
    "with contexte_illustration():\n",
    "    print(\"je suis dans le contexte\")\n",
    "    raise ValueError(\"\")\n",
    "        "
   ]
  },
  {
   "cell_type": "markdown",
   "id": "29b8f3cf-057b-4b0b-bd0f-73549e272813",
   "metadata": {},
   "source": [
    "Démonstration de contextlib :-> closing"
   ]
  },
  {
   "cell_type": "code",
   "execution_count": null,
   "id": "5bebda1b-8512-4fbe-b2a8-e6a170d7aa9c",
   "metadata": {},
   "outputs": [],
   "source": []
  },
  {
   "cell_type": "code",
   "execution_count": 38,
   "id": "51716490-f566-4e73-8a81-11b30f97dd47",
   "metadata": {},
   "outputs": [
    {
     "name": "stdout",
     "output_type": "stream",
     "text": [
      "Ouverture de la connexion à la db\n",
      "instruction 1\n",
      "Fermeture de la connexion\n"
     ]
    }
   ],
   "source": [
    "class FakeDbConnection:\n",
    "    def __init__(self):\n",
    "        print(\"Ouverture de la connexion à la db\")\n",
    "    def close(self):\n",
    "        print(\"Fermeture de la connexion\")\n",
    "\"\"\"\n",
    "conn = FakeDbConnection()\n",
    "try:\n",
    "    instruction 1\n",
    "    instruction 2\n",
    "finally:\n",
    "    conn.close()\n",
    "\"\"\"\n",
    "from contextlib import closing\n",
    "\n",
    "with closing(FakeDbConnection()) as conn:\n",
    "    print(\"instruction 1\")"
   ]
  },
  {
   "cell_type": "markdown",
   "id": "bee1c834-d6e0-433f-ba01-87c2b6ed451e",
   "metadata": {},
   "source": [
    "Démonstration de contextlib :-> suppress"
   ]
  },
  {
   "cell_type": "code",
   "execution_count": 43,
   "id": "47c0c34c-872f-4f14-8a50-a00427527bdb",
   "metadata": {},
   "outputs": [],
   "source": [
    "from contextlib import suppress\n",
    "with suppress(FileNotFoundError):\n",
    "    with open(\"./fichier_qui_nexiste_pas.txt\") as file:\n",
    "        print(file.read())   "
   ]
  },
  {
   "cell_type": "code",
   "execution_count": 52,
   "id": "4d79be21-c7ce-4c3b-b83d-6e1af0a19e6e",
   "metadata": {},
   "outputs": [
    {
     "name": "stdout",
     "output_type": "stream",
     "text": [
      "Ceci est normallement envoyé dans la console\n",
      "\n"
     ]
    }
   ],
   "source": [
    "import io\n",
    "from contextlib import redirect_stdout, redirect_stderr\n",
    "#io.StringIO est un buffer de string sur la RAM\n",
    "with io.StringIO() as buf, redirect_stdout(buf):\n",
    "    print(\"Ceci est normallement envoyé dans la console\")\n",
    "    output = buf.getvalue()\n",
    "print(output)    # mettre en commentaire pur voir que le premier print n'est plus en destionation de la console "
   ]
  },
  {
   "cell_type": "markdown",
   "id": "65c0b22f-cd42-429d-8b54-a40c08ba1d80",
   "metadata": {},
   "source": [
    "Double gestionnaire de contexte"
   ]
  },
  {
   "cell_type": "code",
   "execution_count": 54,
   "id": "f74497f5-a138-4b87-855f-a53cd958260d",
   "metadata": {},
   "outputs": [
    {
     "name": "stdout",
     "output_type": "stream",
     "text": [
      "Ligne 1Ligne 1\n",
      "Ligne 2Ligne 2\n",
      "Ligne 3Ligne 3\n",
      "Ligne 4Ligne 4\n",
      "Ligne 5Ligne 5\n"
     ]
    }
   ],
   "source": [
    "with open(\"./fichier.txt\") as file1, open(\"./fichier2.txt\") as file2:\n",
    "        for line1, line2 in zip(file1, file2):\n",
    "            print(line1.strip() + line2.strip())"
   ]
  },
  {
   "cell_type": "code",
   "execution_count": null,
   "id": "74b4878f-9660-4e1d-8d2c-40b9d2e9109c",
   "metadata": {},
   "outputs": [],
   "source": []
  }
 ],
 "metadata": {
  "kernelspec": {
   "display_name": "Python 3 (ipykernel)",
   "language": "python",
   "name": "python3"
  },
  "language_info": {
   "codemirror_mode": {
    "name": "ipython",
    "version": 3
   },
   "file_extension": ".py",
   "mimetype": "text/x-python",
   "name": "python",
   "nbconvert_exporter": "python",
   "pygments_lexer": "ipython3",
   "version": "3.12.0"
  }
 },
 "nbformat": 4,
 "nbformat_minor": 5
}
