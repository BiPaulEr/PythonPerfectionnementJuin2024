{
 "cells": [
  {
   "cell_type": "markdown",
   "id": "33af90b2-8b7a-4766-8c40-d9a62f7251c4",
   "metadata": {},
   "source": [
    "Example Try Finally remplacé par with"
   ]
  },
  {
   "cell_type": "code",
   "execution_count": 1,
   "id": "9cad4a76-6229-4e02-b180-26fb5e55d984",
   "metadata": {},
   "outputs": [
    {
     "name": "stdout",
     "output_type": "stream",
     "text": [
      "Ligne 1\n",
      "Ligne 2\n",
      "Ligne 3\n",
      "Ligne 4\n",
      "Ligne 5\n"
     ]
    }
   ],
   "source": [
    "file = open(\"./fichier.txt\")\n",
    "try:\n",
    "    for line in file:\n",
    "        print(line.strip())\n",
    "finally:\n",
    "    file.close()"
   ]
  },
  {
   "cell_type": "markdown",
   "id": "be006c2f-b997-4175-8698-0bfcf3b53e3b",
   "metadata": {},
   "source": [
    "Remplacé par with"
   ]
  },
  {
   "cell_type": "code",
   "execution_count": 3,
   "id": "985c5c10-7b23-45df-abf5-6bdc0b2c5564",
   "metadata": {},
   "outputs": [
    {
     "name": "stdout",
     "output_type": "stream",
     "text": [
      "Ligne 1\n",
      "Ligne 2\n",
      "Ligne 3\n",
      "Ligne 4\n",
      "Ligne 5\n"
     ]
    }
   ],
   "source": [
    "with open(\"./fichier.txt\") as file:\n",
    "    for line in file:\n",
    "        print(line.strip())\n"
   ]
  },
  {
   "cell_type": "markdown",
   "id": "356f3a91-2b20-404c-bf6e-ff8f643a3b10",
   "metadata": {},
   "source": [
    "Faire son propre context manager pour l'utlisation avec with"
   ]
  },
  {
   "cell_type": "code",
   "execution_count": 13,
   "id": "c2304606-3acd-4fbf-bce5-aae8ab54d933",
   "metadata": {},
   "outputs": [
    {
     "name": "stdout",
     "output_type": "stream",
     "text": [
      " Je suis entrée dans le contexte, des opération de préparations\n",
      " Je suis dans le contexte de with : Instruction 1\n",
      " Je suis dans le contexte de with : Instruction 2\n",
      "On quitte le contexte\n",
      "Type of the Exception : <class 'ValueError'>\n",
      "Value of the Isntance :  La donnée est pas bonne\n"
     ]
    }
   ],
   "source": [
    "class ContexteIllustration:\n",
    "    def __enter__(self):\n",
    "        print(\" Je suis entrée dans le contexte, des opération de préparations\")\n",
    "        \n",
    "    def __exit__(self, exc_type, exc_value, traceback):\n",
    "        print(\"On quitte le contexte\")\n",
    "        if exc_type is None:\n",
    "            print(\"Pas d'erreurs pendant les instructions dans le contexte de with\")\n",
    "            return True\n",
    "        else:\n",
    "            print(f\"Type of the Exception : {exc_type}\")\n",
    "            print(f\"Value of the Isntance : {exc_value}\")\n",
    "            return True\n",
    "\n",
    "\n",
    "with ContexteIllustration():\n",
    "    print( \" Je suis dans le contexte de with : Instruction 1\")\n",
    "    print( \" Je suis dans le contexte de with : Instruction 2\")\n",
    "    raise ValueError(\" La donnée est pas bonne\")\n",
    "# d'exception         "
   ]
  },
  {
   "cell_type": "markdown",
   "id": "82749fa5-6765-4558-adf1-491d267f3559",
   "metadata": {},
   "source": [
    "Exemple avec application de patch temporaire"
   ]
  },
  {
   "cell_type": "code",
   "execution_count": 14,
   "id": "4e9b24a5-c3fd-45bf-9aa3-fde6dc1fd232",
   "metadata": {},
   "outputs": [
    {
     "name": "stdout",
     "output_type": "stream",
     "text": [
      "Instruction 1\n"
     ]
    }
   ],
   "source": [
    "\n",
    "class Config:\n",
    "    etat = \"normal\"\n",
    "\n",
    "config = Config()\n",
    "\n",
    "etat_orignal = config.etat\n",
    "\n",
    "try: \n",
    "    config.etat = \"temporaire\"\n",
    "    print(\"Instruction 1\")\n",
    "finally:\n",
    "    config.etat = etat_orignal"
   ]
  },
  {
   "cell_type": "code",
   "execution_count": 18,
   "id": "6c812aaf-dfc0-4b90-abc9-309255e68aca",
   "metadata": {},
   "outputs": [
    {
     "name": "stdout",
     "output_type": "stream",
     "text": [
      "Etat Courant : temp\n",
      "fin __enter__\n",
      "instruction 1\n",
      "Etat Courant : normal\n",
      "fin __exit__\n",
      "Etat Courant : temporatire_etat\n",
      "fin __enter__\n",
      "instruction 2\n",
      "Etat Courant : Precision10-5\n",
      "fin __exit__\n"
     ]
    }
   ],
   "source": [
    "class ConfigManager:\n",
    "    def __init__(self, currentConfig, etatTemporaire):\n",
    "        self.currentConfig = currentConfig\n",
    "        self.etatTemporaire = etatTemporaire\n",
    "        \n",
    "    def __enter__(self):\n",
    "        self.currentEtat = self.currentConfig.etat\n",
    "        self.currentConfig.etat = self.etatTemporaire\n",
    "        print(f\"Etat Courant : {self.currentConfig.etat}\")\n",
    "        print(\"fin __enter__\")\n",
    "        \n",
    "    def __exit__(self, exc_type, exc_value, traceback):\n",
    "        self.currentConfig.etat = self.currentEtat\n",
    "        print(f\"Etat Courant : {self.currentConfig.etat}\")\n",
    "        print(\"fin __exit__\")\n",
    "        return True\n",
    "        \n",
    "config = Config()\n",
    "\n",
    "with ConfigManager(config, \"temp\"):\n",
    "    print(\"instruction 1\")\n",
    "config.etat = \"Precision10-5\"\n",
    "with ConfigManager(config, \"temporatire_etat\"):\n",
    "    print(\"instruction 2\")\n",
    "\n",
    "\n"
   ]
  },
  {
   "cell_type": "code",
   "execution_count": 20,
   "id": "e70f25e7-7006-484f-843c-a1580acc55ce",
   "metadata": {},
   "outputs": [
    {
     "name": "stdout",
     "output_type": "stream",
     "text": [
      " Je suis entrée dans le contexte, des opération de préparations\n",
      "Ceci est ma valeur de retour\n",
      " Je suis dans le contexte de with : Instruction 1\n",
      " Je suis dans le contexte de with : Instruction 2\n",
      "On quitte le contexte\n",
      "Pas d'erreurs pendant les instructions dans le contexte de with\n"
     ]
    }
   ],
   "source": [
    "class ContexteIllustrationWithRetour:\n",
    "    def __enter__(self):\n",
    "        print(\" Je suis entrée dans le contexte, des opération de préparations\")\n",
    "        return \"Ceci est ma valeur de retour\"\n",
    "        \n",
    "    def __exit__(self, exc_type, exc_value, traceback):\n",
    "        print(\"On quitte le contexte\")\n",
    "        if exc_type is None:\n",
    "            print(\"Pas d'erreurs pendant les instructions dans le contexte de with\")\n",
    "            return True\n",
    "        else:\n",
    "            print(f\"Type of the Exception : {exc_type}\")\n",
    "            print(f\"Value of the Isntance : {exc_value}\")\n",
    "            return True\n",
    "\n",
    "\n",
    "with ContexteIllustrationWithRetour() as valeur_de_retour_de_enter:\n",
    "    print(valeur_de_retour_de_enter)\n",
    "    print( \" Je suis dans le contexte de with : Instruction 1\")\n",
    "    print( \" Je suis dans le contexte de with : Instruction 2\")\n",
    "# d'exception       "
   ]
  },
  {
   "cell_type": "code",
   "execution_count": null,
   "id": "f7bc4bf8-9e33-472d-aad7-52e014100e10",
   "metadata": {},
   "outputs": [],
   "source": []
  }
 ],
 "metadata": {
  "kernelspec": {
   "display_name": "Python 3 (ipykernel)",
   "language": "python",
   "name": "python3"
  },
  "language_info": {
   "codemirror_mode": {
    "name": "ipython",
    "version": 3
   },
   "file_extension": ".py",
   "mimetype": "text/x-python",
   "name": "python",
   "nbconvert_exporter": "python",
   "pygments_lexer": "ipython3",
   "version": "3.12.0"
  }
 },
 "nbformat": 4,
 "nbformat_minor": 5
}
