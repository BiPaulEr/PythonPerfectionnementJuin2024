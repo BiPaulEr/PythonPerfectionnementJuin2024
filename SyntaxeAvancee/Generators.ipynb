{
 "cells": [
  {
   "cell_type": "code",
   "execution_count": 31,
   "id": "f8aef832-dc4d-4920-9053-976aa13a577b",
   "metadata": {},
   "outputs": [
    {
     "name": "stdout",
     "output_type": "stream",
     "text": [
      "0\n"
     ]
    }
   ],
   "source": [
    "def listeNumber(limit):\n",
    "    current = 0\n",
    "    while current < limit:\n",
    "        yield current\n",
    "        current +=1\n",
    "\n",
    "listNumberInstance = listeNumber(20)\n",
    "print(next(listNumberInstance))"
   ]
  },
  {
   "cell_type": "code",
   "execution_count": 32,
   "id": "05b32127-7a7b-4b5e-85d0-82624ae8f73c",
   "metadata": {},
   "outputs": [
    {
     "name": "stdout",
     "output_type": "stream",
     "text": [
      "1\n"
     ]
    }
   ],
   "source": [
    "print(next(listNumberInstance))"
   ]
  },
  {
   "cell_type": "code",
   "execution_count": 33,
   "id": "c9302d3e-14e1-4407-bdb6-e297739088de",
   "metadata": {},
   "outputs": [
    {
     "name": "stdout",
     "output_type": "stream",
     "text": [
      "2\n"
     ]
    }
   ],
   "source": [
    "print(next(listNumberInstance))"
   ]
  },
  {
   "cell_type": "code",
   "execution_count": 34,
   "id": "6ad162e1-3c30-4745-b717-8c6bf14451f3",
   "metadata": {},
   "outputs": [
    {
     "name": "stdout",
     "output_type": "stream",
     "text": [
      "0\n"
     ]
    }
   ],
   "source": [
    "listNumberInstanceLimit1 = listeNumber(1)\n",
    "print(next(listNumberInstanceLimit1))"
   ]
  },
  {
   "cell_type": "code",
   "execution_count": 35,
   "id": "9bcb5032-f412-4e69-b7c1-50a3ef0b58eb",
   "metadata": {},
   "outputs": [
    {
     "ename": "StopIteration",
     "evalue": "",
     "output_type": "error",
     "traceback": [
      "\u001b[1;31m---------------------------------------------------------------------------\u001b[0m",
      "\u001b[1;31mStopIteration\u001b[0m                             Traceback (most recent call last)",
      "Cell \u001b[1;32mIn[35], line 1\u001b[0m\n\u001b[1;32m----> 1\u001b[0m \u001b[38;5;28mprint\u001b[39m(\u001b[38;5;28;43mnext\u001b[39;49m\u001b[43m(\u001b[49m\u001b[43mlistNumberInstanceLimit1\u001b[49m\u001b[43m)\u001b[49m)\n",
      "\u001b[1;31mStopIteration\u001b[0m: "
     ]
    }
   ],
   "source": [
    "print(next(listNumberInstanceLimit1))"
   ]
  },
  {
   "cell_type": "code",
   "execution_count": 36,
   "id": "36337509-1b31-47d1-b338-614a797ffd0f",
   "metadata": {},
   "outputs": [
    {
     "name": "stdout",
     "output_type": "stream",
     "text": [
      "0\n",
      "1\n",
      "2\n",
      "3\n",
      "4\n",
      "5\n",
      "6\n",
      "7\n",
      "8\n",
      "9\n",
      "10\n",
      "11\n",
      "12\n",
      "13\n",
      "14\n",
      "15\n",
      "16\n",
      "17\n",
      "18\n",
      "19\n",
      "20\n",
      "21\n",
      "22\n",
      "23\n",
      "24\n",
      "25\n",
      "26\n",
      "27\n",
      "28\n",
      "29\n"
     ]
    }
   ],
   "source": [
    "listNumber30 = listeNumber(30)\n",
    "for number in listNumber30:\n",
    "    print(number)"
   ]
  },
  {
   "cell_type": "code",
   "execution_count": 39,
   "id": "2981e4af-c7e5-4026-9cf3-c9c804cd2da7",
   "metadata": {},
   "outputs": [
    {
     "name": "stdout",
     "output_type": "stream",
     "text": [
      "[1, 1, 2, 3, 5, 8, 13, 21, 34, 55, 89, 144, 233, 377, 610, 987, 1597, 2584, 4181]\n"
     ]
    }
   ],
   "source": [
    "def fibonacci():\n",
    "    a, b = 0, 1\n",
    "    while True:\n",
    "        yield b\n",
    "        a, b = b, a+b\n",
    "fib = fibonacci()\n",
    "print([next(fib) for i in range (1, 20)])"
   ]
  },
  {
   "cell_type": "code",
   "execution_count": null,
   "id": "7e6f886f-a055-42fd-9e94-55e2c4cd301a",
   "metadata": {},
   "outputs": [],
   "source": []
  }
 ],
 "metadata": {
  "kernelspec": {
   "display_name": "Python 3 (ipykernel)",
   "language": "python",
   "name": "python3"
  },
  "language_info": {
   "codemirror_mode": {
    "name": "ipython",
    "version": 3
   },
   "file_extension": ".py",
   "mimetype": "text/x-python",
   "name": "python",
   "nbconvert_exporter": "python",
   "pygments_lexer": "ipython3",
   "version": "3.12.0"
  }
 },
 "nbformat": 4,
 "nbformat_minor": 5
}
