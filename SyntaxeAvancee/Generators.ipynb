{
 "cells": [
  {
   "cell_type": "code",
   "execution_count": 31,
   "id": "f8aef832-dc4d-4920-9053-976aa13a577b",
   "metadata": {},
   "outputs": [
    {
     "name": "stdout",
     "output_type": "stream",
     "text": [
      "0\n"
     ]
    }
   ],
   "source": [
    "def listeNumber(limit):\n",
    "    current = 0\n",
    "    while current < limit:\n",
    "        yield current\n",
    "        current +=1\n",
    "\n",
    "listNumberInstance = listeNumber(20)\n",
    "print(next(listNumberInstance))"
   ]
  },
  {
   "cell_type": "code",
   "execution_count": 32,
   "id": "05b32127-7a7b-4b5e-85d0-82624ae8f73c",
   "metadata": {},
   "outputs": [
    {
     "name": "stdout",
     "output_type": "stream",
     "text": [
      "1\n"
     ]
    }
   ],
   "source": [
    "print(next(listNumberInstance))"
   ]
  },
  {
   "cell_type": "code",
   "execution_count": 33,
   "id": "c9302d3e-14e1-4407-bdb6-e297739088de",
   "metadata": {},
   "outputs": [
    {
     "name": "stdout",
     "output_type": "stream",
     "text": [
      "2\n"
     ]
    }
   ],
   "source": [
    "print(next(listNumberInstance))"
   ]
  },
  {
   "cell_type": "code",
   "execution_count": 34,
   "id": "6ad162e1-3c30-4745-b717-8c6bf14451f3",
   "metadata": {},
   "outputs": [
    {
     "name": "stdout",
     "output_type": "stream",
     "text": [
      "0\n"
     ]
    }
   ],
   "source": [
    "listNumberInstanceLimit1 = listeNumber(1)\n",
    "print(next(listNumberInstanceLimit1))"
   ]
  },
  {
   "cell_type": "code",
   "execution_count": 35,
   "id": "9bcb5032-f412-4e69-b7c1-50a3ef0b58eb",
   "metadata": {},
   "outputs": [
    {
     "ename": "StopIteration",
     "evalue": "",
     "output_type": "error",
     "traceback": [
      "\u001b[1;31m---------------------------------------------------------------------------\u001b[0m",
      "\u001b[1;31mStopIteration\u001b[0m                             Traceback (most recent call last)",
      "Cell \u001b[1;32mIn[35], line 1\u001b[0m\n\u001b[1;32m----> 1\u001b[0m \u001b[38;5;28mprint\u001b[39m(\u001b[38;5;28;43mnext\u001b[39;49m\u001b[43m(\u001b[49m\u001b[43mlistNumberInstanceLimit1\u001b[49m\u001b[43m)\u001b[49m)\n",
      "\u001b[1;31mStopIteration\u001b[0m: "
     ]
    }
   ],
   "source": [
    "print(next(listNumberInstanceLimit1))"
   ]
  },
  {
   "cell_type": "code",
   "execution_count": 36,
   "id": "36337509-1b31-47d1-b338-614a797ffd0f",
   "metadata": {},
   "outputs": [
    {
     "name": "stdout",
     "output_type": "stream",
     "text": [
      "0\n",
      "1\n",
      "2\n",
      "3\n",
      "4\n",
      "5\n",
      "6\n",
      "7\n",
      "8\n",
      "9\n",
      "10\n",
      "11\n",
      "12\n",
      "13\n",
      "14\n",
      "15\n",
      "16\n",
      "17\n",
      "18\n",
      "19\n",
      "20\n",
      "21\n",
      "22\n",
      "23\n",
      "24\n",
      "25\n",
      "26\n",
      "27\n",
      "28\n",
      "29\n"
     ]
    }
   ],
   "source": [
    "listNumber30 = listeNumber(30)\n",
    "for number in listNumber30:\n",
    "    print(number)"
   ]
  },
  {
   "cell_type": "code",
   "execution_count": 39,
   "id": "2981e4af-c7e5-4026-9cf3-c9c804cd2da7",
   "metadata": {},
   "outputs": [
    {
     "name": "stdout",
     "output_type": "stream",
     "text": [
      "[1, 1, 2, 3, 5, 8, 13, 21, 34, 55, 89, 144, 233, 377, 610, 987, 1597, 2584, 4181]\n"
     ]
    }
   ],
   "source": [
    "def fibonacci():\n",
    "    a, b = 0, 1\n",
    "    while True:\n",
    "        yield b\n",
    "        a, b = b, a+b\n",
    "fib = fibonacci()\n",
    "print([next(fib) for i in range (1, 20)])"
   ]
  },
  {
   "cell_type": "code",
   "execution_count": 44,
   "id": "7e6f886f-a055-42fd-9e94-55e2c4cd301a",
   "metadata": {},
   "outputs": [
    {
     "name": "stdout",
     "output_type": "stream",
     "text": [
      "2\n",
      "3\n",
      "5\n",
      "7\n",
      "11\n",
      "13\n",
      "17\n",
      "19\n"
     ]
    }
   ],
   "source": [
    "def PrimeIterator(limit):\n",
    "    current = 2\n",
    "    while current < limit:\n",
    "        is_prime = True\n",
    "        for num in range (2, current):\n",
    "            if current % num == 0:\n",
    "                is_prime = False\n",
    "                break\n",
    "        if is_prime:\n",
    "            prime = current\n",
    "            yield prime\n",
    "        current += 1\n",
    "primeiterator = PrimeIterator(20)\n",
    "for num in primeiterator:\n",
    "    print(num)"
   ]
  },
  {
   "cell_type": "code",
   "execution_count": 45,
   "id": "a643244c-f0f1-481b-9f66-037d6185f16f",
   "metadata": {},
   "outputs": [
    {
     "name": "stdout",
     "output_type": "stream",
     "text": [
      "2\n",
      "3\n",
      "5\n",
      "7\n",
      "11\n",
      "13\n",
      "17\n",
      "19\n"
     ]
    }
   ],
   "source": [
    "for num in PrimeIterator(20):\n",
    "    print(num)"
   ]
  },
  {
   "cell_type": "code",
   "execution_count": 46,
   "id": "fdf3aa05-793a-4c48-bb9c-f925951c1936",
   "metadata": {},
   "outputs": [
    {
     "name": "stdout",
     "output_type": "stream",
     "text": [
      "2\n",
      "3\n",
      "5\n",
      "7\n",
      "11\n",
      "13\n",
      "17\n",
      "19\n"
     ]
    }
   ],
   "source": [
    "for num in PrimeIterator(20):\n",
    "    print(num)"
   ]
  },
  {
   "cell_type": "code",
   "execution_count": 51,
   "id": "a02ff976-08ee-454e-b8c9-327af817326d",
   "metadata": {},
   "outputs": [],
   "source": [
    "def psychologue():\n",
    "    print(\"Comment ca va ?\")\n",
    "    while True:\n",
    "        reponse = yield \n",
    "        if reponse is not None:\n",
    "            if reponse.endswith(\"?\"):\n",
    "                print(\"C'est moi qui pose les questions.\")\n",
    "            elif \"bien\" in reponse:\n",
    "                print(\"Vous me devez de l'argent\")\n",
    "            elif \"mal\" in reponse:\n",
    "                print(\"Vous etez sure ?\")\n",
    "            else:\n",
    "                print(\"Je ne vous entends pas\")\n",
    "psychologue_en_carton = psychologue()  \n"
   ]
  },
  {
   "cell_type": "code",
   "execution_count": 52,
   "id": "5bcfa02d-5ce6-4529-9ca6-12baef2cab14",
   "metadata": {},
   "outputs": [
    {
     "name": "stdout",
     "output_type": "stream",
     "text": [
      "Comment ca va ?\n"
     ]
    }
   ],
   "source": [
    "next(psychologue_en_carton)"
   ]
  },
  {
   "cell_type": "code",
   "execution_count": 53,
   "id": "ad8ae287-2e12-4e29-93e1-cff40ce638be",
   "metadata": {},
   "outputs": [
    {
     "name": "stdout",
     "output_type": "stream",
     "text": [
      "C'est moi qui pose les questions.\n"
     ]
    }
   ],
   "source": [
    "psychologue_en_carton.send(\" je ne sais pas ?\")\n"
   ]
  },
  {
   "cell_type": "code",
   "execution_count": 54,
   "id": "e389193b-041e-4779-915c-83651d11e51e",
   "metadata": {},
   "outputs": [
    {
     "name": "stdout",
     "output_type": "stream",
     "text": [
      "Vous me devez de l'argent\n"
     ]
    }
   ],
   "source": [
    "psychologue_en_carton.send(\"bien finalement\")"
   ]
  },
  {
   "cell_type": "code",
   "execution_count": 55,
   "id": "d46c13d8-743c-4864-a41d-79cc7189d20b",
   "metadata": {},
   "outputs": [
    {
     "ename": "TypeError",
     "evalue": "can't send non-None value to a just-started generator",
     "output_type": "error",
     "traceback": [
      "\u001b[1;31m---------------------------------------------------------------------------\u001b[0m",
      "\u001b[1;31mTypeError\u001b[0m                                 Traceback (most recent call last)",
      "Cell \u001b[1;32mIn[55], line 2\u001b[0m\n\u001b[0;32m      1\u001b[0m psychologue_en_carton_deux \u001b[38;5;241m=\u001b[39m psychologue()  \n\u001b[1;32m----> 2\u001b[0m \u001b[43mpsychologue_en_carton_deux\u001b[49m\u001b[38;5;241;43m.\u001b[39;49m\u001b[43msend\u001b[49m\u001b[43m(\u001b[49m\u001b[38;5;124;43m\"\u001b[39;49m\u001b[38;5;124;43mtest\u001b[39;49m\u001b[38;5;124;43m\"\u001b[39;49m\u001b[43m)\u001b[49m\n",
      "\u001b[1;31mTypeError\u001b[0m: can't send non-None value to a just-started generator"
     ]
    }
   ],
   "source": [
    "psychologue_en_carton_deux = psychologue()  \n",
    "psychologue_en_carton_deux.send(\"test\")"
   ]
  },
  {
   "cell_type": "code",
   "execution_count": 56,
   "id": "ffb59443-6181-4087-bf91-019c3e16d6e0",
   "metadata": {},
   "outputs": [
    {
     "name": "stdout",
     "output_type": "stream",
     "text": [
      "Comment ca va ?\n",
      "C'est moi qui pose les questions.\n",
      "Attraper par le generateur du psychologue c'est pas gentil pour un psychologue\n"
     ]
    }
   ],
   "source": [
    "def psychologue():\n",
    "    print(\"Comment ca va ?\")\n",
    "    while True:\n",
    "        try:\n",
    "            reponse = yield \n",
    "            if reponse is not None:\n",
    "                if reponse.endswith(\"?\"):\n",
    "                    print(\"C'est moi qui pose les questions.\")\n",
    "                elif \"bien\" in reponse:\n",
    "                    print(\"Vous me devez de l'argent\")\n",
    "                elif \"mal\" in reponse:\n",
    "                    print(\"Vous etez sure ?\")\n",
    "                else:\n",
    "                    print(\"Je ne vous entends pas\")\n",
    "        except Exception as e:\n",
    "            print(f\"Attraper par le generateur du psychologue {e}\")\n",
    "psychologue_en_carton = psychologue()  \n",
    "next(psychologue_en_carton)\n",
    "psychologue_en_carton.send(\" je ne sais pas ?\")\n",
    "psychologue_en_carton.throw(Exception(\"c'est pas gentil pour un psychologue\"))\n"
   ]
  },
  {
   "cell_type": "code",
   "execution_count": 57,
   "id": "bb00f402-9130-4b91-88b0-06c7ff8d2da8",
   "metadata": {},
   "outputs": [
    {
     "name": "stdout",
     "output_type": "stream",
     "text": [
      "Comment ca va ?\n",
      "C'est moi qui pose les questions.\n",
      "Au revoir quand même\n"
     ]
    }
   ],
   "source": [
    "def psychologue():\n",
    "    print(\"Comment ca va ?\")\n",
    "    try:\n",
    "        while True:\n",
    "            try:\n",
    "                reponse = yield \n",
    "                if reponse is not None:\n",
    "                    if reponse.endswith(\"?\"):\n",
    "                        print(\"C'est moi qui pose les questions.\")\n",
    "                    elif \"bien\" in reponse:\n",
    "                        print(\"Vous me devez de l'argent\")\n",
    "                    elif \"mal\" in reponse:\n",
    "                        print(\"Vous etez sure ?\")\n",
    "                    else:\n",
    "                        print(\"Je ne vous entends pas\")\n",
    "            except Exception as e:\n",
    "                print(f\"Attraper par le generateur du psychologue {e}\")\n",
    "    except GeneratorExit as ge:\n",
    "        print(\"Au revoir quand même\")\n",
    "        \n",
    "psychologue_en_carton = psychologue()  \n",
    "next(psychologue_en_carton)\n",
    "psychologue_en_carton.send(\" je ne sais pas ?\")\n",
    "psychologue_en_carton.close()\n"
   ]
  },
  {
   "cell_type": "code",
   "execution_count": null,
   "id": "ed369f9e-686a-47d1-a420-45d7b618d9fc",
   "metadata": {},
   "outputs": [],
   "source": []
  }
 ],
 "metadata": {
  "kernelspec": {
   "display_name": "Python 3 (ipykernel)",
   "language": "python",
   "name": "python3"
  },
  "language_info": {
   "codemirror_mode": {
    "name": "ipython",
    "version": 3
   },
   "file_extension": ".py",
   "mimetype": "text/x-python",
   "name": "python",
   "nbconvert_exporter": "python",
   "pygments_lexer": "ipython3",
   "version": "3.12.0"
  }
 },
 "nbformat": 4,
 "nbformat_minor": 5
}
